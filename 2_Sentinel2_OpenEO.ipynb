{
 "cells": [
  {
   "cell_type": "markdown",
   "metadata": {},
   "source": [
    "<img src='https://gitlab.eumetsat.int/eumetlab/oceans/ocean-training/tools/frameworks/-/raw/main/img/Standard_banner.png' align='right' width='100%'/>"
   ]
  },
  {
   "cell_type": "markdown",
   "metadata": {},
   "source": [
    "<font color=\"#138D75\">**NERO Winter School training**</font> <br>\n",
    "**Copyright:** (c) 2025 EUMETSAT <br>\n",
    "**License:** GPL-3.0-or-later <br>\n",
    "**Authors:** Dominika Leskow-Czyżewska (EUMETSAT), based on <a href='https://github.com/eu-cdse/notebook-samples/blob/main/openeo/Batch_job.ipynb'>OpenEO Copernicus Data Space Ecosystem Sample notebooks</a>."
   ]
  },
  {
   "attachments": {},
   "cell_type": "markdown",
   "metadata": {},
   "source": [
    "# Sentinel-2 full resolution imagery - Using openEO Batch Jobs To Run Large and Heavy Workflows\n",
    "\n",
    "\n",
    "Most of the simple, basic openEO usage examples show synchronous execution of process graphs:\n",
    "you submit a process graph with a HTTP request and receive the result as direct response of that same request. \n",
    "This is only feasible if the processing doesn’t take too long (a couple of minutes at most).\n",
    "\n",
    "\n",
    "For the heavier work, covering large regions of interest, long time series, more intensive processing, etc, you have to use batch jobs.\n",
    "\n",
    "This notebook shows how to programmatically create and interact with batch job using the openEO Python client library."
   ]
  },
  {
   "cell_type": "markdown",
   "metadata": {},
   "source": [
    "## Set up"
   ]
  },
  {
   "cell_type": "markdown",
   "metadata": {},
   "source": [
    "Import `openeo` package and establish an authenticated connection to Copernicus Data Space Ecosystem openEO back-end."
   ]
  },
  {
   "cell_type": "code",
   "execution_count": 1,
   "metadata": {},
   "outputs": [
    {
     "name": "stderr",
     "output_type": "stream",
     "text": [
      "/home/jovyan/nero-winter-school-2025/nero_winter_school/lib/python3.11/site-packages/pyproj/network.py:59: UserWarning: pyproj unable to set PROJ database path.\n",
      "  _set_context_ca_bundle_path(ca_bundle_path)\n"
     ]
    }
   ],
   "source": [
    "import openeo\n",
    "from os import chmod"
   ]
  },
  {
   "cell_type": "code",
   "execution_count": 3,
   "metadata": {},
   "outputs": [],
   "source": [
    "# Uncomment the line below the the cell below encounters an error\n",
    "# chmod('/home/jovyan/.local/share/openeo-python-client/refresh-tokens.json', 0o600)"
   ]
  },
  {
   "cell_type": "code",
   "execution_count": 4,
   "metadata": {},
   "outputs": [
    {
     "name": "stdout",
     "output_type": "stream",
     "text": [
      "Authenticated using refresh token.\n"
     ]
    },
    {
     "data": {
      "text/plain": [
       "<Connection to 'https://openeo.dataspace.copernicus.eu/openeo/1.2/' with OidcBearerAuth>"
      ]
     },
     "execution_count": 4,
     "metadata": {},
     "output_type": "execute_result"
    }
   ],
   "source": [
    "connection = openeo.connect(url=\"openeo.dataspace.copernicus.eu\")\n",
    "connection.authenticate_oidc()"
   ]
  },
  {
   "cell_type": "markdown",
   "metadata": {},
   "source": [
    "## Build data cube\n",
    "\n",
    "Start with a simple data cube: small spatiotemporal slice of `SENTINEL2_L2A` data:"
   ]
  },
  {
   "cell_type": "code",
   "execution_count": 5,
   "metadata": {},
   "outputs": [],
   "source": [
    "#  lat-lon geographical bounds of search area\n",
    "W = 23.3\n",
    "S = 37.8\n",
    "E = 24.5\n",
    "N = 38.5\n",
    "\n",
    "start_date = \"2024-08-07\"\n",
    "end_date = \"2024-08-18\"\n",
    "\n",
    "run_name = \"varnavas_example\"\n",
    "output_dir = './example_data/'\n",
    "\n",
    "bands = [\"B08\", \"B04\", \"B03\", \"B02\", \"B12\"]"
   ]
  },
  {
   "cell_type": "code",
   "execution_count": 6,
   "metadata": {},
   "outputs": [],
   "source": [
    "datacube = connection.load_collection(\n",
    "    \"SENTINEL2_L2A\",\n",
    "    bands=bands,\n",
    "    temporal_extent=(start_date, end_date),\n",
    "    spatial_extent={\n",
    "        \"west\": W,\n",
    "        \"south\": S,\n",
    "        \"east\": E,\n",
    "        \"north\": N,\n",
    "        \"crs\": \"EPSG:4326\",\n",
    "    },\n",
    "    max_cloud_cover=100,\n",
    ")"
   ]
  },
  {
   "cell_type": "markdown",
   "metadata": {},
   "source": [
    "Set up output format to be GeoTIFF:"
   ]
  },
  {
   "cell_type": "code",
   "execution_count": 7,
   "metadata": {},
   "outputs": [],
   "source": [
    "job = datacube.save_result(format=\"GTiff\")"
   ]
  },
  {
   "attachments": {},
   "cell_type": "markdown",
   "metadata": {},
   "source": [
    "## Run as Batch Job\n",
    "\n",
    "The easiest way to run our processing as a batch job is using the `execute_batch()` helper,\n",
    "which takes care of creating a batch job, starting it, and keep polling its status until it's finished (or failed).\n",
    "\n",
    "While not necessary, it is recommended to give your batch job a descriptive title so it’s easier to identify in your job listing."
   ]
  },
  {
   "cell_type": "code",
   "execution_count": 8,
   "metadata": {},
   "outputs": [
    {
     "name": "stdout",
     "output_type": "stream",
     "text": [
      "0:00:00 Job 'j-2502191742104f609ad6db65dac8d066': send 'start'\n",
      "0:00:13 Job 'j-2502191742104f609ad6db65dac8d066': created (progress 0%)\n",
      "0:00:18 Job 'j-2502191742104f609ad6db65dac8d066': created (progress 0%)\n",
      "0:00:24 Job 'j-2502191742104f609ad6db65dac8d066': created (progress 0%)\n",
      "0:00:32 Job 'j-2502191742104f609ad6db65dac8d066': created (progress 0%)\n",
      "0:00:42 Job 'j-2502191742104f609ad6db65dac8d066': created (progress 0%)\n",
      "0:00:54 Job 'j-2502191742104f609ad6db65dac8d066': running (progress N/A)\n",
      "0:01:10 Job 'j-2502191742104f609ad6db65dac8d066': running (progress N/A)\n",
      "0:01:29 Job 'j-2502191742104f609ad6db65dac8d066': running (progress N/A)\n",
      "0:01:53 Job 'j-2502191742104f609ad6db65dac8d066': running (progress N/A)\n",
      "0:02:23 Job 'j-2502191742104f609ad6db65dac8d066': running (progress N/A)\n",
      "0:03:00 Job 'j-2502191742104f609ad6db65dac8d066': running (progress N/A)\n",
      "0:03:47 Job 'j-2502191742104f609ad6db65dac8d066': running (progress N/A)\n",
      "0:04:45 Job 'j-2502191742104f609ad6db65dac8d066': running (progress N/A)\n",
      "0:05:45 Job 'j-2502191742104f609ad6db65dac8d066': running (progress N/A)\n",
      "0:06:45 Job 'j-2502191742104f609ad6db65dac8d066': running (progress N/A)\n",
      "0:07:45 Job 'j-2502191742104f609ad6db65dac8d066': finished (progress 100%)\n",
      "Download complete!\n"
     ]
    }
   ],
   "source": [
    "job = job.execute_batch(title=\"Slice of S2 data\")\n",
    "print(\"Download complete!\")"
   ]
  },
  {
   "attachments": {},
   "cell_type": "markdown",
   "metadata": {},
   "source": [
    "If you need a bit more control over the lifetime of a batch job, \n",
    "you can do each step manually, e.g. \n",
    "- create a job with `job = cube.create_job()`\n",
    "- start a job with `job.start_job()`\n",
    "- wait until `job.status()` reaches `\"finished\"`\n"
   ]
  },
  {
   "attachments": {},
   "cell_type": "markdown",
   "metadata": {
    "jp-MarkdownHeadingCollapsed": true
   },
   "source": [
    "## Optional: Inspecting a Job\n",
    "\n",
    "A batch job on a back-end is fully identified by its job id. Especially if a job fails, it might be useful to check the logs to understand why it was the case."
   ]
  },
  {
   "cell_type": "markdown",
   "metadata": {},
   "source": [
    "In case of the job we created above:"
   ]
  },
  {
   "cell_type": "code",
   "execution_count": 9,
   "metadata": {},
   "outputs": [
    {
     "data": {
      "text/plain": [
       "'j-2502031342484645a2d4283c99fcad56'"
      ]
     },
     "execution_count": 9,
     "metadata": {},
     "output_type": "execute_result"
    }
   ],
   "source": [
    "job.job_id"
   ]
  },
  {
   "attachments": {},
   "cell_type": "markdown",
   "metadata": {},
   "source": [
    "It's recommended to properly take note of the batch job id.\n",
    "It allows you to “reconnect” to your job (using `connection.job(job_id)`) on the back-end, \n",
    "even if it was created at another time, by another script/notebook or even with another openEO client.\n",
    "\n",
    "\n",
    "A batch job typically takes some time to finish, and you can check its status with the `status()` method."
   ]
  },
  {
   "cell_type": "code",
   "execution_count": 7,
   "metadata": {},
   "outputs": [
    {
     "data": {
      "text/plain": [
       "'finished'"
      ]
     },
     "execution_count": 7,
     "metadata": {},
     "output_type": "execute_result"
    }
   ],
   "source": [
    "job.status()"
   ]
  },
  {
   "attachments": {},
   "cell_type": "markdown",
   "metadata": {},
   "source": [
    "Batch job logs can be fetched with `job.logs()`. If you prefer a graphical, web-based interactive environment to manage and monitor your batch jobs, feel free to switch to an openEO web editor like [openeo.dataspace.copernicus.eu](https://openeo.dataspace.copernicus.eu/) at any time."
   ]
  },
  {
   "cell_type": "code",
   "execution_count": 23,
   "metadata": {},
   "outputs": [
    {
     "data": {
      "text/html": [
       "\n",
       "    <script>\n",
       "    if (!window.customElements || !window.customElements.get('openeo-logs')) {\n",
       "        var el = document.createElement('script');\n",
       "        el.src = \"https://cdn.jsdelivr.net/npm/@openeo/vue-components@2/assets/openeo.min.js\";\n",
       "        document.head.appendChild(el);\n",
       "\n",
       "        var font = document.createElement('font');\n",
       "        font.as = \"font\";\n",
       "        font.type = \"font/woff2\";\n",
       "        font.crossOrigin = true;\n",
       "        font.href = \"https://use.fontawesome.com/releases/v5.13.0/webfonts/fa-solid-900.woff2\"\n",
       "        document.head.appendChild(font);\n",
       "    }\n",
       "    </script>\n",
       "    <openeo-logs>\n",
       "        <script type=\"application/json\">{\"logs\": [{\"id\": \"[1738658869688, 620896]\", \"time\": \"2025-02-04T08:47:49.688Z\", \"level\": \"info\", \"message\": \"Starting batch job os.getpid()=76: start 2025-02-04 08:47:49.687827\"}, {\"id\": \"[1738658870431, 595373]\", \"time\": \"2025-02-04T08:47:50.431Z\", \"level\": \"info\", \"message\": \"Loaded config config_id='os_creodias_openeo_k8s_prod' from config_path='/opt/backend_config/backendconfig.py' (reason='lazy_load')\"}, {\"id\": \"[1738658871004, 9322]\", \"time\": \"2025-02-04T08:47:51.004Z\", \"level\": \"info\", \"message\": \"Logging initialized @5423ms to org.sparkproject.jetty.util.log.Slf4jLog\"}, {\"id\": \"[1738658883081, 463622]\", \"time\": \"2025-02-04T08:48:03.081Z\", \"level\": \"info\", \"message\": \"Job spec: {\\n \\\"process_graph\\\": {\\n  \\\"apply1\\\": {\\n   \\\"process_id\\\": \\\"apply\\\",\\n   \\\"arguments\\\": {\\n    \\\"process\\\": {\\n     \\\"process_graph\\\": {\\n      \\\"multiply1\\\": {\\n       \\\"result\\\": true,\\n       \\\"process_id\\\": \\\"multiply\\\",\\n       \\\"arguments\\\": {\\n        \\\"x\\\": {\\n         \\\"from_node\\\": \\\"linearscalerange1\\\"\\n        },\\n        \\\"y\\\": 2.5\\n       }\\n      },\\n      \\\"linearscalerange1\\\": {\\n       \\\"process_id\\\": \\\"linear_scale_range\\\",\\n       \\\"arguments\\\": {\\n        \\\"inputMax\\\": 3000,\\n        \\\"inputMin\\\": 0,\\n        \\\"x\\\": {\\n         \\\"from_parameter\\\": \\\"x\\\"\\n        },\\n        \\\"outputMin\\\": 0,\\n        \\\"outputMax\\\": 255\\n       }\\n      }\\n     }\\n    },\\n    \\\"data\\\": {\\n     \\\"from_node\\\": \\\"loadcollection1\\\"\\n    }\\n   }\\n  },\\n  \\\"loadcollection1\\\": {\\n   \\\"process_id\\\": \\\"load_collection\\\",\\n   \\\"arguments\\\": {\\n    \\\"temporal_extent\\\": [\\n     \\\"2024-08-07\\\",\\n     \\\"2024-08-17\\\"\\n    ],\\n    \\\"spatial_extent\\\": {\\n     \\\"east\\\": 23.994827,\\n     \\\"south\\\": 38.017263,\\n     \\\"crs\\\": \\\"EPSG:4326\\\",\\n     \\\"north\\\": 38.267837,\\n     \\\"west\\\": 23.806\\n    },\\n    \\\"id\\\": \\\"SENTINEL2_L2A\\\",\\n    \\\"bands\\\": [\\n     \\\"B08\\\",\\n     \\\"B04\\\",\\n     \\\"B03\\\"\\n    ],\\n    \\\"properties\\\": {\\n     \\\"eo:cloud_cover\\\": {\\n      \\\"process_graph\\\": {\\n       \\\"lte1\\\": {\\n        \\\"result\\\": true,\\n        \\\"process_id\\\": \\\"lte\\\",\\n        \\\"arguments\\\": {\\n         \\\"x\\\": {\\n          \\\"from_parameter\\\": \\\"value\\\"\\n         },\\n         \\\"y\\\": 100\\n        }\\n       }\\n      }\\n     }\\n    }\\n   }\\n  },\\n  \\\"saveresult1\\\": {\\n   \\\"result\\\": true,\\n   \\\"process_id\\\": \\\"save_result\\\",\\n   \\\"arguments\\\": {\\n    \\\"data\\\": {\\n     \\\"from_node\\\": \\\"apply1\\\"\\n    },\\n    \\\"format\\\": \\\"GTiff\\\",\\n    \\\"options\\\": {}\\n   }\\n  }\\n },\\n \\\"job_options\\\": {}\\n}\"}, {\"id\": \"[1738658884845, 980026]\", \"time\": \"2025-02-04T08:48:04.845Z\", \"level\": \"warning\", \"message\": \"No elastic_job_registry given to GeoPySparkBackendImplementation, creating one\"}, {\"id\": \"[1738658884965, 465825]\", \"time\": \"2025-02-04T08:48:04.965Z\", \"level\": \"info\", \"message\": \"Doing 'client_credentials' token request 'https://sso.terrascope.be/auth/realms/terrascope/protocol/openid-connect/token' with post data fields ['grant_type', 'client_id', 'client_secret', 'scope'] (client_id 'openeo-elastic-job-registry')\"}, {\"id\": \"[1738658885235, 360116]\", \"time\": \"2025-02-04T08:48:05.235Z\", \"level\": \"info\", \"message\": \"EJR health check {'status': 'ok', 'info': {'elasticsearch-ping': {'status': 'up'}, 'elasticsearch-health': {'status': 'up'}, 'auth': {'status': 'up', 'state': 'ok'}}, 'error': {}, 'details': {}}\"}, {\"id\": \"[1738658885881, 19107]\", \"time\": \"2025-02-04T08:48:05.881Z\", \"level\": \"info\", \"message\": \"Doing dry run\"}, {\"id\": \"[1738658885881, 101295]\", \"time\": \"2025-02-04T08:48:05.881Z\", \"level\": \"info\", \"message\": \"Correlation id: j-2502040847274ffb8703cb9de0e1a379\"}, {\"id\": \"[1738658885881, 851630]\", \"time\": \"2025-02-04T08:48:05.881Z\", \"level\": \"info\", \"message\": \"Loaded config config_id='os_creodias_openeo_k8s_prod' from config_path='/opt/backend_config/backendconfig.py' (reason='lazy_load')\"}, {\"id\": \"[1738658885882, 883762]\", \"time\": \"2025-02-04T08:48:05.882Z\", \"level\": \"info\", \"message\": \"Dry run extracted these source constraints: [(('load_collection', ('SENTINEL2_L2A', (('eo:cloud_cover', (('lte', 100),)), ('productType', (('eq', 'L2A'),))), ('B08', 'B04', 'B03'))), {'temporal_extent': ('2024-08-07', '2024-08-17'), 'spatial_extent': {'west': 23.806, 'south': 38.017263, 'east': 23.994827, 'north': 38.267837, 'crs': 'EPSG:4326'}, 'bands': ['B08', 'B04', 'B03'], 'properties': {'productType': {'process_graph': {'asc': {'process_id': 'eq', 'arguments': {'x': {'from_parameter': 'value'}, 'y': 'L2A'}, 'result': True}}}, 'eo:cloud_cover': {'process_graph': {'lte1': {'result': True, 'process_id': 'lte', 'arguments': {'x': {'from_parameter': 'value'}, 'y': 100}}}}}})]\"}, {\"id\": \"[1738658885895, 558035]\", \"time\": \"2025-02-04T08:48:05.895Z\", \"level\": \"info\", \"message\": \"Realigned input extent {'west': 23.806, 'south': 38.017263, 'east': 23.994827, 'north': 38.267837, 'crs': 'EPSG:4326'} into BoundingBox(west=745480, south=4211440, east=762910, north=4239780, crs='EPSG:32634')\"}, {\"id\": \"[1738658885895, 590000]\", \"time\": \"2025-02-04T08:48:05.895Z\", \"level\": \"info\", \"message\": \"load_collection: start 2025-02-04 08:48:05.895173\"}, {\"id\": \"[1738658885915, 113992]\", \"time\": \"2025-02-04T08:48:05.915Z\", \"level\": \"info\", \"message\": \"load_collection: Creating raster datacube for SENTINEL2_L2A with arguments {'temporal_extent': ('2024-08-07', '2024-08-17'), 'spatial_extent': {'west': 23.806, 'south': 38.017263, 'east': 23.994827, 'north': 38.267837, 'crs': 'EPSG:4326'}, 'global_extent': {'west': 745480, 'south': 4211440, 'east': 762910, 'north': 4239780, 'crs': 'EPSG:32634'}, 'bands': ['B08', 'B04', 'B03'], 'properties': {'eo:cloud_cover': {'process_graph': {'lte1': {'result': True, 'process_id': 'lte', 'arguments': {'x': {'from_parameter': 'value'}, 'y': 100}}}}}, 'aggregate_spatial_geometries': None, 'sar_backscatter': None, 'process_types': set(), 'custom_mask': {}, 'data_mask': None, 'target_crs': None, 'target_resolution': None, 'resample_method': 'near', 'pixel_buffer': None}, environment: {'vault_token': None, 'sentinel_hub_client_alias': None, 'max_soft_errors_ratio': 0.1, 'dependencies': [], 'pyramid_levels': 'highest', 'require_bounds': True, 'correlation_id': 'j-2502040847274ffb8703cb9de0e1a379', 'user': User('dfdf5579-a85e-4474-b02e-423f6f62c5c2', None)}\"}, {\"id\": \"[1738658885915, 128054]\", \"time\": \"2025-02-04T08:48:05.915Z\", \"level\": \"info\", \"message\": \"Detected process types:set()\"}, {\"id\": \"[1738658885915, 429356]\", \"time\": \"2025-02-04T08:48:05.915Z\", \"level\": \"info\", \"message\": \"Correlation ID is 'j-2502040847274ffb8703cb9de0e1a379'\"}, {\"id\": \"[1738658887272, 596250]\", \"time\": \"2025-02-04T08:48:07.272Z\", \"level\": \"info\", \"message\": \"Loading Sentinel2 with params DataCubeParameters(128, {}, FloatingLayoutScheme, ByDay, 6, None, NearestNeighbor, 0.0, 0.0) and bands IMG_DATA_Band_B08_10m_Tile1_Data;IMG_DATA_Band_B04_10m_Tile1_Data;IMG_DATA_Band_B03_10m_Tile1_Data initial layout: LayoutDefinition(Extent(745480.0, 4210340.0, 763400.0, 4239780.0),CellSize(10.0,10.0),14x23 tiles,1792x2944 pixels)\"}, {\"id\": \"[1738658889860, 770363]\", \"time\": \"2025-02-04T08:48:09.860Z\", \"level\": \"info\", \"message\": \"https://catalogue.dataspace.copernicus.eu/resto/api/collections/Sentinel2/search.json?box=23.79637637173464%2C38.012541818860065%2C24.005140837422466%2C38.27254241733463&page=1&maxRecords=1000&status=ONLINE&dataset=ESA-DATASET&productType=L2A&cloudCover=%5B0%2C100%5D&startDate=2024-08-07T00%3A00%3A00Z&completionDate=2024-08-17T00%3A00%3A00.000000001Z returned 200\"}, {\"id\": \"[1738658891472, 723849]\", \"time\": \"2025-02-04T08:48:11.472Z\", \"level\": \"info\", \"message\": \"Datacube requires approximately 322 spatial keys.\"}, {\"id\": \"[1738658891950, 885260]\", \"time\": \"2025-02-04T08:48:11.950Z\", \"level\": \"info\", \"message\": \"Starting stage: 0 - load_collection: Sentinel2 resolution CellSize(10.0,10.0) construct input product metadata. \\nStages may combine multiple processes.\"}, {\"id\": \"[1738658897324, 98781]\", \"time\": \"2025-02-04T08:48:17.324Z\", \"level\": \"info\", \"message\": \"Starting stage: 1 - load_collection: Sentinel2 resolution CellSize(10.0,10.0) construct input product metadata. \\nStages may combine multiple processes.\"}, {\"id\": \"[1738658902518, 316336]\", \"time\": \"2025-02-04T08:48:22.518Z\", \"level\": \"info\", \"message\": \"Starting stage: 2 - load_collection: Sentinel2 resolution CellSize(10.0,10.0) construct input product metadata. \\nStages may combine multiple processes.\"}, {\"id\": \"[1738658903312, 791465]\", \"time\": \"2025-02-04T08:48:23.312Z\", \"level\": \"warning\", \"message\": \"Lost task 46.0 in stage 1.0 (TID 47) (10.42.153.178 executor 2): TaskKilled (another attempt succeeded)\"}, {\"id\": \"[1738658908519, 404780]\", \"time\": \"2025-02-04T08:48:28.519Z\", \"level\": \"warning\", \"message\": \"Lost task 52.0 in stage 2.0 (TID 114) (10.42.16.125 executor 3): TaskKilled (another attempt succeeded)\"}, {\"id\": \"[1738658908654, 278271]\", \"time\": \"2025-02-04T08:48:28.654Z\", \"level\": \"info\", \"message\": \"Datacube is sparse: false, requiring 304 keys out of 322. \"}, {\"id\": \"[1738658908704, 617927]\", \"time\": \"2025-02-04T08:48:28.704Z\", \"level\": \"info\", \"message\": \"Starting stage: 5 - load_collection: Sentinel2 resolution CellSize(10.0,10.0) construct input product metadata. \\nStages may combine multiple processes.\"}, {\"id\": \"[1738658909464, 652457]\", \"time\": \"2025-02-04T08:48:29.464Z\", \"level\": \"info\", \"message\": \"Starting stage: 6 - load_collection: Sentinel2 resolution CellSize(10.0,10.0) construct input product metadata. \\nStages may combine multiple processes.\"}, {\"id\": \"[1738658909925, 509790]\", \"time\": \"2025-02-04T08:48:29.925Z\", \"level\": \"info\", \"message\": \"Cube partitioner index: SparseSpaceTimePartitioner 48 false\"}, {\"id\": \"[1738658909968, 770350]\", \"time\": \"2025-02-04T08:48:29.968Z\", \"level\": \"info\", \"message\": \"Created cube for Sentinel2 with metadata TileLayerMetadata(int16,LayoutDefinition(Extent(745480.0, 4210340.0, 763400.0, 4239780.0),CellSize(10.0,10.0),14x23 tiles,1792x2944 pixels),Extent(745483.6655898333, 4211447.02478089, 762905.322452263, 4239775.8591517),EPSG:32634,KeyBounds(SpaceTimeKey(0,0,1722988800000),SpaceTimeKey(13,22,1723420800000))) and partitioner SparseSpaceTimePartitioner 48 false\"}, {\"id\": \"[1738658910029, 925126]\", \"time\": \"2025-02-04T08:48:30.029Z\", \"level\": \"info\", \"message\": \"load_collection: end 2025-02-04 08:48:30.028908, elapsed 0:00:24.133735\"}, {\"id\": \"[1738658910157, 184713]\", \"time\": \"2025-02-04T08:48:30.157Z\", \"level\": \"info\", \"message\": \"Evaluated process graph, result (type <class 'openeo_driver.save_result.ImageCollectionResult'>): <openeo_driver.save_result.ImageCollectionResult object at 0x7f01f8c120a0>\"}, {\"id\": \"[1738658910157, 943502]\", \"time\": \"2025-02-04T08:48:30.157Z\", \"level\": \"info\", \"message\": \"Extracting result metadata from <DryRunDataTracer (traces: [<DataSource#139646445567040('load_collection', ('SENTINEL2_L2A', {'productType': {'eq': 'L2A'}, 'eo:cloud_cover': {'lte': 100}}, ['B08', 'B04', 'B03']))>, <DataTrace#139646446520576(#139646445567040, temporal_extent, ('2024-08-07', '2024-08-17'))>, <DataTrace#139646445060240(#139646446520576, spatial_extent, {'west': 23.806, 'south': 38.017263, 'east': 23.994827, 'north': 38.267837, 'crs': 'EPSG:4326'})>, <DataTrace#139646445060480(#139646445060240, bands, ['B08', 'B04', 'B03'])>, <DataTrace#139646445060320(#139646445060480, properties, {'productType': {'process_graph': {'asc': {'process_id': 'eq', 'arguments': {'x': {'from_parameter': 'value'}, 'y': 'L2A'}, 'result': True}}}, 'eo:cloud_cover': {'process_graph': {'lte1': {'result': True, 'process_id': 'lte', 'arguments': {'x': {'from_parameter': 'value'}, 'y': 100}}}}})>, <DataTrace#139646445189216(#139646445060320, apply, {})>])>\"}, {\"id\": \"[1738658910178, 3521]\", \"time\": \"2025-02-04T08:48:30.178Z\", \"level\": \"info\", \"message\": \"wrote metadata to /batch_jobs/j-2502040847274ffb8703cb9de0e1a379/job_metadata.json\"}, {\"id\": \"[1738658910271, 594094]\", \"time\": \"2025-02-04T08:48:30.271Z\", \"level\": \"info\", \"message\": \"save_result format GTIFF with bounds Extent(xmin=745483.6655898333, ymin=4211447.02478089, xmax=762905.322452263, ymax=4239775.8591517) and options {'batch_mode': True, 'file_metadata': {'title': '', 'description': '', 'institution': 'openEO platform - Geotrellis backend: 0.59.0a1'}}\"}, {\"id\": \"[1738658910274, 834380]\", \"time\": \"2025-02-04T08:48:30.274Z\", \"level\": \"info\", \"message\": \"save_result: saveRDD\"}, {\"id\": \"[1738658910321, 430160]\", \"time\": \"2025-02-04T08:48:30.321Z\", \"level\": \"info\", \"message\": \"Write Geotiff per date Extent(745480.0, 4211440.0, 762910.0, 4239780.0), GridBounds(0,0,1742,2833), TileLayout(14,23,128,128)\"}, {\"id\": \"[1738658910375, 864504]\", \"time\": \"2025-02-04T08:48:30.375Z\", \"level\": \"info\", \"message\": \"Starting stage: 9 - load_collection: determine raster regions to read resample: false. \\nStages may combine multiple processes.\"}, {\"id\": \"[1738658915554, 983561]\", \"time\": \"2025-02-04T08:48:35.554Z\", \"level\": \"info\", \"message\": \"Starting stage: 10 - load_collection: group by input product. \\nStages may combine multiple processes.\"}, {\"id\": \"[1738658919179, 269459]\", \"time\": \"2025-02-04T08:48:39.179Z\", \"level\": \"info\", \"message\": \"Starting stage: 11 - load_collection: read by input product. \\nStages may combine multiple processes.\"}, {\"id\": \"[1738658930705, 136981]\", \"time\": \"2025-02-04T08:48:50.705Z\", \"level\": \"error\", \"message\": \"Error communicating with MapOutputTracker\"}, {\"id\": \"[1738658930743, 778672]\", \"time\": \"2025-02-04T08:48:50.743Z\", \"level\": \"warning\", \"message\": \"Lost task 10.1 in stage 11.0 (TID 375) (10.42.208.85 executor 4): TaskKilled (another attempt succeeded)\"}, {\"id\": \"[1738658934743, 684284]\", \"time\": \"2025-02-04T08:48:54.743Z\", \"level\": \"info\", \"message\": \"Starting stage: 12 - distinct at package.scala:243. \\nStages may combine multiple processes.\"}, {\"id\": \"[1738658935137, 391224]\", \"time\": \"2025-02-04T08:48:55.137Z\", \"level\": \"warning\", \"message\": \"Lost task 11.1 in stage 11.0 (TID 376) (10.42.107.121 executor 1): TaskKilled (another attempt succeeded)\"}, {\"id\": \"[1738658942032, 559445]\", \"time\": \"2025-02-04T08:49:02.032Z\", \"level\": \"info\", \"message\": \"Starting stage: 13 - collect at package.scala:243. \\nStages may combine multiple processes.\"}, {\"id\": \"[1738658942252, 635518]\", \"time\": \"2025-02-04T08:49:02.252Z\", \"level\": \"info\", \"message\": \"Starting stage: 19 - flatMap at package.scala:207. \\nStages may combine multiple processes.\"}, {\"id\": \"[1738658942723, 856387]\", \"time\": \"2025-02-04T08:49:02.723Z\", \"level\": \"info\", \"message\": \"Starting stage: 20 - collect at package.scala:244. \\nStages may combine multiple processes.\"}, {\"id\": \"[1738658942850, 297182]\", \"time\": \"2025-02-04T08:49:02.850Z\", \"level\": \"info\", \"message\": \"Writing geotiff to /batch_jobs/j-2502040847274ffb8703cb9de0e1a379/executorAttemptDirectory1105391166988399946/openEO_2024-08-07Z.tif with type float32 and bands 3.0\"}, {\"id\": \"[1738658942943, 185422]\", \"time\": \"2025-02-04T08:49:02.943Z\", \"level\": \"info\", \"message\": \"Writing geotiff to /batch_jobs/j-2502040847274ffb8703cb9de0e1a379/executorAttemptDirectory10872477705545493365/openEO_2024-08-12Z.tif with type float32 and bands 3.0\"}, {\"id\": \"[1738658944570, 418817]\", \"time\": \"2025-02-04T08:49:04.570Z\", \"level\": \"info\", \"message\": \"Waiting for path to be available. Try 1/20 (sleep:5 seconds): /batch_jobs/j-2502040847274ffb8703cb9de0e1a379/executorAttemptDirectory10872477705545493365/openEO_2024-08-12Z.tif\"}, {\"id\": \"[1738658949572, 632071]\", \"time\": \"2025-02-04T08:49:09.572Z\", \"level\": \"info\", \"message\": \"Waiting for path to be available. Try 2/20 (sleep:5 seconds): /batch_jobs/j-2502040847274ffb8703cb9de0e1a379/executorAttemptDirectory10872477705545493365/openEO_2024-08-12Z.tif\"}, {\"id\": \"[1738658954575, 11022]\", \"time\": \"2025-02-04T08:49:14.575Z\", \"level\": \"info\", \"message\": \"Waiting for path to be available. Try 3/20 (sleep:5 seconds): /batch_jobs/j-2502040847274ffb8703cb9de0e1a379/executorAttemptDirectory10872477705545493365/openEO_2024-08-12Z.tif\"}, {\"id\": \"[1738658959575, 900573]\", \"time\": \"2025-02-04T08:49:19.575Z\", \"level\": \"info\", \"message\": \"Waiting for path to be available. Try 4/20 (sleep:5 seconds): /batch_jobs/j-2502040847274ffb8703cb9de0e1a379/executorAttemptDirectory10872477705545493365/openEO_2024-08-12Z.tif\"}, {\"id\": \"[1738658964576, 562898]\", \"time\": \"2025-02-04T08:49:24.576Z\", \"level\": \"info\", \"message\": \"Waiting for path to be available. Try 5/20 (sleep:5 seconds): /batch_jobs/j-2502040847274ffb8703cb9de0e1a379/executorAttemptDirectory10872477705545493365/openEO_2024-08-12Z.tif\"}, {\"id\": \"[1738658969577, 231997]\", \"time\": \"2025-02-04T08:49:29.577Z\", \"level\": \"info\", \"message\": \"Waiting for path to be available. Try 6/20 (sleep:5 seconds): /batch_jobs/j-2502040847274ffb8703cb9de0e1a379/executorAttemptDirectory10872477705545493365/openEO_2024-08-12Z.tif\"}, {\"id\": \"[1738658974578, 66802]\", \"time\": \"2025-02-04T08:49:34.578Z\", \"level\": \"info\", \"message\": \"Waiting for path to be available. Try 7/20 (sleep:5 seconds): /batch_jobs/j-2502040847274ffb8703cb9de0e1a379/executorAttemptDirectory10872477705545493365/openEO_2024-08-12Z.tif\"}, {\"id\": \"[1738658979579, 728085]\", \"time\": \"2025-02-04T08:49:39.579Z\", \"level\": \"info\", \"message\": \"Waiting for path to be available. Try 8/20 (sleep:5 seconds): /batch_jobs/j-2502040847274ffb8703cb9de0e1a379/executorAttemptDirectory10872477705545493365/openEO_2024-08-12Z.tif\"}, {\"id\": \"[1738658984580, 640346]\", \"time\": \"2025-02-04T08:49:44.580Z\", \"level\": \"info\", \"message\": \"Waiting for path to be available. Try 9/20 (sleep:5 seconds): /batch_jobs/j-2502040847274ffb8703cb9de0e1a379/executorAttemptDirectory10872477705545493365/openEO_2024-08-12Z.tif\"}, {\"id\": \"[1738658989581, 145728]\", \"time\": \"2025-02-04T08:49:49.581Z\", \"level\": \"info\", \"message\": \"Waiting for path to be available. Try 10/20 (sleep:5 seconds): /batch_jobs/j-2502040847274ffb8703cb9de0e1a379/executorAttemptDirectory10872477705545493365/openEO_2024-08-12Z.tif\"}, {\"id\": \"[1738658994582, 19704]\", \"time\": \"2025-02-04T08:49:54.582Z\", \"level\": \"info\", \"message\": \"Waiting for path to be available. Try 11/20 (sleep:5 seconds): /batch_jobs/j-2502040847274ffb8703cb9de0e1a379/executorAttemptDirectory10872477705545493365/openEO_2024-08-12Z.tif\"}, {\"id\": \"[1738658999582, 147751]\", \"time\": \"2025-02-04T08:49:59.582Z\", \"level\": \"info\", \"message\": \"Waiting for path to be available. Try 12/20 (sleep:5 seconds): /batch_jobs/j-2502040847274ffb8703cb9de0e1a379/executorAttemptDirectory10872477705545493365/openEO_2024-08-12Z.tif\"}, {\"id\": \"[1738659006416, 330945]\", \"time\": \"2025-02-04T08:50:06.416Z\", \"level\": \"info\", \"message\": \"wrote 2 assets to /batch_jobs/j-2502040847274ffb8703cb9de0e1a379/out\"}, {\"id\": \"[1738659006416, 536076]\", \"time\": \"2025-02-04T08:50:06.416Z\", \"level\": \"info\", \"message\": \"Extracting result metadata from <DryRunDataTracer (traces: [<DataSource#139646445567040('load_collection', ('SENTINEL2_L2A', {'productType': {'eq': 'L2A'}, 'eo:cloud_cover': {'lte': 100}}, ['B08', 'B04', 'B03']))>, <DataTrace#139646446520576(#139646445567040, temporal_extent, ('2024-08-07', '2024-08-17'))>, <DataTrace#139646445060240(#139646446520576, spatial_extent, {'west': 23.806, 'south': 38.017263, 'east': 23.994827, 'north': 38.267837, 'crs': 'EPSG:4326'})>, <DataTrace#139646445060480(#139646445060240, bands, ['B08', 'B04', 'B03'])>, <DataTrace#139646445060320(#139646445060480, properties, {'productType': {'process_graph': {'asc': {'process_id': 'eq', 'arguments': {'x': {'from_parameter': 'value'}, 'y': 'L2A'}, 'result': True}}}, 'eo:cloud_cover': {'process_graph': {'lte1': {'result': True, 'process_id': 'lte', 'arguments': {'x': {'from_parameter': 'value'}, 'y': 100}}}}})>, <DataTrace#139646445189216(#139646445060320, apply, {})>])>\"}, {\"id\": \"[1738659006425, 756237]\", \"time\": \"2025-02-04T08:50:06.425Z\", \"level\": \"info\", \"message\": \"wrote metadata to /batch_jobs/j-2502040847274ffb8703cb9de0e1a379/job_metadata.json\"}, {\"id\": \"[1738659006454, 779083]\", \"time\": \"2025-02-04T08:50:06.454Z\", \"level\": \"info\", \"message\": \"Extracting result metadata from <DryRunDataTracer (traces: [<DataSource#139646445567040('load_collection', ('SENTINEL2_L2A', {'productType': {'eq': 'L2A'}, 'eo:cloud_cover': {'lte': 100}}, ['B08', 'B04', 'B03']))>, <DataTrace#139646446520576(#139646445567040, temporal_extent, ('2024-08-07', '2024-08-17'))>, <DataTrace#139646445060240(#139646446520576, spatial_extent, {'west': 23.806, 'south': 38.017263, 'east': 23.994827, 'north': 38.267837, 'crs': 'EPSG:4326'})>, <DataTrace#139646445060480(#139646445060240, bands, ['B08', 'B04', 'B03'])>, <DataTrace#139646445060320(#139646445060480, properties, {'productType': {'process_graph': {'asc': {'process_id': 'eq', 'arguments': {'x': {'from_parameter': 'value'}, 'y': 'L2A'}, 'result': True}}}, 'eo:cloud_cover': {'process_graph': {'lte1': {'result': True, 'process_id': 'lte', 'arguments': {'x': {'from_parameter': 'value'}, 'y': 100}}}}})>, <DataTrace#139646445189216(#139646445060320, apply, {})>])>\"}, {\"id\": \"[1738659006471, 763146]\", \"time\": \"2025-02-04T08:50:06.471Z\", \"level\": \"info\", \"message\": \"wrote metadata to /batch_jobs/j-2502040847274ffb8703cb9de0e1a379/job_metadata.json\"}, {\"id\": \"[1738659006500, 289633]\", \"time\": \"2025-02-04T08:50:06.500Z\", \"level\": \"info\", \"message\": \"Summary of the executed stages with the Logs of the longest stages:\"}, {\"id\": \"[1738659006500, 979496]\", \"time\": \"2025-02-04T08:50:06.500Z\", \"level\": \"info\", \"message\": \"Total number of stages: 12\"}, {\"id\": \"[1738659006501, 18145]\", \"time\": \"2025-02-04T08:50:06.501Z\", \"level\": \"info\", \"message\": \"load_collection: data was loaded with an average speed of: 1.217 Megapixel per second.\"}, {\"id\": \"[1738659006501, 33388]\", \"time\": \"2025-02-04T08:50:06.501Z\", \"level\": \"info\", \"message\": \"Total stage runtime: 1 minutes\"}, {\"id\": \"[1738659006501, 684140]\", \"time\": \"2025-02-04T08:50:06.501Z\", \"level\": \"info\", \"message\": \"Total executor allocation time: 173865891 minutes\"}, {\"id\": \"[1738659006502, 50070]\", \"time\": \"2025-02-04T08:50:06.502Z\", \"level\": \"info\", \"message\": \"Stage 11: in 23.324 s - 58.01 MB  - load_collection: read by input product.\"}, {\"id\": \"[1738659006502, 120353]\", \"time\": \"2025-02-04T08:50:06.502Z\", \"level\": \"info\", \"message\": \"Stage 2: in 6.721 s - 0.00 MB  - load_collection: Sentinel2 resolution CellSize(10.0,10.0) construct input product metadata.\"}, {\"id\": \"[1738659006502, 571394]\", \"time\": \"2025-02-04T08:50:06.502Z\", \"level\": \"info\", \"message\": \"Stage 10: in 3.955 s - 0.55 MB  - load_collection: group by input product.\"}, {\"id\": \"[1738659006502, 609366]\", \"time\": \"2025-02-04T08:50:06.502Z\", \"level\": \"info\", \"message\": \"Stage 9: in 5.5 s - 2.23 MB  - load_collection: determine raster regions to read resample: false.\"}, {\"id\": \"[1738659006502, 820495]\", \"time\": \"2025-02-04T08:50:06.502Z\", \"level\": \"info\", \"message\": \"Stage 12: in 21.73 s - 0.00 MB  - distinct at package.scala:243.\"}, {\"id\": \"[1738659007571, 675923]\", \"time\": \"2025-02-04T08:50:07.571Z\", \"level\": \"info\", \"message\": \"Starting batch job os.getpid()=76: end 2025-02-04 08:50:07.571241, elapsed 0:02:17.883414\"}]}</script>\n",
       "    </openeo-logs>\n",
       "    "
      ],
      "text/plain": [
       "[{'id': '[1738658869688, 620896]',\n",
       "  'time': '2025-02-04T08:47:49.688Z',\n",
       "  'level': 'info',\n",
       "  'message': 'Starting batch job os.getpid()=76: start 2025-02-04 08:47:49.687827'},\n",
       " {'id': '[1738658870431, 595373]',\n",
       "  'time': '2025-02-04T08:47:50.431Z',\n",
       "  'level': 'info',\n",
       "  'message': \"Loaded config config_id='os_creodias_openeo_k8s_prod' from config_path='/opt/backend_config/backendconfig.py' (reason='lazy_load')\"},\n",
       " {'id': '[1738658871004, 9322]',\n",
       "  'time': '2025-02-04T08:47:51.004Z',\n",
       "  'level': 'info',\n",
       "  'message': 'Logging initialized @5423ms to org.sparkproject.jetty.util.log.Slf4jLog'},\n",
       " {'id': '[1738658883081, 463622]',\n",
       "  'time': '2025-02-04T08:48:03.081Z',\n",
       "  'level': 'info',\n",
       "  'message': 'Job spec: {\\n \"process_graph\": {\\n  \"apply1\": {\\n   \"process_id\": \"apply\",\\n   \"arguments\": {\\n    \"process\": {\\n     \"process_graph\": {\\n      \"multiply1\": {\\n       \"result\": true,\\n       \"process_id\": \"multiply\",\\n       \"arguments\": {\\n        \"x\": {\\n         \"from_node\": \"linearscalerange1\"\\n        },\\n        \"y\": 2.5\\n       }\\n      },\\n      \"linearscalerange1\": {\\n       \"process_id\": \"linear_scale_range\",\\n       \"arguments\": {\\n        \"inputMax\": 3000,\\n        \"inputMin\": 0,\\n        \"x\": {\\n         \"from_parameter\": \"x\"\\n        },\\n        \"outputMin\": 0,\\n        \"outputMax\": 255\\n       }\\n      }\\n     }\\n    },\\n    \"data\": {\\n     \"from_node\": \"loadcollection1\"\\n    }\\n   }\\n  },\\n  \"loadcollection1\": {\\n   \"process_id\": \"load_collection\",\\n   \"arguments\": {\\n    \"temporal_extent\": [\\n     \"2024-08-07\",\\n     \"2024-08-17\"\\n    ],\\n    \"spatial_extent\": {\\n     \"east\": 23.994827,\\n     \"south\": 38.017263,\\n     \"crs\": \"EPSG:4326\",\\n     \"north\": 38.267837,\\n     \"west\": 23.806\\n    },\\n    \"id\": \"SENTINEL2_L2A\",\\n    \"bands\": [\\n     \"B08\",\\n     \"B04\",\\n     \"B03\"\\n    ],\\n    \"properties\": {\\n     \"eo:cloud_cover\": {\\n      \"process_graph\": {\\n       \"lte1\": {\\n        \"result\": true,\\n        \"process_id\": \"lte\",\\n        \"arguments\": {\\n         \"x\": {\\n          \"from_parameter\": \"value\"\\n         },\\n         \"y\": 100\\n        }\\n       }\\n      }\\n     }\\n    }\\n   }\\n  },\\n  \"saveresult1\": {\\n   \"result\": true,\\n   \"process_id\": \"save_result\",\\n   \"arguments\": {\\n    \"data\": {\\n     \"from_node\": \"apply1\"\\n    },\\n    \"format\": \"GTiff\",\\n    \"options\": {}\\n   }\\n  }\\n },\\n \"job_options\": {}\\n}'},\n",
       " {'id': '[1738658884845, 980026]',\n",
       "  'time': '2025-02-04T08:48:04.845Z',\n",
       "  'level': 'warning',\n",
       "  'message': 'No elastic_job_registry given to GeoPySparkBackendImplementation, creating one'},\n",
       " {'id': '[1738658884965, 465825]',\n",
       "  'time': '2025-02-04T08:48:04.965Z',\n",
       "  'level': 'info',\n",
       "  'message': \"Doing 'client_credentials' token request 'https://sso.terrascope.be/auth/realms/terrascope/protocol/openid-connect/token' with post data fields ['grant_type', 'client_id', 'client_secret', 'scope'] (client_id 'openeo-elastic-job-registry')\"},\n",
       " {'id': '[1738658885235, 360116]',\n",
       "  'time': '2025-02-04T08:48:05.235Z',\n",
       "  'level': 'info',\n",
       "  'message': \"EJR health check {'status': 'ok', 'info': {'elasticsearch-ping': {'status': 'up'}, 'elasticsearch-health': {'status': 'up'}, 'auth': {'status': 'up', 'state': 'ok'}}, 'error': {}, 'details': {}}\"},\n",
       " {'id': '[1738658885881, 19107]',\n",
       "  'time': '2025-02-04T08:48:05.881Z',\n",
       "  'level': 'info',\n",
       "  'message': 'Doing dry run'},\n",
       " {'id': '[1738658885881, 101295]',\n",
       "  'time': '2025-02-04T08:48:05.881Z',\n",
       "  'level': 'info',\n",
       "  'message': 'Correlation id: j-2502040847274ffb8703cb9de0e1a379'},\n",
       " {'id': '[1738658885881, 851630]',\n",
       "  'time': '2025-02-04T08:48:05.881Z',\n",
       "  'level': 'info',\n",
       "  'message': \"Loaded config config_id='os_creodias_openeo_k8s_prod' from config_path='/opt/backend_config/backendconfig.py' (reason='lazy_load')\"},\n",
       " {'id': '[1738658885882, 883762]',\n",
       "  'time': '2025-02-04T08:48:05.882Z',\n",
       "  'level': 'info',\n",
       "  'message': \"Dry run extracted these source constraints: [(('load_collection', ('SENTINEL2_L2A', (('eo:cloud_cover', (('lte', 100),)), ('productType', (('eq', 'L2A'),))), ('B08', 'B04', 'B03'))), {'temporal_extent': ('2024-08-07', '2024-08-17'), 'spatial_extent': {'west': 23.806, 'south': 38.017263, 'east': 23.994827, 'north': 38.267837, 'crs': 'EPSG:4326'}, 'bands': ['B08', 'B04', 'B03'], 'properties': {'productType': {'process_graph': {'asc': {'process_id': 'eq', 'arguments': {'x': {'from_parameter': 'value'}, 'y': 'L2A'}, 'result': True}}}, 'eo:cloud_cover': {'process_graph': {'lte1': {'result': True, 'process_id': 'lte', 'arguments': {'x': {'from_parameter': 'value'}, 'y': 100}}}}}})]\"},\n",
       " {'id': '[1738658885895, 558035]',\n",
       "  'time': '2025-02-04T08:48:05.895Z',\n",
       "  'level': 'info',\n",
       "  'message': \"Realigned input extent {'west': 23.806, 'south': 38.017263, 'east': 23.994827, 'north': 38.267837, 'crs': 'EPSG:4326'} into BoundingBox(west=745480, south=4211440, east=762910, north=4239780, crs='EPSG:32634')\"},\n",
       " {'id': '[1738658885895, 590000]',\n",
       "  'time': '2025-02-04T08:48:05.895Z',\n",
       "  'level': 'info',\n",
       "  'message': 'load_collection: start 2025-02-04 08:48:05.895173'},\n",
       " {'id': '[1738658885915, 113992]',\n",
       "  'time': '2025-02-04T08:48:05.915Z',\n",
       "  'level': 'info',\n",
       "  'message': \"load_collection: Creating raster datacube for SENTINEL2_L2A with arguments {'temporal_extent': ('2024-08-07', '2024-08-17'), 'spatial_extent': {'west': 23.806, 'south': 38.017263, 'east': 23.994827, 'north': 38.267837, 'crs': 'EPSG:4326'}, 'global_extent': {'west': 745480, 'south': 4211440, 'east': 762910, 'north': 4239780, 'crs': 'EPSG:32634'}, 'bands': ['B08', 'B04', 'B03'], 'properties': {'eo:cloud_cover': {'process_graph': {'lte1': {'result': True, 'process_id': 'lte', 'arguments': {'x': {'from_parameter': 'value'}, 'y': 100}}}}}, 'aggregate_spatial_geometries': None, 'sar_backscatter': None, 'process_types': set(), 'custom_mask': {}, 'data_mask': None, 'target_crs': None, 'target_resolution': None, 'resample_method': 'near', 'pixel_buffer': None}, environment: {'vault_token': None, 'sentinel_hub_client_alias': None, 'max_soft_errors_ratio': 0.1, 'dependencies': [], 'pyramid_levels': 'highest', 'require_bounds': True, 'correlation_id': 'j-2502040847274ffb8703cb9de0e1a379', 'user': User('dfdf5579-a85e-4474-b02e-423f6f62c5c2', None)}\"},\n",
       " {'id': '[1738658885915, 128054]',\n",
       "  'time': '2025-02-04T08:48:05.915Z',\n",
       "  'level': 'info',\n",
       "  'message': 'Detected process types:set()'},\n",
       " {'id': '[1738658885915, 429356]',\n",
       "  'time': '2025-02-04T08:48:05.915Z',\n",
       "  'level': 'info',\n",
       "  'message': \"Correlation ID is 'j-2502040847274ffb8703cb9de0e1a379'\"},\n",
       " {'id': '[1738658887272, 596250]',\n",
       "  'time': '2025-02-04T08:48:07.272Z',\n",
       "  'level': 'info',\n",
       "  'message': 'Loading Sentinel2 with params DataCubeParameters(128, {}, FloatingLayoutScheme, ByDay, 6, None, NearestNeighbor, 0.0, 0.0) and bands IMG_DATA_Band_B08_10m_Tile1_Data;IMG_DATA_Band_B04_10m_Tile1_Data;IMG_DATA_Band_B03_10m_Tile1_Data initial layout: LayoutDefinition(Extent(745480.0, 4210340.0, 763400.0, 4239780.0),CellSize(10.0,10.0),14x23 tiles,1792x2944 pixels)'},\n",
       " {'id': '[1738658889860, 770363]',\n",
       "  'time': '2025-02-04T08:48:09.860Z',\n",
       "  'level': 'info',\n",
       "  'message': 'https://catalogue.dataspace.copernicus.eu/resto/api/collections/Sentinel2/search.json?box=23.79637637173464%2C38.012541818860065%2C24.005140837422466%2C38.27254241733463&page=1&maxRecords=1000&status=ONLINE&dataset=ESA-DATASET&productType=L2A&cloudCover=%5B0%2C100%5D&startDate=2024-08-07T00%3A00%3A00Z&completionDate=2024-08-17T00%3A00%3A00.000000001Z returned 200'},\n",
       " {'id': '[1738658891472, 723849]',\n",
       "  'time': '2025-02-04T08:48:11.472Z',\n",
       "  'level': 'info',\n",
       "  'message': 'Datacube requires approximately 322 spatial keys.'},\n",
       " {'id': '[1738658891950, 885260]',\n",
       "  'time': '2025-02-04T08:48:11.950Z',\n",
       "  'level': 'info',\n",
       "  'message': 'Starting stage: 0 - load_collection: Sentinel2 resolution CellSize(10.0,10.0) construct input product metadata. \\nStages may combine multiple processes.'},\n",
       " {'id': '[1738658897324, 98781]',\n",
       "  'time': '2025-02-04T08:48:17.324Z',\n",
       "  'level': 'info',\n",
       "  'message': 'Starting stage: 1 - load_collection: Sentinel2 resolution CellSize(10.0,10.0) construct input product metadata. \\nStages may combine multiple processes.'},\n",
       " {'id': '[1738658902518, 316336]',\n",
       "  'time': '2025-02-04T08:48:22.518Z',\n",
       "  'level': 'info',\n",
       "  'message': 'Starting stage: 2 - load_collection: Sentinel2 resolution CellSize(10.0,10.0) construct input product metadata. \\nStages may combine multiple processes.'},\n",
       " {'id': '[1738658903312, 791465]',\n",
       "  'time': '2025-02-04T08:48:23.312Z',\n",
       "  'level': 'warning',\n",
       "  'message': 'Lost task 46.0 in stage 1.0 (TID 47) (10.42.153.178 executor 2): TaskKilled (another attempt succeeded)'},\n",
       " {'id': '[1738658908519, 404780]',\n",
       "  'time': '2025-02-04T08:48:28.519Z',\n",
       "  'level': 'warning',\n",
       "  'message': 'Lost task 52.0 in stage 2.0 (TID 114) (10.42.16.125 executor 3): TaskKilled (another attempt succeeded)'},\n",
       " {'id': '[1738658908654, 278271]',\n",
       "  'time': '2025-02-04T08:48:28.654Z',\n",
       "  'level': 'info',\n",
       "  'message': 'Datacube is sparse: false, requiring 304 keys out of 322. '},\n",
       " {'id': '[1738658908704, 617927]',\n",
       "  'time': '2025-02-04T08:48:28.704Z',\n",
       "  'level': 'info',\n",
       "  'message': 'Starting stage: 5 - load_collection: Sentinel2 resolution CellSize(10.0,10.0) construct input product metadata. \\nStages may combine multiple processes.'},\n",
       " {'id': '[1738658909464, 652457]',\n",
       "  'time': '2025-02-04T08:48:29.464Z',\n",
       "  'level': 'info',\n",
       "  'message': 'Starting stage: 6 - load_collection: Sentinel2 resolution CellSize(10.0,10.0) construct input product metadata. \\nStages may combine multiple processes.'},\n",
       " {'id': '[1738658909925, 509790]',\n",
       "  'time': '2025-02-04T08:48:29.925Z',\n",
       "  'level': 'info',\n",
       "  'message': 'Cube partitioner index: SparseSpaceTimePartitioner 48 false'},\n",
       " {'id': '[1738658909968, 770350]',\n",
       "  'time': '2025-02-04T08:48:29.968Z',\n",
       "  'level': 'info',\n",
       "  'message': 'Created cube for Sentinel2 with metadata TileLayerMetadata(int16,LayoutDefinition(Extent(745480.0, 4210340.0, 763400.0, 4239780.0),CellSize(10.0,10.0),14x23 tiles,1792x2944 pixels),Extent(745483.6655898333, 4211447.02478089, 762905.322452263, 4239775.8591517),EPSG:32634,KeyBounds(SpaceTimeKey(0,0,1722988800000),SpaceTimeKey(13,22,1723420800000))) and partitioner SparseSpaceTimePartitioner 48 false'},\n",
       " {'id': '[1738658910029, 925126]',\n",
       "  'time': '2025-02-04T08:48:30.029Z',\n",
       "  'level': 'info',\n",
       "  'message': 'load_collection: end 2025-02-04 08:48:30.028908, elapsed 0:00:24.133735'},\n",
       " {'id': '[1738658910157, 184713]',\n",
       "  'time': '2025-02-04T08:48:30.157Z',\n",
       "  'level': 'info',\n",
       "  'message': \"Evaluated process graph, result (type <class 'openeo_driver.save_result.ImageCollectionResult'>): <openeo_driver.save_result.ImageCollectionResult object at 0x7f01f8c120a0>\"},\n",
       " {'id': '[1738658910157, 943502]',\n",
       "  'time': '2025-02-04T08:48:30.157Z',\n",
       "  'level': 'info',\n",
       "  'message': \"Extracting result metadata from <DryRunDataTracer (traces: [<DataSource#139646445567040('load_collection', ('SENTINEL2_L2A', {'productType': {'eq': 'L2A'}, 'eo:cloud_cover': {'lte': 100}}, ['B08', 'B04', 'B03']))>, <DataTrace#139646446520576(#139646445567040, temporal_extent, ('2024-08-07', '2024-08-17'))>, <DataTrace#139646445060240(#139646446520576, spatial_extent, {'west': 23.806, 'south': 38.017263, 'east': 23.994827, 'north': 38.267837, 'crs': 'EPSG:4326'})>, <DataTrace#139646445060480(#139646445060240, bands, ['B08', 'B04', 'B03'])>, <DataTrace#139646445060320(#139646445060480, properties, {'productType': {'process_graph': {'asc': {'process_id': 'eq', 'arguments': {'x': {'from_parameter': 'value'}, 'y': 'L2A'}, 'result': True}}}, 'eo:cloud_cover': {'process_graph': {'lte1': {'result': True, 'process_id': 'lte', 'arguments': {'x': {'from_parameter': 'value'}, 'y': 100}}}}})>, <DataTrace#139646445189216(#139646445060320, apply, {})>])>\"},\n",
       " {'id': '[1738658910178, 3521]',\n",
       "  'time': '2025-02-04T08:48:30.178Z',\n",
       "  'level': 'info',\n",
       "  'message': 'wrote metadata to /batch_jobs/j-2502040847274ffb8703cb9de0e1a379/job_metadata.json'},\n",
       " {'id': '[1738658910271, 594094]',\n",
       "  'time': '2025-02-04T08:48:30.271Z',\n",
       "  'level': 'info',\n",
       "  'message': \"save_result format GTIFF with bounds Extent(xmin=745483.6655898333, ymin=4211447.02478089, xmax=762905.322452263, ymax=4239775.8591517) and options {'batch_mode': True, 'file_metadata': {'title': '', 'description': '', 'institution': 'openEO platform - Geotrellis backend: 0.59.0a1'}}\"},\n",
       " {'id': '[1738658910274, 834380]',\n",
       "  'time': '2025-02-04T08:48:30.274Z',\n",
       "  'level': 'info',\n",
       "  'message': 'save_result: saveRDD'},\n",
       " {'id': '[1738658910321, 430160]',\n",
       "  'time': '2025-02-04T08:48:30.321Z',\n",
       "  'level': 'info',\n",
       "  'message': 'Write Geotiff per date Extent(745480.0, 4211440.0, 762910.0, 4239780.0), GridBounds(0,0,1742,2833), TileLayout(14,23,128,128)'},\n",
       " {'id': '[1738658910375, 864504]',\n",
       "  'time': '2025-02-04T08:48:30.375Z',\n",
       "  'level': 'info',\n",
       "  'message': 'Starting stage: 9 - load_collection: determine raster regions to read resample: false. \\nStages may combine multiple processes.'},\n",
       " {'id': '[1738658915554, 983561]',\n",
       "  'time': '2025-02-04T08:48:35.554Z',\n",
       "  'level': 'info',\n",
       "  'message': 'Starting stage: 10 - load_collection: group by input product. \\nStages may combine multiple processes.'},\n",
       " {'id': '[1738658919179, 269459]',\n",
       "  'time': '2025-02-04T08:48:39.179Z',\n",
       "  'level': 'info',\n",
       "  'message': 'Starting stage: 11 - load_collection: read by input product. \\nStages may combine multiple processes.'},\n",
       " {'id': '[1738658930705, 136981]',\n",
       "  'time': '2025-02-04T08:48:50.705Z',\n",
       "  'level': 'error',\n",
       "  'message': 'Error communicating with MapOutputTracker'},\n",
       " {'id': '[1738658930743, 778672]',\n",
       "  'time': '2025-02-04T08:48:50.743Z',\n",
       "  'level': 'warning',\n",
       "  'message': 'Lost task 10.1 in stage 11.0 (TID 375) (10.42.208.85 executor 4): TaskKilled (another attempt succeeded)'},\n",
       " {'id': '[1738658934743, 684284]',\n",
       "  'time': '2025-02-04T08:48:54.743Z',\n",
       "  'level': 'info',\n",
       "  'message': 'Starting stage: 12 - distinct at package.scala:243. \\nStages may combine multiple processes.'},\n",
       " {'id': '[1738658935137, 391224]',\n",
       "  'time': '2025-02-04T08:48:55.137Z',\n",
       "  'level': 'warning',\n",
       "  'message': 'Lost task 11.1 in stage 11.0 (TID 376) (10.42.107.121 executor 1): TaskKilled (another attempt succeeded)'},\n",
       " {'id': '[1738658942032, 559445]',\n",
       "  'time': '2025-02-04T08:49:02.032Z',\n",
       "  'level': 'info',\n",
       "  'message': 'Starting stage: 13 - collect at package.scala:243. \\nStages may combine multiple processes.'},\n",
       " {'id': '[1738658942252, 635518]',\n",
       "  'time': '2025-02-04T08:49:02.252Z',\n",
       "  'level': 'info',\n",
       "  'message': 'Starting stage: 19 - flatMap at package.scala:207. \\nStages may combine multiple processes.'},\n",
       " {'id': '[1738658942723, 856387]',\n",
       "  'time': '2025-02-04T08:49:02.723Z',\n",
       "  'level': 'info',\n",
       "  'message': 'Starting stage: 20 - collect at package.scala:244. \\nStages may combine multiple processes.'},\n",
       " {'id': '[1738658942850, 297182]',\n",
       "  'time': '2025-02-04T08:49:02.850Z',\n",
       "  'level': 'info',\n",
       "  'message': 'Writing geotiff to /batch_jobs/j-2502040847274ffb8703cb9de0e1a379/executorAttemptDirectory1105391166988399946/openEO_2024-08-07Z.tif with type float32 and bands 3.0'},\n",
       " {'id': '[1738658942943, 185422]',\n",
       "  'time': '2025-02-04T08:49:02.943Z',\n",
       "  'level': 'info',\n",
       "  'message': 'Writing geotiff to /batch_jobs/j-2502040847274ffb8703cb9de0e1a379/executorAttemptDirectory10872477705545493365/openEO_2024-08-12Z.tif with type float32 and bands 3.0'},\n",
       " {'id': '[1738658944570, 418817]',\n",
       "  'time': '2025-02-04T08:49:04.570Z',\n",
       "  'level': 'info',\n",
       "  'message': 'Waiting for path to be available. Try 1/20 (sleep:5 seconds): /batch_jobs/j-2502040847274ffb8703cb9de0e1a379/executorAttemptDirectory10872477705545493365/openEO_2024-08-12Z.tif'},\n",
       " {'id': '[1738658949572, 632071]',\n",
       "  'time': '2025-02-04T08:49:09.572Z',\n",
       "  'level': 'info',\n",
       "  'message': 'Waiting for path to be available. Try 2/20 (sleep:5 seconds): /batch_jobs/j-2502040847274ffb8703cb9de0e1a379/executorAttemptDirectory10872477705545493365/openEO_2024-08-12Z.tif'},\n",
       " {'id': '[1738658954575, 11022]',\n",
       "  'time': '2025-02-04T08:49:14.575Z',\n",
       "  'level': 'info',\n",
       "  'message': 'Waiting for path to be available. Try 3/20 (sleep:5 seconds): /batch_jobs/j-2502040847274ffb8703cb9de0e1a379/executorAttemptDirectory10872477705545493365/openEO_2024-08-12Z.tif'},\n",
       " {'id': '[1738658959575, 900573]',\n",
       "  'time': '2025-02-04T08:49:19.575Z',\n",
       "  'level': 'info',\n",
       "  'message': 'Waiting for path to be available. Try 4/20 (sleep:5 seconds): /batch_jobs/j-2502040847274ffb8703cb9de0e1a379/executorAttemptDirectory10872477705545493365/openEO_2024-08-12Z.tif'},\n",
       " {'id': '[1738658964576, 562898]',\n",
       "  'time': '2025-02-04T08:49:24.576Z',\n",
       "  'level': 'info',\n",
       "  'message': 'Waiting for path to be available. Try 5/20 (sleep:5 seconds): /batch_jobs/j-2502040847274ffb8703cb9de0e1a379/executorAttemptDirectory10872477705545493365/openEO_2024-08-12Z.tif'},\n",
       " {'id': '[1738658969577, 231997]',\n",
       "  'time': '2025-02-04T08:49:29.577Z',\n",
       "  'level': 'info',\n",
       "  'message': 'Waiting for path to be available. Try 6/20 (sleep:5 seconds): /batch_jobs/j-2502040847274ffb8703cb9de0e1a379/executorAttemptDirectory10872477705545493365/openEO_2024-08-12Z.tif'},\n",
       " {'id': '[1738658974578, 66802]',\n",
       "  'time': '2025-02-04T08:49:34.578Z',\n",
       "  'level': 'info',\n",
       "  'message': 'Waiting for path to be available. Try 7/20 (sleep:5 seconds): /batch_jobs/j-2502040847274ffb8703cb9de0e1a379/executorAttemptDirectory10872477705545493365/openEO_2024-08-12Z.tif'},\n",
       " {'id': '[1738658979579, 728085]',\n",
       "  'time': '2025-02-04T08:49:39.579Z',\n",
       "  'level': 'info',\n",
       "  'message': 'Waiting for path to be available. Try 8/20 (sleep:5 seconds): /batch_jobs/j-2502040847274ffb8703cb9de0e1a379/executorAttemptDirectory10872477705545493365/openEO_2024-08-12Z.tif'},\n",
       " {'id': '[1738658984580, 640346]',\n",
       "  'time': '2025-02-04T08:49:44.580Z',\n",
       "  'level': 'info',\n",
       "  'message': 'Waiting for path to be available. Try 9/20 (sleep:5 seconds): /batch_jobs/j-2502040847274ffb8703cb9de0e1a379/executorAttemptDirectory10872477705545493365/openEO_2024-08-12Z.tif'},\n",
       " {'id': '[1738658989581, 145728]',\n",
       "  'time': '2025-02-04T08:49:49.581Z',\n",
       "  'level': 'info',\n",
       "  'message': 'Waiting for path to be available. Try 10/20 (sleep:5 seconds): /batch_jobs/j-2502040847274ffb8703cb9de0e1a379/executorAttemptDirectory10872477705545493365/openEO_2024-08-12Z.tif'},\n",
       " {'id': '[1738658994582, 19704]',\n",
       "  'time': '2025-02-04T08:49:54.582Z',\n",
       "  'level': 'info',\n",
       "  'message': 'Waiting for path to be available. Try 11/20 (sleep:5 seconds): /batch_jobs/j-2502040847274ffb8703cb9de0e1a379/executorAttemptDirectory10872477705545493365/openEO_2024-08-12Z.tif'},\n",
       " {'id': '[1738658999582, 147751]',\n",
       "  'time': '2025-02-04T08:49:59.582Z',\n",
       "  'level': 'info',\n",
       "  'message': 'Waiting for path to be available. Try 12/20 (sleep:5 seconds): /batch_jobs/j-2502040847274ffb8703cb9de0e1a379/executorAttemptDirectory10872477705545493365/openEO_2024-08-12Z.tif'},\n",
       " {'id': '[1738659006416, 330945]',\n",
       "  'time': '2025-02-04T08:50:06.416Z',\n",
       "  'level': 'info',\n",
       "  'message': 'wrote 2 assets to /batch_jobs/j-2502040847274ffb8703cb9de0e1a379/out'},\n",
       " {'id': '[1738659006416, 536076]',\n",
       "  'time': '2025-02-04T08:50:06.416Z',\n",
       "  'level': 'info',\n",
       "  'message': \"Extracting result metadata from <DryRunDataTracer (traces: [<DataSource#139646445567040('load_collection', ('SENTINEL2_L2A', {'productType': {'eq': 'L2A'}, 'eo:cloud_cover': {'lte': 100}}, ['B08', 'B04', 'B03']))>, <DataTrace#139646446520576(#139646445567040, temporal_extent, ('2024-08-07', '2024-08-17'))>, <DataTrace#139646445060240(#139646446520576, spatial_extent, {'west': 23.806, 'south': 38.017263, 'east': 23.994827, 'north': 38.267837, 'crs': 'EPSG:4326'})>, <DataTrace#139646445060480(#139646445060240, bands, ['B08', 'B04', 'B03'])>, <DataTrace#139646445060320(#139646445060480, properties, {'productType': {'process_graph': {'asc': {'process_id': 'eq', 'arguments': {'x': {'from_parameter': 'value'}, 'y': 'L2A'}, 'result': True}}}, 'eo:cloud_cover': {'process_graph': {'lte1': {'result': True, 'process_id': 'lte', 'arguments': {'x': {'from_parameter': 'value'}, 'y': 100}}}}})>, <DataTrace#139646445189216(#139646445060320, apply, {})>])>\"},\n",
       " {'id': '[1738659006425, 756237]',\n",
       "  'time': '2025-02-04T08:50:06.425Z',\n",
       "  'level': 'info',\n",
       "  'message': 'wrote metadata to /batch_jobs/j-2502040847274ffb8703cb9de0e1a379/job_metadata.json'},\n",
       " {'id': '[1738659006454, 779083]',\n",
       "  'time': '2025-02-04T08:50:06.454Z',\n",
       "  'level': 'info',\n",
       "  'message': \"Extracting result metadata from <DryRunDataTracer (traces: [<DataSource#139646445567040('load_collection', ('SENTINEL2_L2A', {'productType': {'eq': 'L2A'}, 'eo:cloud_cover': {'lte': 100}}, ['B08', 'B04', 'B03']))>, <DataTrace#139646446520576(#139646445567040, temporal_extent, ('2024-08-07', '2024-08-17'))>, <DataTrace#139646445060240(#139646446520576, spatial_extent, {'west': 23.806, 'south': 38.017263, 'east': 23.994827, 'north': 38.267837, 'crs': 'EPSG:4326'})>, <DataTrace#139646445060480(#139646445060240, bands, ['B08', 'B04', 'B03'])>, <DataTrace#139646445060320(#139646445060480, properties, {'productType': {'process_graph': {'asc': {'process_id': 'eq', 'arguments': {'x': {'from_parameter': 'value'}, 'y': 'L2A'}, 'result': True}}}, 'eo:cloud_cover': {'process_graph': {'lte1': {'result': True, 'process_id': 'lte', 'arguments': {'x': {'from_parameter': 'value'}, 'y': 100}}}}})>, <DataTrace#139646445189216(#139646445060320, apply, {})>])>\"},\n",
       " {'id': '[1738659006471, 763146]',\n",
       "  'time': '2025-02-04T08:50:06.471Z',\n",
       "  'level': 'info',\n",
       "  'message': 'wrote metadata to /batch_jobs/j-2502040847274ffb8703cb9de0e1a379/job_metadata.json'},\n",
       " {'id': '[1738659006500, 289633]',\n",
       "  'time': '2025-02-04T08:50:06.500Z',\n",
       "  'level': 'info',\n",
       "  'message': 'Summary of the executed stages with the Logs of the longest stages:'},\n",
       " {'id': '[1738659006500, 979496]',\n",
       "  'time': '2025-02-04T08:50:06.500Z',\n",
       "  'level': 'info',\n",
       "  'message': 'Total number of stages: 12'},\n",
       " {'id': '[1738659006501, 18145]',\n",
       "  'time': '2025-02-04T08:50:06.501Z',\n",
       "  'level': 'info',\n",
       "  'message': 'load_collection: data was loaded with an average speed of: 1.217 Megapixel per second.'},\n",
       " {'id': '[1738659006501, 33388]',\n",
       "  'time': '2025-02-04T08:50:06.501Z',\n",
       "  'level': 'info',\n",
       "  'message': 'Total stage runtime: 1 minutes'},\n",
       " {'id': '[1738659006501, 684140]',\n",
       "  'time': '2025-02-04T08:50:06.501Z',\n",
       "  'level': 'info',\n",
       "  'message': 'Total executor allocation time: 173865891 minutes'},\n",
       " {'id': '[1738659006502, 50070]',\n",
       "  'time': '2025-02-04T08:50:06.502Z',\n",
       "  'level': 'info',\n",
       "  'message': 'Stage 11: in 23.324 s - 58.01 MB  - load_collection: read by input product.'},\n",
       " {'id': '[1738659006502, 120353]',\n",
       "  'time': '2025-02-04T08:50:06.502Z',\n",
       "  'level': 'info',\n",
       "  'message': 'Stage 2: in 6.721 s - 0.00 MB  - load_collection: Sentinel2 resolution CellSize(10.0,10.0) construct input product metadata.'},\n",
       " {'id': '[1738659006502, 571394]',\n",
       "  'time': '2025-02-04T08:50:06.502Z',\n",
       "  'level': 'info',\n",
       "  'message': 'Stage 10: in 3.955 s - 0.55 MB  - load_collection: group by input product.'},\n",
       " {'id': '[1738659006502, 609366]',\n",
       "  'time': '2025-02-04T08:50:06.502Z',\n",
       "  'level': 'info',\n",
       "  'message': 'Stage 9: in 5.5 s - 2.23 MB  - load_collection: determine raster regions to read resample: false.'},\n",
       " {'id': '[1738659006502, 820495]',\n",
       "  'time': '2025-02-04T08:50:06.502Z',\n",
       "  'level': 'info',\n",
       "  'message': 'Stage 12: in 21.73 s - 0.00 MB  - distinct at package.scala:243.'},\n",
       " {'id': '[1738659007571, 675923]',\n",
       "  'time': '2025-02-04T08:50:07.571Z',\n",
       "  'level': 'info',\n",
       "  'message': 'Starting batch job os.getpid()=76: end 2025-02-04 08:50:07.571241, elapsed 0:02:17.883414'}]"
      ]
     },
     "execution_count": 23,
     "metadata": {},
     "output_type": "execute_result"
    }
   ],
   "source": [
    "job.logs()"
   ]
  },
  {
   "attachments": {},
   "cell_type": "markdown",
   "metadata": {},
   "source": [
    "## Fetch Batch Job Results\n",
    "\n",
    "The result of a finished batch job consists of several elements:\n",
    "- a STAC-compatible description (metadata) of the batch job results\n",
    "- one or more output files (e.g. multiple GeoTIFF or netCDF assets)\n",
    "\n",
    "You can get a handle to these results with  `get_results()`:"
   ]
  },
  {
   "cell_type": "code",
   "execution_count": 16,
   "metadata": {
    "scrolled": true
   },
   "outputs": [],
   "source": [
    "results = job.get_results()"
   ]
  },
  {
   "attachments": {},
   "cell_type": "markdown",
   "metadata": {},
   "source": [
    "In the general case, when you have one or more result files (also called “assets”), the easiest option to download them is using `download_files()` (plural) where you just specify a download folder (otherwise the current working directory will be used by default)."
   ]
  },
  {
   "cell_type": "code",
   "execution_count": 17,
   "metadata": {},
   "outputs": [
    {
     "data": {
      "text/plain": [
       "[PosixPath('test/testrun/Satellite_Imagery/S2_DAILY/openEO_2024-08-07Z.tif'),\n",
       " PosixPath('test/testrun/Satellite_Imagery/S2_DAILY/openEO_2024-08-12Z.tif'),\n",
       " PosixPath('test/testrun/Satellite_Imagery/S2_DAILY/openEO_2024-08-17Z.tif'),\n",
       " PosixPath('test/testrun/Satellite_Imagery/S2_DAILY/job-results.json')]"
      ]
     },
     "execution_count": 17,
     "metadata": {},
     "output_type": "execute_result"
    }
   ],
   "source": [
    "output_dir = os.path.join(output_dir, run_name, 'Satellite_Imagery', 'S2_DAILY')\n",
    "results.download_files(output_dir)"
   ]
  },
  {
   "cell_type": "markdown",
   "metadata": {},
   "source": [
    "<hr>"
   ]
  },
  {
   "cell_type": "markdown",
   "metadata": {},
   "source": [
    "<p style=\"text-align:left;\">This project is licensed under the <a href=\"./LICENSE.TXT\">GPL-3.0-or-later</a> license <span style=\"float:right;\"><a href=\"https://gitlab.eumetsat.int/eumetlab/atmosphere/trainings/nero-winter-school-2025\">View on GitLab</a> | <a href=\"https://classroom.eumetsat.int/\">EUMETSAT Training</a> | <a href=mailto:ops@eumetsat.int>Contact</a></span></p>"
   ]
  }
 ],
 "metadata": {
  "kernelspec": {
   "display_name": "nero_winter_school",
   "language": "python",
   "name": "nero_winter_school"
  },
  "language_info": {
   "codemirror_mode": {
    "name": "ipython",
    "version": 3
   },
   "file_extension": ".py",
   "mimetype": "text/x-python",
   "name": "python",
   "nbconvert_exporter": "python",
   "pygments_lexer": "ipython3",
   "version": "3.11.0"
  }
 },
 "nbformat": 4,
 "nbformat_minor": 4
}

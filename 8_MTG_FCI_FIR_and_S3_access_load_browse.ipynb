{
 "cells": [
  {
   "metadata": {},
   "cell_type": "markdown",
   "source": "<img src='./img/EU-Copernicus-EUM_3Logos.png' alt='Logo EU Copernicus EUMETSAT' align='right' width='50%'/>"
  },
  {
   "cell_type": "markdown",
   "metadata": {
    "Collapsed": "false"
   },
   "source": [
    "<hr>"
   ]
  },
  {
   "cell_type": "markdown",
   "metadata": {},
   "source": "# MTG FCI and S3 for fires: visualising FCI L1c RGBs, FIR Active Fire Monitoring product and S3 NRT Fire detections"
  },
  {
   "metadata": {},
   "cell_type": "markdown",
   "source": "Author: Andrea Meraner (EUMETSAT). Containing parts of notebooks originally developed by Dominika Czyzewska (EUM) and Noemi Fazzini (MEEO)"
  },
  {
   "cell_type": "markdown",
   "metadata": {},
   "source": [
    "### Data used\n",
    "\n",
    "|                    Product Description                     | Data Store collection ID |                     Product Navigator                      |\n",
    "|:----------------------------------------------------------:|:------------------------:|:----------------------------------------------------------:|\n",
    "|      Active Fire Monitoring (netCDF) - MTG - 0 degree      |     EO:EUM:DAT:0682      | [link](https://vdata.eumetsat.int/product/EO:EUM:DAT:0682) |\n",
    "| FCI Level 1c Normal Resolution Image Data - MTG - 0 degree |     EO:EUM:DAT:0662      | [link](https://vdata.eumetsat.int/product/EO:EUM:DAT:0662) |\n",
    "|  FCI Level 1c High Resolution Image Data - MTG - 0 degree  |     EO:EUM:DAT:0665      | [link](https://vdata.eumetsat.int/product/EO:EUM:DAT:0665) |\n",
    "| SLSTR Level 2 Fire Radiative Power in NRT - Sentinel-3  | EO:EUM:DAT:0417 | [link](https://navigator.eumetsat.int/product/EO:EUM:DAT:0207) |\n",
    "\n",
    "\n",
    "This notebook demonstrates how to access, load, and visualise the [Active Fire Monitoring product (FIR)](https://vdata.eumetsat.int/product/EO:EUM:DAT:0682) product derived from Meteosat Third Generation (MTG) geostationary imager data. The FIR product detects and characterises active fires within pixels using the FCI IR-3.8 μm channel, which is highly sensitive to fire hotspots.\n",
    "\n",
    "In addition, [FCI Level 1c Normal Resolution Image Data](https://vdata.eumetsat.int/product/EO:EUM:DAT:0662) consists of a set of files that contain the level 1c science data rectified to a reference grid together with the auxiliary data associated with the processing configuration and the quality assessment of the dataset. [FCI Level 1c High Resolution Image Data](https://vdata.eumetsat.int/product/EO:EUM:DAT:0665) contains 4 channels (VIS0.6, NIR2.2, IR3.8, and IR10.5) at an additional high resolution (500m for the VISNIR channels and 1km for the IR channels).\n",
    "\n",
    "At the end, we also load and compare Sentinel-3 NRT Fire product detections with the FCI imagery.\n",
    "\n",
    "As a case study, this notebook explores the Iberian Pennisula wildfires of summer 2025, combining FIR datasets with True Colour RGB composites to illustrate fire monitoring capabilities under varying conditions of cloud cover and surface features.\n",
    "\n"
   ]
  },
  {
   "cell_type": "markdown",
   "metadata": {},
   "source": [
    "#### Load required libraries"
   ]
  },
  {
   "cell_type": "code",
   "metadata": {},
   "source": [
    "import datetime\n",
    "import os\n",
    "import numpy as np\n",
    "from pathlib import Path\n",
    "import glob\n",
    "\n",
    "from satpy.scene import Scene\n",
    "from satpy import find_files_and_readers\n",
    "from satpy.writers import get_enhanced_image\n",
    "from pyresample import create_area_def\n",
    "\n",
    "import warnings\n",
    "from cartopy.io import DownloadWarning\n",
    "import xarray as xr\n",
    "\n",
    "from download_from_archive import download_from_eumdac\n",
    "import credentials\n",
    "\n",
    "import matplotlib.pyplot as plt\n",
    "from matplotlib.colors import ListedColormap, BoundaryNorm\n",
    "from matplotlib import cm\n",
    "import cartopy.crs as ccrs\n",
    "\n",
    "\n",
    "warnings.filterwarnings('ignore', category=UserWarning)\n",
    "warnings.filterwarnings('ignore', category=RuntimeWarning)\n",
    "warnings.filterwarnings(\"ignore\", category=DownloadWarning)\n"
   ],
   "outputs": [],
   "execution_count": null
  },
  {
   "cell_type": "markdown",
   "metadata": {},
   "source": "#### Set the bounding box of the area of interest and the start-end datetimes to analyse"
  },
  {
   "metadata": {},
   "cell_type": "markdown",
   "source": [
    "<div class=\"alert alert-block alert-success\">\n",
    "<b>NOTE:</b><br />\n",
    "For the notebook to work correctly, use a 10 minutes start-end time interval (the FCI products are available every 10 minutes).\n",
    "</div>"
   ]
  },
  {
   "cell_type": "code",
   "metadata": {},
   "source": [
    "latmin = 37.0000\n",
    "latmax= 43.7914\n",
    "lonmin= -9.5600\n",
    "lonmax= 3.3322\n",
    "\n",
    "start_time = \"2025-08-18T16:00:00\"\n",
    "end_time = \"2025-08-18T16:10:00\"\n",
    "# start_time = \"2025-08-18T22:20:00\"\n",
    "# end_time = \"2025-08-18T22:30:00\""
   ],
   "outputs": [],
   "execution_count": null
  },
  {
   "metadata": {},
   "cell_type": "markdown",
   "source": "#### Set the resolution of the target analysis area definition and create the according pyresample AreaDefinition object"
  },
  {
   "metadata": {},
   "cell_type": "code",
   "source": "resolution = 500. #m",
   "outputs": [],
   "execution_count": null
  },
  {
   "metadata": {},
   "cell_type": "code",
   "source": [
    "def get_local_mercator_area(target_proj, area_extent, resolution):\n",
    "    x_min, y_min = target_proj.transform_point(area_extent[0], area_extent[1], ccrs.PlateCarree()) # compute coordinates in target projection\n",
    "    x_max, y_max = target_proj.transform_point(area_extent[2], area_extent[3], ccrs.PlateCarree())\n",
    "    shape = [int((y_max - y_min) / resolution[0]), int((x_max - x_min) / resolution[1])] # compute the shape of the area in pixels\n",
    "    adef = create_area_def('local_mercator_area', target_proj, area_extent=area_extent, units='degrees', shape=shape)\n",
    "    return adef\n",
    "\n",
    "target_proj = ccrs.Mercator()\n",
    "adef = get_local_mercator_area(target_proj, [lonmin, latmin, lonmax, latmax], [resolution, resolution])\n",
    "print(adef)\n"
   ],
   "outputs": [],
   "execution_count": null
  },
  {
   "cell_type": "markdown",
   "metadata": {},
   "source": "## Download FIR products from the Data Store through the EUMDAC API"
  },
  {
   "cell_type": "markdown",
   "metadata": {},
   "source": [
    "<div class=\"alert alert-block alert-success\">\n",
    "<b>NOTE:</b><br />\n",
    "Before running this section, remember to edit the credentials.py file with your personal API credentials for EUMDAC. You can find your personal API credentials here: <a href=\"https://api.eumetsat.int/api-key/\">https://api.eumetsat.int/api-key/</a>\n",
    "</div>"
   ]
  },
  {
   "metadata": {},
   "cell_type": "markdown",
   "source": "The following cell calls the `download_from_archive.download_from_eumdac` that is a custom wrapper around the EUMDAC API. The following cell shows the function docstring giving some extra information."
  },
  {
   "cell_type": "markdown",
   "metadata": {},
   "source": [
    "FYI: MTG products follow the WMO file naming convention. You can find more information about this in our User Portal guide: <a href=\"https://user.eumetsat.int/resources/user-guides/mtg-fci-level-1c-data-guide#ID-Naming-convention\">https://user.eumetsat.int/resources/user-guides/mtg-fci-level-1c-data-guide#ID-Naming-convention</a>\n",
    "</div>"
   ]
  },
  {
   "metadata": {},
   "cell_type": "code",
   "source": "help(download_from_eumdac)",
   "outputs": [],
   "execution_count": null
  },
  {
   "metadata": {},
   "cell_type": "code",
   "source": [
    "output_folder = \"products/\"\n",
    "\n",
    "collection_ids = [\"EO:EUM:DAT:0682\"]\n",
    "file_endings = ['.nc']\n",
    "\n",
    "download_from_eumdac(start_time, end_time, collection_ids, output_folder, credentials.EUMDAC_CONSUMER_KEY,\n",
    "                     credentials.EUMDAC_CONSUMER_SECRET, file_endings=file_endings)"
   ],
   "outputs": [],
   "execution_count": null
  },
  {
   "metadata": {},
   "cell_type": "markdown",
   "source": [
    "## FIR Product Processing\n",
    "\n",
    "Let us open the downloaded Active Fire Monitoring product using `Scene` from `satpy` library, and inspect it using the function `available_dataset_names`.\n",
    "\n",
    "The product provides two main datasets at 2 km nadir resolution:\n",
    "* `Fire Probability` – the likelihood of fire presence per pixel.\n",
    "* `Fire Result` – a categorical indicator derived from fire probability.\n",
    "\n",
    "In addition, quality indicators (`product_completeness`, `product_quality`, `product_timeliness`) are included for each repeat cycle to support data interpretation. The FIR product is currently based on the heritage SEVIRI algorithm, ensuring continuity with existing fire detection services. While it does not yet exploit the full spatial resolution and additional channels of the FCI, future product updates will enhance detection accuracy and resolution.\n",
    "\n",
    "The reader used in this case is `fci_l2_nc`."
   ]
  },
  {
   "cell_type": "code",
   "metadata": {},
   "source": [
    "fir_filenames = find_files_and_readers(base_dir=output_folder, reader=\"fci_l2_nc\", start_time=datetime.datetime.strptime(start_time, \"%Y-%m-%dT%H:%M:%S\"), end_time=datetime.datetime.strptime(end_time, \"%Y-%m-%dT%H:%M:%S\"))\n",
    "\n",
    "fir_scn = Scene(filenames=fir_filenames)\n",
    "print(fir_scn.available_dataset_names())  # Prints list of available datasets"
   ],
   "outputs": [],
   "execution_count": null
  },
  {
   "cell_type": "markdown",
   "metadata": {},
   "source": [
    "This cell performs the following steps:\n",
    "1. Load the fire probability dataset (`fire_probability`) from the Satpy Scene and ensure it is oriented upright.\n",
    "2. Resample the dataset to the defined Area of Interest (AOI).\n",
    "4. Filter pixels with probability above a threshold (e.g., 0.5) to identify potential fire locations."
   ]
  },
  {
   "cell_type": "code",
   "metadata": {},
   "source": [
    "dataset = \"fire_probability\"  # Dataset to load. Other option is \"fire_result\"\n",
    "\n",
    "# Load dataset. The upper_right_corner keyword is needed to flip the dataset to \"upright\" projection\n",
    "fir_scn.load([dataset], upper_right_corner='NE')\n",
    "\n",
    "scn_resample=fir_scn.resample(adef)\n",
    "\n",
    "# Extract dataset from Scene object\n",
    "fir_prob = scn_resample[dataset]\n",
    "\n",
    "# filter fires above a probability threshold. Note that the probability range is 0-1\n",
    "prob_threshold = 0.5\n",
    "fires_above_th = np.where(fir_prob > prob_threshold)\n",
    "print(f\"Number of potential fire pixels in target grid with probability above 50%: {len(fires_above_th[0])}\")\n",
    "\n",
    "# The following line obtains the lon-lat of the filtered pixels. We continue to work on the 2d-array so we don't need it.\n",
    "lon_filtered, lat_filtered = adef.get_lonlat_from_array_coordinates(fires_above_th[1], fires_above_th[0])\n",
    "lon_filtered, lat_filtered"
   ],
   "outputs": [],
   "execution_count": null
  },
  {
   "cell_type": "markdown",
   "metadata": {},
   "source": [
    "Now plot the dataset using `matplotlib.pyplot` and `cartopy`."
   ]
  },
  {
   "cell_type": "code",
   "metadata": {},
   "source": [
    "crs = adef.to_cartopy_crs()  # Convert area definition to cartopy CRS object\n",
    "fig, ax = plt.subplots(subplot_kw={'projection': crs})\n",
    "\n",
    "ax.coastlines(resolution='50m')\n",
    "\n",
    "im = ax.imshow(fir_prob.values*100, transform=crs, cmap='RdYlBu_r', extent=crs.bounds, origin='upper', vmin=0, vmax=100, interpolation='none')\n",
    "plt.axis('off')\n",
    "cbar = plt.colorbar(im, orientation='horizontal', aspect=25, shrink=0.72, pad=0.02)\n",
    "cbar.ax.set_xlabel('FCI FIR fire probability (%)')\n",
    "plt.tight_layout()\n",
    "plt.show()"
   ],
   "outputs": [],
   "execution_count": null
  },
  {
   "cell_type": "markdown",
   "metadata": {},
   "source": "This cell repeats the operation for the the fire detection result dataset (`fire_result`)"
  },
  {
   "cell_type": "code",
   "metadata": {},
   "source": [
    "dataset = \"fire_result\"  # Dataset to load. \n",
    "# Load dataset. The upper_right_corner keyword is needed to flip the dataset to \"upright\" projection\n",
    "fir_scn.load([dataset], upper_right_corner='NE')\n",
    "scn_resample=fir_scn.resample(adef)\n",
    "\n",
    "fir_res = scn_resample[dataset]"
   ],
   "outputs": [],
   "execution_count": null
  },
  {
   "cell_type": "markdown",
   "metadata": {},
   "source": [
    "Now plot the result dataset using `matplotlib.pyplot` and `cartopy`. In this case the labels are categorical (discrete) classes, not continuous values. Each pixel in the map belongs to exactly one of the categories.\n",
    "\n",
    "Since they are discrete classification results, they are represented with a ListedColormap (one distinct color per class) and BoundaryNorm to map the integer values to the correct color interval."
   ]
  },
  {
   "cell_type": "code",
   "metadata": {},
   "source": [
    "result_labels = {\n",
    "    0: 'No fire',\n",
    "    1: 'Fire low confidence',\n",
    "    2: 'Fire medium confidence',\n",
    "    3: 'Fire high confidence',\n",
    "    4: 'Missing-undefined'\n",
    "}\n",
    "\n",
    "colors = ['lightgray', 'yellow', 'orange', 'red', 'white']\n",
    "cmap = ListedColormap(colors)\n",
    "bounds = [0, 1, 2, 3, 4, 5]  # for 5 classes\n",
    "norm = BoundaryNorm(bounds, cmap.N)\n",
    "\n",
    "# Plot\n",
    "crs = adef.to_cartopy_crs()\n",
    "fig, ax = plt.subplots(subplot_kw={'projection': crs})\n",
    "\n",
    "ax.coastlines(resolution='50m')\n",
    "im = ax.imshow(fir_res, transform=crs, cmap=cmap, norm=norm, extent=crs.bounds, origin='upper', interpolation='nearest')\n",
    "\n",
    "plt.axis('off')\n",
    "cbar = plt.colorbar(im, orientation='horizontal', aspect=25, shrink=0.72, pad=0.02, ticks=[0.5, 1.5, 2.5, 3.5, 4.5])\n",
    "labels = [result_labels[i] for i in range(5)]\n",
    "cbar.ax.set_xticklabels(labels)\n",
    "cbar.ax.set_xticklabels(labels, rotation=45, ha='right')\n",
    "cbar.ax.set_xlabel('Fire Detection Result')\n",
    "\n",
    "plt.tight_layout()\n",
    "plt.show()"
   ],
   "outputs": [],
   "execution_count": null
  },
  {
   "cell_type": "markdown",
   "metadata": {},
   "source": "## 3 - Load and visualise FCI Level 1c Data"
  },
  {
   "cell_type": "markdown",
   "metadata": {},
   "source": [
    "Now let's download the FCI L1c data for the same area and time as the FIR product. \n",
    "\n",
    "The FCI L1c data is split in 40 chunks, that when stacked together, compose a full-disc image (see [this guide for a plot of the chunks location](https://user.eumetsat.int/resources/user-guides/mtg-data-access-guide#ID-Download-chunks-of-FCI-products-based-on-coverage)). Adding the `fci_l1c_chunks_lonlat_bbox` argument lets the code only download chunks that intersect the bounding box."
   ]
  },
  {
   "cell_type": "code",
   "metadata": {},
   "source": [
    "# geographical bounds of search area (used for FCI L1c chunks selection)\n",
    "fci_l1c_chunks_lonlat_bbox = [lonmin, latmin, lonmax, latmax]\n",
    "\n",
    "collection_ids = [\"EO:EUM:DAT:0662\", \"EO:EUM:DAT:0665\"]\n",
    "\n",
    "download_from_eumdac(start_time, end_time, collection_ids, output_folder,\n",
    "                     credentials.EUMDAC_CONSUMER_KEY, credentials.EUMDAC_CONSUMER_SECRET, file_endings=file_endings,\n",
    "                     fci_l1c_chunks_lonlat_bbox=fci_l1c_chunks_lonlat_bbox)\n"
   ],
   "outputs": [],
   "execution_count": null
  },
  {
   "cell_type": "markdown",
   "metadata": {},
   "source": [
    "You can now use the `Scene` constructor from the [satpy](https://satpy.readthedocs.io/en/stable/index.html) library to load the data files. Once loaded, a `Scene` object represents a single geographic region of data.\n",
    "\n",
    "The Satpy Scene accepts both FDHSI and HRFI data chunks at the same time, and will automatically pick the channels with the best available resolution by default."
   ]
  },
  {
   "cell_type": "code",
   "metadata": {},
   "source": [
    "fci_files = find_files_and_readers(base_dir=output_folder, reader='fci_l1c_nc', start_time=datetime.datetime.strptime(start_time, \"%Y-%m-%dT%H:%M:%S\"), end_time=datetime.datetime.strptime(end_time, \"%Y-%m-%dT%H:%M:%S\"))\n",
    "fci_l1_scn = Scene(filenames=fci_files)"
   ],
   "outputs": [],
   "execution_count": null
  },
  {
   "cell_type": "markdown",
   "metadata": {},
   "source": "Here you will be able to select the RGB composite you want to display. You can browse the pre-defined composites using the according function"
  },
  {
   "metadata": {},
   "cell_type": "code",
   "source": "fci_l1_scn.available_composite_names()",
   "outputs": [],
   "execution_count": null
  },
  {
   "metadata": {},
   "cell_type": "markdown",
   "source": [
    "\n",
    "We choose to display a True Color RBG:"
   ]
  },
  {
   "cell_type": "code",
   "metadata": {},
   "source": [
    "composite1 = 'true_color'\n",
    "fci_l1_scn.load([composite1], upper_right_corner='NE', pad_data=False)"
   ],
   "outputs": [],
   "execution_count": null
  },
  {
   "cell_type": "markdown",
   "metadata": {},
   "source": [
    "Next, you can use the area definition above in order to resample the loaded Scene object. You can use the function `resample()` to do so.\n",
    "Let us also save in `xr_color` the image for future plotting."
   ]
  },
  {
   "cell_type": "code",
   "metadata": {},
   "source": [
    "scn_resampled_color = fci_l1_scn.resample(adef)\n",
    "xr_color = get_enhanced_image(scn_resampled_color[\"true_color\"])\n",
    "composite1_img = np.moveaxis(xr_color.data.to_numpy(), 0, -1)"
   ],
   "outputs": [],
   "execution_count": null
  },
  {
   "cell_type": "markdown",
   "metadata": {},
   "source": [
    "You can now print the metadata of the loaded image"
   ]
  },
  {
   "cell_type": "code",
   "metadata": {},
   "source": [
    "print(scn_resampled_color)"
   ],
   "outputs": [],
   "execution_count": null
  },
  {
   "cell_type": "markdown",
   "metadata": {},
   "source": [
    "Afterwards, you can visualize the resampled `true_color` RGB with the function `show()`."
   ]
  },
  {
   "cell_type": "code",
   "metadata": {},
   "source": "scn_resampled_color.show(composite1)",
   "outputs": [],
   "execution_count": null
  },
  {
   "cell_type": "markdown",
   "metadata": {},
   "source": [
    "The same thing can be done with channel/RGB composite `fire_temperature`. More informations can be found [here](https://user.eumetsat.int/resources/user-guides/fire-temperature-rgb-quick-guide)."
   ]
  },
  {
   "cell_type": "code",
   "metadata": {},
   "source": [
    "composite2='fire_temperature'\n",
    "fci_l1_scn.load([composite2], upper_right_corner='NE', pad_data=False)\n",
    "\n",
    "scn_resampled_temp = fci_l1_scn.resample(adef)\n",
    "xr_temp = get_enhanced_image(scn_resampled_temp[\"fire_temperature\"])\n",
    "composite2_img = np.moveaxis(xr_temp.data.to_numpy(), 0, -1)\n",
    "\n",
    "scn_resampled_temp.show(composite2)"
   ],
   "outputs": [],
   "execution_count": null
  },
  {
   "cell_type": "markdown",
   "metadata": {},
   "source": [
    "## 4 - Compare FIR data with RGB composites"
   ]
  },
  {
   "cell_type": "markdown",
   "metadata": {},
   "source": [
    "Plots a 3-panel map for comparison of different data: fire probability heatmap, fire classification categories, and a normalized Satpy RGB scene."
   ]
  },
  {
   "cell_type": "code",
   "metadata": {},
   "source": [
    "%matplotlib widget\n",
    "# Define CRS\n",
    "crs = adef.to_cartopy_crs()\n",
    "\n",
    "# Prepare colormap\n",
    "result_labels = {\n",
    "    0: 'No fire',\n",
    "    1: 'Fire low confidence',\n",
    "    2: 'Fire medium confidence',\n",
    "    3: 'Fire high confidence',\n",
    "    4: 'Missing-undefined'\n",
    "}\n",
    "colors = ['lightgray', 'yellow', 'orange', 'red', 'white']\n",
    "cmap = ListedColormap(colors)\n",
    "bounds = [0, 1, 2, 3, 4, 5]\n",
    "norm = BoundaryNorm(bounds, cmap.N)\n",
    "\n",
    "fig, axes = plt.subplots(1, 4, subplot_kw={'projection': crs}, figsize=(18, 6))\n",
    "\n",
    "# Fire probability map \n",
    "ax = axes[0]\n",
    "ax.coastlines(resolution='50m')\n",
    "im1 = ax.imshow(fir_prob.values*100, transform=crs, cmap='RdYlBu_r',\n",
    "                extent=crs.bounds, origin='upper',\n",
    "                vmin=0, vmax=100, interpolation='none')\n",
    "ax.set_title(\"MTG FIR Fire Probability (%)\")\n",
    "\n",
    "# Fire classification result \n",
    "ax = axes[1]\n",
    "ax.coastlines(resolution='50m')\n",
    "im2 = ax.imshow(fir_res, transform=crs, cmap=cmap, norm=norm,\n",
    "                extent=crs.bounds, origin='upper', interpolation='nearest')\n",
    "ax.set_title(\"MTG FIR Fire Detection Result\")\n",
    "\n",
    "# Satpy scenes \n",
    "ax = axes[2]\n",
    "ax.imshow(composite1_img, transform=crs, origin='upper')\n",
    "ax.set_title(f\"MTG {composite1} Image\")\n",
    "\n",
    "ax = axes[3]\n",
    "ax.imshow(composite2_img, transform=crs, origin='upper')\n",
    "ax.set_title(f\"MTG {composite2} Image\")\n",
    "\n",
    "plt.tight_layout()\n",
    "plt.show()\n"
   ],
   "outputs": [],
   "execution_count": null
  },
  {
   "metadata": {},
   "cell_type": "markdown",
   "source": "## Load and visualise S3 NRT FRP product"
  },
  {
   "metadata": {},
   "cell_type": "markdown",
   "source": [
    "The [Copernicus Sentinel-3 SLSTR Near-Real-Time Fire Radiative Power (FRP)](https://navigator.eumetsat.int/product/EO:EUM:DAT:0207) product identifies the location and quantifies the radiative power of any hotspot present on land and ocean, that radiates a heating signal within a pixel size of 1 km<sup>2</sup>.\n",
    "\n",
    "All  hotspots are identified and characterised within three hours from SLSTR observation sensing time.\n",
    "The current version of the Near-Real-Time (NRT) S3 FRP processor (Collection 3 available since 4 July 2024) is applicable day and night (over land), and night (over waters for offshore gas flares). The NRT S3 FRP product is pre-operational after having reached lately a high level of quality and maturity, a comprehensive global validation, and positive feedback by experts and users.\n"
   ]
  },
  {
   "metadata": {},
   "cell_type": "markdown",
   "source": "As with FCI, let's download the S3 data through the EUMDAC wrapper. The `search_bbox` argument allows the filtering of the LEO granules according to our AOI. With LEO, it"
  },
  {
   "metadata": {},
   "cell_type": "code",
   "source": [
    "search_bbox = \",\".join([str(lonmin), str(latmin), str(lonmax), str(latmax)])\n",
    "collection_ids = [\"EO:EUM:DAT:0417\"]\n",
    "download_from_eumdac(start_time, end_time, collection_ids, output_folder,\n",
    "                     credentials.EUMDAC_CONSUMER_KEY, credentials.EUMDAC_CONSUMER_SECRET, file_endings=file_endings,\n",
    "                     search_bbox=search_bbox)"
   ],
   "outputs": [],
   "execution_count": null
  },
  {
   "metadata": {},
   "cell_type": "markdown",
   "source": [
    "<div class=\"alert alert-block alert-success\">\n",
    "<b>NOTE:</b><br />\n",
    "The call above, with the default dates, may not have downloaded any data. Why is that the case? And how can we solve this?\n",
    "</div>"
   ]
  },
  {
   "metadata": {},
   "cell_type": "markdown",
   "source": [
    "The first step is to load the data file with xarray's `xr.open_dataset()` function.\n",
    "\n",
    "Once the data file is loaded, we see that the data file has three dimensions: `columns`, `fires` and `rows`. The data and additional information, such as quality flags or latitude and longitude information, is stored as data variables.\n",
    "\n",
    "There are 2 variables of interest:\n",
    "- `FRP_MWIR` - Fire Radiative Power computed from MWIR channel (3.7 um) [MW]\n",
    "- `FRP_SWIR` - Fire Radiative Power computed from SWIR channel (2.25 um) [MW]\n",
    "\n",
    "The channels differ in the type of fire they can detect. The `FRP_MWIR` channel detects hotspots with a temperature lower than 1100 Kelvin (typically wildfires), whereas the `FRP_SWIR` channel detects hotspots with higher temperatures above 1100 Kelvin (intense wildfires and gas flares). Both channels can be processes as shown below, in this notebook we will focus only on `FRP_MWIR`.\n",
    "\n",
    "FRP products mainly use MWIR during the day due to its reliability, while at night, combining MWIR and SWIR helps detect a wider range of fire intensities. SWIR is not yet used during daytime. We select the `FRP_MWIR1km_standard.nc` file to analyse the MWIR detections."
   ]
  },
  {
   "metadata": {},
   "cell_type": "code",
   "source": [
    "# You can change the folder below if you like, the preselected one is recommended as it contains many fires\n",
    "data_folder = 'S3B_SL_2_FRP____20250818T222627_20250818T223127_20250819T004819_0299_110_101______MAR_O_NR_003.SEN3'\n",
    "\n",
    "frp_xr = xr.open_dataset(f\"./products/{data_folder}/FRP_MWIR1km_standard.nc\", engine='netcdf4')\n",
    "frp_xr"
   ],
   "outputs": [],
   "execution_count": null
  },
  {
   "metadata": {},
   "cell_type": "code",
   "source": [
    "lat_frp = frp_xr['latitude']\n",
    "lon_frp = frp_xr['longitude']\n",
    "frp_val = frp_xr['FRP_MWIR']\n",
    "\n",
    "lat_frp, lon_frp, frp_val"
   ],
   "outputs": [],
   "execution_count": null
  },
  {
   "metadata": {},
   "cell_type": "markdown",
   "source": "In the following cell, feel free to extract some interesting statistics from the variables."
  },
  {
   "metadata": {},
   "cell_type": "code",
   "source": "# your code to extract statistics",
   "outputs": [],
   "execution_count": null
  },
  {
   "metadata": {},
   "cell_type": "markdown",
   "source": [
    "Now, let's plot the S3 detections on top of FCI data! If the selected S3 granule times do not correspond to the FCI times selected previously, just change the times at the top of the notebook and re-run all cells until here.\n",
    "\n",
    "You can uncomment the FCI plot you would like to add below the S3 granules."
   ]
  },
  {
   "metadata": {},
   "cell_type": "code",
   "source": [
    "fig, ax = plt.subplots(1, 1, subplot_kw={'projection': crs}, figsize=(18, 6))\n",
    "ax.coastlines(resolution='50m')\n",
    "\n",
    "\n",
    "\n",
    "# ax.imshow(fir_prob.values*100, transform=crs, cmap='RdYlBu_r', extent=crs.bounds, origin='upper', vmin=0, vmax=100, interpolation='none')  # fire probability map\n",
    "# ax.imshow(fir_res, transform=crs, cmap=cmap, norm=norm, extent=crs.bounds, origin='upper', interpolation='nearest')  # fire classification result\n",
    "# ax.imshow(composite1_img, transform=crs, origin='upper', extent=crs.bounds)  # satpy composite 1\n",
    "ax.imshow(composite2_img, transform=crs, origin='upper', extent=crs.bounds)  # satpy composite 2\n",
    "\n",
    "\n",
    "scatter = ax.scatter(\n",
    "    lon_frp.values, lat_frp.values,\n",
    "    c=frp_val,\n",
    "    cmap='YlOrRd',\n",
    "    s=30,  # size of markers\n",
    "    edgecolor='black',  # optional: add a black border around markers\n",
    "    transform=ccrs.PlateCarree(),\n",
    "    vmin=0, vmax=600\n",
    ")\n",
    "\n",
    "colormap = cm.ScalarMappable(cmap='YlOrRd')\n",
    "colormap.set_clim(0, 600)\n",
    "cbar = plt.colorbar(colormap, ax=ax, orientation='vertical', fraction=0.046, pad=0.04)\n",
    "cbar.set_label('S3 FRP Value [MW]')"
   ],
   "outputs": [],
   "execution_count": null
  },
  {
   "cell_type": "markdown",
   "metadata": {
    "Collapsed": "false"
   },
   "source": [
    "<hr>"
   ]
  },
  {
   "cell_type": "markdown",
   "metadata": {},
   "source": [
    "References:\n",
    "* https://gitlab.eumetsat.int/eumetlab/data-services/eumdac_data_store/-/blob/master/1_5_MTG_FCI_data_access.ipynb\n",
    "* https://www.eumetrain.org/resources/andrea-meraner-eumetsat-fci4fires-detecting-and-visualising-wildfires-mtg-fci (slides)\n",
    "* https://user.eumetsat.int/resources/user-guides/mtg-fci-l2-fir-data-guide#ID-Data-loading-analysis-processing-and-visualisation-tools"
   ]
  },
  {
   "cell_type": "markdown",
   "metadata": {
    "Collapsed": "false"
   },
   "source": "<p style=\"text-align:left;\">This project is licensed under the <a href=\"./LICENSE.TXT\">GPL-3.0-or-later</a> </p>"
  }
 ],
 "metadata": {
  "author": "Noemi Fazzini",
  "deployment": {
   "wekeo": {
    "git": {
     "link": "",
     "service_contact": "",
     "service_provider": ""
    },
    "url": {
     "link": "",
     "service_contact": "",
     "service_provider": ""
    }
   }
  },
  "description": "",
  "image": "",
  "kernelspec": {
   "display_name": "Python 3 (ipykernel)",
   "language": "python",
   "name": "python3"
  },
  "language_info": {
   "codemirror_mode": {
    "name": "ipython",
    "version": 3
   },
   "file_extension": ".py",
   "mimetype": "text/x-python",
   "name": "python",
   "nbconvert_exporter": "python",
   "pygments_lexer": "ipython3",
   "version": "3.11.11"
  },
  "tags": {
   "service": [
    ""
   ],
   "subtheme": [
    ""
   ],
   "theme": ""
  },
  "title": ""
 },
 "nbformat": 4,
 "nbformat_minor": 4
}

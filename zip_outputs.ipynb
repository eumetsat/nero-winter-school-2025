{
 "cells": [
  {
   "metadata": {},
   "cell_type": "markdown",
   "source": [
    "<font color=\"#138D75\">**NERO Winter School training**</font> <br>\n",
    "**Copyright:** (c) 2025 EUMETSAT <br>\n",
    "**License:** GPL-3.0-or-later <br>\n",
    "**Authors:** Andrea Meraner (EUMETSAT)\n",
    "\n",
    "# Zip an output folder for easier download\n",
    "Configure and run the cell below with an output path and run name to generate a zip file of the content for easier local download."
   ],
   "id": "db4984d96a61cbf0"
  },
  {
   "cell_type": "code",
   "id": "initial_id",
   "metadata": {
    "collapsed": true,
    "ExecuteTime": {
     "end_time": "2025-02-16T19:57:20.345303Z",
     "start_time": "2025-02-16T19:57:19.697356Z"
    }
   },
   "source": [
    "from tools import zip_output_folder\n",
    "\n",
    "output_path = \"testdir\"\n",
    "run_name = \"testrun\"\n",
    "zip_output_folder(output_path, run_name)"
   ],
   "outputs": [
    {
     "name": "stdout",
     "output_type": "stream",
     "text": [
      "Generated zip file: testdir/testrun.zip\n"
     ]
    }
   ],
   "execution_count": 2
  }
 ],
 "metadata": {
  "kernelspec": {
   "display_name": "Python 3",
   "language": "python",
   "name": "python3"
  },
  "language_info": {
   "codemirror_mode": {
    "name": "ipython",
    "version": 2
   },
   "file_extension": ".py",
   "mimetype": "text/x-python",
   "name": "python",
   "nbconvert_exporter": "python",
   "pygments_lexer": "ipython2",
   "version": "2.7.6"
  }
 },
 "nbformat": 4,
 "nbformat_minor": 5
}

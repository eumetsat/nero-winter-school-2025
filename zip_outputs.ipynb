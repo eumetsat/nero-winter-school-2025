{
 "cells": [
  {
   "metadata": {},
   "cell_type": "markdown",
   "source": [
    "<font color=\"#138D75\">**NERO Winter School training**</font> <br>\n",
    "**Copyright:** (c) 2025 EUMETSAT <br>\n",
    "**License:** GPL-3.0-or-later <br>\n",
    "**Authors:** Andrea Meraner (EUMETSAT)\n",
    "\n",
    "# Zip an output folder for easier download\n",
    "Configure and run the cell below to generate a zip file of the content of `folder_to_zip` for easier download to your own computer."
   ],
   "id": "db4984d96a61cbf0"
  },
  {
   "cell_type": "code",
   "id": "initial_id",
   "metadata": {
    "collapsed": true,
    "ExecuteTime": {
     "end_time": "2025-02-16T19:57:20.345303Z",
     "start_time": "2025-02-16T19:57:19.697356Z"
    }
   },
   "source": [
    "import os\n",
    "\n",
    "from tools import zip_output_folder\n",
    "\n",
    "output_path = \"testdir\"\n",
    "run_name = \"testrun\"\n",
    "folder_to_zip = os.path.join(output_path, run_name)  # or input a manual path\n",
    "\n",
    "output_zip_filename = os.path.join(output_path, f\"{run_name}.zip\")  # or input a manual name\n",
    "\n",
    "zip_output_folder(folder_to_zip, output_zip_filename)"
   ],
   "outputs": [
    {
     "name": "stdout",
     "output_type": "stream",
     "text": [
      "Generated zip file: testdir/testrun.zip\n"
     ]
    }
   ],
   "execution_count": 2
  }
 ],
 "metadata": {
  "kernelspec": {
   "display_name": "Python 3",
   "language": "python",
   "name": "python3"
  },
  "language_info": {
   "codemirror_mode": {
    "name": "ipython",
    "version": 2
   },
   "file_extension": ".py",
   "mimetype": "text/x-python",
   "name": "python",
   "nbconvert_exporter": "python",
   "pygments_lexer": "ipython2",
   "version": "2.7.6"
  }
 },
 "nbformat": 4,
 "nbformat_minor": 5
}

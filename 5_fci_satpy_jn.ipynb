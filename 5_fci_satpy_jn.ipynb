{
 "cells": [
  {
   "metadata": {},
   "cell_type": "markdown",
   "source": [
    "<font color=\"#138D75\">**NERO Winter School training**</font> <br>\n",
    "**Copyright:** (c) 2025 EUMETSAT <br>\n",
    "**License:** GPL-3.0-or-later <br>\n",
    "**Authors:** Andrea Meraner (EUMETSAT)\n",
    "# Process MTG-FCI imagery data\n",
    "\n",
    "## Intro\n",
    "\n",
    "The MTG-FCI (Meteosat Third Generation - Flexible Combined Imager) is the latest and most advanced geostationary instrument launched by EUMETSAT in 2022. The data is available operationally since Dec 2024. The instrument offers 16 spectral channels in the visible and thermal infrared domain with spatial resolutions between 500m and 2km. The acquisition frequency is 10 minutes.\n",
    "\n",
    "In this notebook, we will access and process L1c data (rectified radiances) from MTG-FCI using the satpy library. Satpy is a powerful tool for processing satellite data, and it includes readers for more than hundred satellite data format.\n",
    "\n",
    "**Note:** Since the examples and case studies dates happened when FCI was not operational yet, the data is not publicly accessible. The EUMETSAT trainers have therefore uploaded the data to an S3-bucket dedicated to this training. Due to the data volume, the data is read remotely without downloading it locally into the JupyterHub instance (at cost of reduced processing speed).\n",
    "For downloading data from the EUMETSAT Data Store using an optimised data download, see the script in `download_fci_from_archive.py` or [the MTG data access guide](https://user.eumetsat.int/resources/user-guides/mtg-data-access-guide).\n",
    "\n",
    "## Learning Objectives\n",
    "\n",
    "- How to work with geostationary FCI L1c data using satpy to generate composites\n",
    "\n",
    "## Links and Resouces\n",
    "- MTG-FCI information and L1c data guide: https://user.eumetsat.int/resources/user-guides/mtg-fci-level-1c-data-guide\n",
    "- Youtube livestream showing the latest FCI images: https://www.eumetsat.int/real-time-imagery/earth-view\n",
    "- Satpy documentation: https://satpy.readthedocs.io/en/stable/\n",
    "\n",
    "<hr>\n",
    "\n",
    "## Before we start\n",
    "To run this script you need configure your access to the training s3-bucket. For this, you need to edit the credentials.py by entering the `S3_NERO_ACCESS_KEY` and `S3_NERO_SECRET_KEY` - please refer to Andrea or Dominika to get the keys.\n",
    "\n",
    "<hr>"
   ],
   "id": "75813f4147c01c03"
  },
  {
   "metadata": {},
   "cell_type": "markdown",
   "source": [
    "### Setup\n",
    "Import the required packages and check the cache status"
   ],
   "id": "ade02df186f1be44"
  },
  {
   "metadata": {
    "collapsed": true,
    "ExecuteTime": {
     "end_time": "2025-02-15T17:25:26.557613Z",
     "start_time": "2025-02-15T17:25:24.400630Z"
    }
   },
   "cell_type": "code",
   "source": [
    "import os\n",
    "from datetime import datetime, timedelta\n",
    "\n",
    "import fsspec\n",
    "from satpy import Scene\n",
    "from satpy.readers import find_files_and_readers, FSFile\n",
    "\n",
    "import credentials\n",
    "from fci_satpy_script import CACHE_FOLDER, CACHE_SIZE_LIMIT_GB, main_fci, clear_cache_if_exceeds_limit\n",
    "\n",
    "clear_cache_if_exceeds_limit(CACHE_FOLDER,\n",
    "                             CACHE_SIZE_LIMIT_GB)  # the s3-bucket uses a cache folder, let's clean it up if it's full already"
   ],
   "id": "initial_id",
   "outputs": [],
   "execution_count": 1
  },
  {
   "metadata": {},
   "cell_type": "markdown",
   "source": [
    "Configure your query by defining the time and area. The time should be in the format `\"2024-09-16T00:00:00\"` and will indicate the start time of the FCI acquisition. The latitude-longitude bounding box `lonlat_bbox` is generated from the `W`est, `S`outh, `E`ast, `N`orth variables.\n",
    "**Note: since FCI provides an acquisition every 10 minutes (aka \"repeat cycle\"), the start time should be a round 10-min clock time, like 00:00, 00:10, 00:20, etc.**"
   ],
   "id": "30b5494894fe486c"
  },
  {
   "metadata": {
    "ExecuteTime": {
     "end_time": "2025-02-15T17:25:26.569383Z",
     "start_time": "2025-02-15T17:25:26.565958Z"
    }
   },
   "cell_type": "code",
   "source": [
    "start_time = \"2024-09-16T11:00:00\"\n",
    "\n",
    "#  lat-lon geographical bounds of search area\n",
    "W = 26.5\n",
    "S = 41.7\n",
    "E = 27.3\n",
    "N = 42.3\n",
    "lonlat_bbox = [W, S, E, N]\n",
    "\n",
    "run_name = \"testrun\"\n",
    "output_dir = \"./test/\"\n",
    "\n",
    "input_dir = 'satellite_data/fci_data/202409_Portugal/'  # refer to the trainers for the correct path to the data depending on the case"
   ],
   "id": "27f19cb477ab9e27",
   "outputs": [],
   "execution_count": 2
  },
  {
   "metadata": {},
   "cell_type": "markdown",
   "source": [
    "### Search data on bucket\n",
    "Let's find the FCI files for our query and prepare them for ingestion into a Satpy Scene."
   ],
   "id": "bec335e6b8916296"
  },
  {
   "metadata": {
    "ExecuteTime": {
     "end_time": "2025-02-15T17:25:31.170039Z",
     "start_time": "2025-02-15T17:25:26.914827Z"
    }
   },
   "cell_type": "code",
   "source": [
    "start_dt = datetime.strptime(start_time, \"%Y-%m-%dT%H:%M:%S\")\n",
    "\n",
    "# initialise the filesystem for the bucket\n",
    "fs = fsspec.filesystem(\n",
    "    \"simplecache\",\n",
    "    target_protocol=\"s3\",\n",
    "    target_options={\n",
    "        \"endpoint_url\": credentials.S3_ENDPOINT,\n",
    "        \"key\": credentials.S3_NERO_ACCESS_KEY,\n",
    "        \"secret\": credentials.S3_NERO_SECRET_KEY,\n",
    "    },\n",
    "    cache_storage=CACHE_FOLDER\n",
    ")\n",
    "\n",
    "# search for files based on the start time\n",
    "fci_filenames = find_files_and_readers(base_dir=f\"s3://{credentials.S3_NERO_BUCKET_NAME}/{input_dir}\",\n",
    "                                       start_time=start_dt,\n",
    "                                       end_time=start_dt + timedelta(minutes=10),\n",
    "                                       reader='fci_l1c_nc',\n",
    "                                       fs=fs,\n",
    "                                       missing_ok=True)\n",
    "# manually create FSFiles for each found path and pass that to the Scene\n",
    "fci_filenames['fci_l1c_nc'] = [FSFile(fn, fs=fs) for fn in fci_filenames['fci_l1c_nc']]\n",
    "\n",
    "if 'fci_l1c_nc' in fci_filenames and len(fci_filenames['fci_l1c_nc']) > 0:\n",
    "    print(f\"Found {len(fci_filenames['fci_l1c_nc'])} filenames: {fci_filenames['fci_l1c_nc']}\")"
   ],
   "id": "132978f8b8dcdb59",
   "outputs": [
    {
     "name": "stdout",
     "output_type": "stream",
     "text": [
      "Found 6 filenames: [<FSFile \"training-nero/satellite_data/fci_data/202409_Portugal/W_XX-EUMETSAT-Darmstadt,IMG+SAT,MTI1+FCI-1C-RRAD-FDHSI-FD--CHK-BODY---NC4E_C_EUMT_20240916111023_IDPFI_VAL_20240916110737_20240916110827_N__C_0067_0033.nc\">, <FSFile \"training-nero/satellite_data/fci_data/202409_Portugal/W_XX-EUMETSAT-Darmstadt,IMG+SAT,MTI1+FCI-1C-RRAD-FDHSI-FD--CHK-BODY---NC4E_C_EUMT_20240916111045_IDPFI_VAL_20240916110803_20240916110856_N__C_0067_0035.nc\">, <FSFile \"training-nero/satellite_data/fci_data/202409_Portugal/W_XX-EUMETSAT-Darmstadt,IMG+SAT,MTI1+FCI-1C-RRAD-FDHSI-FD--CHK-BODY---NC4E_C_EUMT_20240916111037_IDPFI_VAL_20240916110755_20240916110842_N__C_0067_0034.nc\">, <FSFile \"training-nero/satellite_data/fci_data/202409_Portugal/W_XX-EUMETSAT-Darmstadt,IMG+SAT,MTI1+FCI-1C-RRAD-HRFI-FD--CHK-BODY---NC4E_C_EUMT_20240916111037_IDPFI_VAL_20240916110755_20240916110842_N__C_0067_0034.nc\">, <FSFile \"training-nero/satellite_data/fci_data/202409_Portugal/W_XX-EUMETSAT-Darmstadt,IMG+SAT,MTI1+FCI-1C-RRAD-HRFI-FD--CHK-BODY---NC4E_C_EUMT_20240916111045_IDPFI_VAL_20240916110803_20240916110856_N__C_0067_0035.nc\">, <FSFile \"training-nero/satellite_data/fci_data/202409_Portugal/W_XX-EUMETSAT-Darmstadt,IMG+SAT,MTI1+FCI-1C-RRAD-HRFI-FD--CHK-BODY---NC4E_C_EUMT_20240916111023_IDPFI_VAL_20240916110737_20240916110827_N__C_0067_0033.nc\">]\n"
     ]
    }
   ],
   "execution_count": 3
  },
  {
   "metadata": {},
   "cell_type": "markdown",
   "source": [
    "### Initialise satpy Scene and generate composite\n",
    "Now let's initialise the satpy Scene and check what datasets and composites can be extracted."
   ],
   "id": "ac244307954ba47a"
  },
  {
   "metadata": {
    "ExecuteTime": {
     "end_time": "2025-02-15T17:25:36.834283Z",
     "start_time": "2025-02-15T17:25:32.999064Z"
    }
   },
   "cell_type": "code",
   "source": [
    "scn = Scene(filenames=fci_filenames)\n",
    "scn.available_dataset_names()\n",
    "scn.available_composite_names()"
   ],
   "id": "6564bf62dfe33a21",
   "outputs": [
    {
     "data": {
      "text/plain": [
       "['24h_microphysics',\n",
       " 'airmass',\n",
       " 'ash',\n",
       " 'cimss_cloud_type',\n",
       " 'cimss_cloud_type_raw',\n",
       " 'cloud_phase',\n",
       " 'cloud_phase_distinction',\n",
       " 'cloud_phase_distinction_raw',\n",
       " 'cloud_phase_raw',\n",
       " 'cloud_phase_with_night_ir105',\n",
       " 'cloud_type',\n",
       " 'cloud_type_with_night_ir105',\n",
       " 'cloudtop',\n",
       " 'colorized_ir_clouds',\n",
       " 'convection',\n",
       " 'day_essl_colorized_low_level_moisture',\n",
       " 'day_essl_low_level_moisture',\n",
       " 'day_microphysics',\n",
       " 'dust',\n",
       " 'essl_colorized_low_level_moisture',\n",
       " 'essl_low_level_moisture',\n",
       " 'fire_temperature',\n",
       " 'fire_temperature_38refl',\n",
       " 'fire_temperature_rad',\n",
       " 'fog',\n",
       " 'geo_color',\n",
       " 'geo_color_background_with_low_clouds',\n",
       " 'geo_color_high_clouds',\n",
       " 'geo_color_low_clouds',\n",
       " 'geo_color_night',\n",
       " 'green_snow',\n",
       " 'ir108_3d',\n",
       " 'ir_cloud_day',\n",
       " 'ir_sandwich',\n",
       " 'ir_sandwich_with_night_colorized_ir_clouds',\n",
       " 'natural_color',\n",
       " 'natural_color_raw',\n",
       " 'ndvi_hybrid_green',\n",
       " 'ndvi_hybrid_green_fully_sunzencorrected',\n",
       " 'ndvi_hybrid_green_raw',\n",
       " 'night_fog',\n",
       " 'night_ir105',\n",
       " 'night_ir_alpha',\n",
       " 'night_ir_with_background',\n",
       " 'night_ir_with_background_hires',\n",
       " 'night_microphysics',\n",
       " 'rocket_plume_day',\n",
       " 'rocket_plume_night',\n",
       " 'snow',\n",
       " 'true_color',\n",
       " 'true_color_fully_sunzencorrected',\n",
       " 'true_color_raw',\n",
       " 'true_color_raw_with_corrected_green',\n",
       " 'true_color_reproduction',\n",
       " 'true_color_reproduction_corr',\n",
       " 'true_color_reproduction_uncorr',\n",
       " 'true_color_with_night_ir',\n",
       " 'true_color_with_night_ir105',\n",
       " 'true_color_with_night_ir_hires']"
      ]
     },
     "execution_count": 4,
     "metadata": {},
     "output_type": "execute_result"
    }
   ],
   "execution_count": 4
  },
  {
   "metadata": {},
   "cell_type": "markdown",
   "source": [
    "Out of the available dataset names, select the ones that interest you and add them to the list of datasets to load.\n",
    "**Note: for many composites, you will may get a message saying that the dataset is not available and needs resampling. This is because composites combining channels of different spatial resolutions need to be resampled to a common grid first. We will do the resampling lower below, so you don't need to worry about the message now."
   ],
   "id": "3a311e829e4cda20"
  },
  {
   "metadata": {
    "ExecuteTime": {
     "end_time": "2025-02-15T17:25:41.475211Z",
     "start_time": "2025-02-15T17:25:40.360390Z"
    }
   },
   "cell_type": "code",
   "source": [
    "datasets = ['nir_22', 'ir_38', 'fire_temperature']\n",
    "scn.load(datasets, upper_right_corner='NE')"
   ],
   "id": "b49ad5d6b4f71c75",
   "outputs": [
    {
     "name": "stderr",
     "output_type": "stream",
     "text": [
      "The following datasets were not created and may require resampling to be generated: DataID(name='fire_temperature')\n"
     ]
    }
   ],
   "execution_count": 5
  },
  {
   "metadata": {},
   "cell_type": "markdown",
   "source": [
    "Now let's crop the datasets to our region of interest. All datasets will be cropped at the same time.\n",
    "After that, we also resample the cropped data to the grid with the best available resolution. The `native` resampling simply splits or aggregates pixels to match a higher or lower resolution, without changing projection."
   ],
   "id": "87d100d8fbf05e11"
  },
  {
   "metadata": {
    "ExecuteTime": {
     "end_time": "2025-02-15T17:25:42.090038Z",
     "start_time": "2025-02-15T17:25:41.724484Z"
    }
   },
   "cell_type": "code",
   "source": [
    "scn_crop = scn.crop(ll_bbox=lonlat_bbox)\n",
    "scn_crop_r = scn_crop.resample(scn_crop.finest_area(), resampler='native', reduce_data=False)"
   ],
   "id": "44beb618381e9688",
   "outputs": [],
   "execution_count": 6
  },
  {
   "metadata": {},
   "cell_type": "markdown",
   "source": "Now let's visualise a dataset. The bucket contains only a subset of the FCI chunks (segments that compose the full-disc), namely the ones covering the area of interest for each case. Hence only part of the disc is available, and cropping to an area outside the area covered by the chunks will lead to an empty image.",
   "id": "96635ea4705f01de"
  },
  {
   "metadata": {
    "ExecuteTime": {
     "end_time": "2025-02-15T17:25:42.710776Z",
     "start_time": "2025-02-15T17:25:42.094363Z"
    }
   },
   "cell_type": "code",
   "source": "scn_crop_r.show('fire_temperature')",
   "id": "4810c2126c80f3da",
   "outputs": [
    {
     "name": "stderr",
     "output_type": "stream",
     "text": [
      "/tcenas/home/andream/anaconda3/envs/devenv/lib/python3.11/site-packages/dask/core.py:127: RuntimeWarning: invalid value encountered in log\n",
      "  return func(*(_execute_task(a, cache) for a in args))\n"
     ]
    },
    {
     "data": {
      "text/plain": [
       "<trollimage.xrimage.XRImage at 0x7f6d81cc3f90>"
      ],
      "image/png": "[encoded data removed]"
     },
     "execution_count": 7,
     "metadata": {},
     "output_type": "execute_result"
    }
   ],
   "execution_count": 7
  },
  {
   "metadata": {},
   "cell_type": "markdown",
   "source": "As final step, we save the datasets to our output folder. Single channels are saved with `enhance=False` in order to generate single-layer geotiffs with the original measured physical quantities array, rather than a grayscale RGB geotiffs.",
   "id": "56ebac0c37a23605"
  },
  {
   "metadata": {
    "ExecuteTime": {
     "end_time": "2025-02-15T17:25:43.754672Z",
     "start_time": "2025-02-15T17:25:42.767207Z"
    }
   },
   "cell_type": "code",
   "source": [
    "output_dir = os.path.join(output_dir, run_name, 'Satellite_Imagery', 'FCI')\n",
    "for ds in datasets:\n",
    "    enhance = False if len(scn_crop_r[ds].shape) == 2 else True\n",
    "    scn_crop_r.save_dataset(ds, filename=\"{start_time:%Y-%m-%dT%H%M}_mtg_fci_{name}.tif\",\n",
    "                            base_dir=output_dir, writer='geotiff', enhance=enhance)"
   ],
   "id": "df8a32dd51f8260d",
   "outputs": [],
   "execution_count": 8
  },
  {
   "metadata": {},
   "cell_type": "markdown",
   "source": [
    "## Automated processing for a given time range (optional)\n",
    "\n",
    "Execute the cell below to automatically process every acquisition (repeat cycle) within a time frame."
   ],
   "id": "58ff49d1e8ff33da"
  },
  {
   "metadata": {
    "ExecuteTime": {
     "end_time": "2025-02-15T17:26:04.610821Z",
     "start_time": "2025-02-15T17:25:43.947787Z"
    }
   },
   "cell_type": "code",
   "source": [
    "start_time = \"2024-09-16T11:00:00\"  # should be a full 10-min time, like :00, :10, :20...\n",
    "end_time = \"2024-09-16T23:59:59\"\n",
    "remote_files = True\n",
    "main_fci(input_dir, datasets, start_time, end_time, lonlat_bbox, output_dir, run_name, remote_files)"
   ],
   "id": "7f1e6217745a42ed",
   "outputs": [
    {
     "name": "stdout",
     "output_type": "stream",
     "text": [
      "Processing 2024-09-16 11:00:00...\n",
      "Found 6 filenames\n"
     ]
    },
    {
     "name": "stderr",
     "output_type": "stream",
     "text": [
      "The following datasets were not created and may require resampling to be generated: DataID(name='fire_temperature')\n",
      "/tcenas/home/andream/anaconda3/envs/devenv/lib/python3.11/site-packages/dask/core.py:127: RuntimeWarning: invalid value encountered in log\n",
      "  return func(*(_execute_task(a, cache) for a in args))\n"
     ]
    },
    {
     "name": "stdout",
     "output_type": "stream",
     "text": [
      "Processing 2024-09-16 11:10:00...\n",
      "Found 6 filenames\n"
     ]
    },
    {
     "name": "stderr",
     "output_type": "stream",
     "text": [
      "The following datasets were not created and may require resampling to be generated: DataID(name='fire_temperature')\n"
     ]
    },
    {
     "name": "stdout",
     "output_type": "stream",
     "text": [
      "Processing 2024-09-16 11:20:00...\n",
      "Found 6 filenames\n"
     ]
    },
    {
     "ename": "KeyboardInterrupt",
     "evalue": "",
     "output_type": "error",
     "traceback": [
      "\u001B[0;31m---------------------------------------------------------------------------\u001B[0m",
      "\u001B[0;31mKeyboardInterrupt\u001B[0m                         Traceback (most recent call last)",
      "Cell \u001B[0;32mIn[9], line 4\u001B[0m\n\u001B[1;32m      2\u001B[0m end_time \u001B[38;5;241m=\u001B[39m \u001B[38;5;124m\"\u001B[39m\u001B[38;5;124m2024-09-16T23:59:59\u001B[39m\u001B[38;5;124m\"\u001B[39m\n\u001B[1;32m      3\u001B[0m remote_files \u001B[38;5;241m=\u001B[39m \u001B[38;5;28;01mTrue\u001B[39;00m\n\u001B[0;32m----> 4\u001B[0m \u001B[43mmain_fci\u001B[49m\u001B[43m(\u001B[49m\u001B[43minput_dir\u001B[49m\u001B[43m,\u001B[49m\u001B[43m \u001B[49m\u001B[43mdatasets\u001B[49m\u001B[43m,\u001B[49m\u001B[43m \u001B[49m\u001B[43mstart_time\u001B[49m\u001B[43m,\u001B[49m\u001B[43m \u001B[49m\u001B[43mend_time\u001B[49m\u001B[43m,\u001B[49m\u001B[43m \u001B[49m\u001B[43mlonlat_bbox\u001B[49m\u001B[43m,\u001B[49m\u001B[43m \u001B[49m\u001B[43moutput_dir\u001B[49m\u001B[43m,\u001B[49m\u001B[43m \u001B[49m\u001B[43mrun_name\u001B[49m\u001B[43m,\u001B[49m\u001B[43m \u001B[49m\u001B[43mremote_files\u001B[49m\u001B[43m)\u001B[49m\n",
      "File \u001B[0;32m~/src/nero-winter-school-2025/fci_satpy_script.py:97\u001B[0m, in \u001B[0;36mmain_fci\u001B[0;34m(input_dir, datasets, start_time, end_time, lonlat_bbox, output_dir, run_name, remote_files)\u001B[0m\n\u001B[1;32m     95\u001B[0m \u001B[38;5;28;01mif\u001B[39;00m \u001B[38;5;124m'\u001B[39m\u001B[38;5;124mfci_l1c_nc\u001B[39m\u001B[38;5;124m'\u001B[39m \u001B[38;5;129;01min\u001B[39;00m fci_filenames \u001B[38;5;129;01mand\u001B[39;00m \u001B[38;5;28mlen\u001B[39m(fci_filenames[\u001B[38;5;124m'\u001B[39m\u001B[38;5;124mfci_l1c_nc\u001B[39m\u001B[38;5;124m'\u001B[39m]) \u001B[38;5;241m>\u001B[39m \u001B[38;5;241m0\u001B[39m:\n\u001B[1;32m     96\u001B[0m     \u001B[38;5;28mprint\u001B[39m(\u001B[38;5;124mf\u001B[39m\u001B[38;5;124m\"\u001B[39m\u001B[38;5;124mFound \u001B[39m\u001B[38;5;132;01m{\u001B[39;00m\u001B[38;5;28mlen\u001B[39m(fci_filenames[\u001B[38;5;124m'\u001B[39m\u001B[38;5;124mfci_l1c_nc\u001B[39m\u001B[38;5;124m'\u001B[39m])\u001B[38;5;132;01m}\u001B[39;00m\u001B[38;5;124m filenames\u001B[39m\u001B[38;5;124m\"\u001B[39m)\n\u001B[0;32m---> 97\u001B[0m     \u001B[43mrun_satpy_for_files_and_area\u001B[49m\u001B[43m(\u001B[49m\u001B[43mfci_filenames\u001B[49m\u001B[43m,\u001B[49m\u001B[43m \u001B[49m\u001B[43mdatasets\u001B[49m\u001B[43m,\u001B[49m\u001B[43m \u001B[49m\u001B[43mlonlat_bbox\u001B[49m\u001B[43m,\u001B[49m\u001B[43m \u001B[49m\u001B[43moutput_dir\u001B[49m\u001B[43m)\u001B[49m\n\u001B[1;32m     98\u001B[0m     clear_cache_if_exceeds_limit(CACHE_FOLDER, CACHE_SIZE_LIMIT_GB)\n\u001B[1;32m     99\u001B[0m \u001B[38;5;28;01melse\u001B[39;00m:\n",
      "File \u001B[0;32m~/src/nero-winter-school-2025/fci_satpy_script.py:23\u001B[0m, in \u001B[0;36mrun_satpy_for_files_and_area\u001B[0;34m(fci_filenames, datasets, lonlat_bbox, output_dir)\u001B[0m\n\u001B[1;32m     22\u001B[0m \u001B[38;5;28;01mdef\u001B[39;00m\u001B[38;5;250m \u001B[39m\u001B[38;5;21mrun_satpy_for_files_and_area\u001B[39m(fci_filenames, datasets, lonlat_bbox, output_dir):\n\u001B[0;32m---> 23\u001B[0m     scn \u001B[38;5;241m=\u001B[39m \u001B[43mScene\u001B[49m\u001B[43m(\u001B[49m\u001B[43mfilenames\u001B[49m\u001B[38;5;241;43m=\u001B[39;49m\u001B[43mfci_filenames\u001B[49m\u001B[43m)\u001B[49m\n\u001B[1;32m     24\u001B[0m     scn\u001B[38;5;241m.\u001B[39mload(datasets, upper_right_corner\u001B[38;5;241m=\u001B[39m\u001B[38;5;124m'\u001B[39m\u001B[38;5;124mNE\u001B[39m\u001B[38;5;124m'\u001B[39m)\n\u001B[1;32m     26\u001B[0m     scn_crop \u001B[38;5;241m=\u001B[39m scn\u001B[38;5;241m.\u001B[39mcrop(ll_bbox\u001B[38;5;241m=\u001B[39mlonlat_bbox)\n",
      "File \u001B[0;32m~/code/satpy_latest/satpy/satpy/scene.py:155\u001B[0m, in \u001B[0;36mScene.__init__\u001B[0;34m(self, filenames, reader, filter_parameters, reader_kwargs)\u001B[0m\n\u001B[1;32m    152\u001B[0m \u001B[38;5;28;01mif\u001B[39;00m filenames:\n\u001B[1;32m    153\u001B[0m     filenames \u001B[38;5;241m=\u001B[39m convert_remote_files_to_fsspec(filenames, storage_options)\n\u001B[0;32m--> 155\u001B[0m \u001B[38;5;28mself\u001B[39m\u001B[38;5;241m.\u001B[39m_readers \u001B[38;5;241m=\u001B[39m \u001B[38;5;28;43mself\u001B[39;49m\u001B[38;5;241;43m.\u001B[39;49m\u001B[43m_create_reader_instances\u001B[49m\u001B[43m(\u001B[49m\u001B[43mfilenames\u001B[49m\u001B[38;5;241;43m=\u001B[39;49m\u001B[43mfilenames\u001B[49m\u001B[43m,\u001B[49m\n\u001B[1;32m    156\u001B[0m \u001B[43m                                              \u001B[49m\u001B[43mreader\u001B[49m\u001B[38;5;241;43m=\u001B[39;49m\u001B[43mreader\u001B[49m\u001B[43m,\u001B[49m\n\u001B[1;32m    157\u001B[0m \u001B[43m                                              \u001B[49m\u001B[43mreader_kwargs\u001B[49m\u001B[38;5;241;43m=\u001B[39;49m\u001B[43mcleaned_reader_kwargs\u001B[49m\u001B[43m)\u001B[49m\n\u001B[1;32m    158\u001B[0m \u001B[38;5;28mself\u001B[39m\u001B[38;5;241m.\u001B[39m_datasets \u001B[38;5;241m=\u001B[39m DatasetDict()\n\u001B[1;32m    159\u001B[0m \u001B[38;5;28mself\u001B[39m\u001B[38;5;241m.\u001B[39m_wishlist \u001B[38;5;241m=\u001B[39m \u001B[38;5;28mset\u001B[39m()\n",
      "File \u001B[0;32m~/code/satpy_latest/satpy/satpy/scene.py:176\u001B[0m, in \u001B[0;36mScene._create_reader_instances\u001B[0;34m(self, filenames, reader, reader_kwargs)\u001B[0m\n\u001B[1;32m    171\u001B[0m \u001B[38;5;28;01mdef\u001B[39;00m\u001B[38;5;250m \u001B[39m\u001B[38;5;21m_create_reader_instances\u001B[39m(\u001B[38;5;28mself\u001B[39m,\n\u001B[1;32m    172\u001B[0m                              filenames\u001B[38;5;241m=\u001B[39m\u001B[38;5;28;01mNone\u001B[39;00m,\n\u001B[1;32m    173\u001B[0m                              reader\u001B[38;5;241m=\u001B[39m\u001B[38;5;28;01mNone\u001B[39;00m,\n\u001B[1;32m    174\u001B[0m                              reader_kwargs\u001B[38;5;241m=\u001B[39m\u001B[38;5;28;01mNone\u001B[39;00m):\n\u001B[1;32m    175\u001B[0m \u001B[38;5;250m    \u001B[39m\u001B[38;5;124;03m\"\"\"Find readers and return their instances.\"\"\"\u001B[39;00m\n\u001B[0;32m--> 176\u001B[0m     \u001B[38;5;28;01mreturn\u001B[39;00m \u001B[43mload_readers\u001B[49m\u001B[43m(\u001B[49m\u001B[43mfilenames\u001B[49m\u001B[38;5;241;43m=\u001B[39;49m\u001B[43mfilenames\u001B[49m\u001B[43m,\u001B[49m\n\u001B[1;32m    177\u001B[0m \u001B[43m                        \u001B[49m\u001B[43mreader\u001B[49m\u001B[38;5;241;43m=\u001B[39;49m\u001B[43mreader\u001B[49m\u001B[43m,\u001B[49m\n\u001B[1;32m    178\u001B[0m \u001B[43m                        \u001B[49m\u001B[43mreader_kwargs\u001B[49m\u001B[38;5;241;43m=\u001B[39;49m\u001B[43mreader_kwargs\u001B[49m\u001B[43m)\u001B[49m\n",
      "File \u001B[0;32m~/code/satpy_latest/satpy/satpy/readers/__init__.py:572\u001B[0m, in \u001B[0;36mload_readers\u001B[0;34m(filenames, reader, reader_kwargs)\u001B[0m\n\u001B[1;32m    570\u001B[0m loadables \u001B[38;5;241m=\u001B[39m reader_instance\u001B[38;5;241m.\u001B[39mselect_files_from_pathnames(readers_files)\n\u001B[1;32m    571\u001B[0m \u001B[38;5;28;01mif\u001B[39;00m loadables:\n\u001B[0;32m--> 572\u001B[0m     \u001B[43mreader_instance\u001B[49m\u001B[38;5;241;43m.\u001B[39;49m\u001B[43mcreate_storage_items\u001B[49m\u001B[43m(\u001B[49m\n\u001B[1;32m    573\u001B[0m \u001B[43m            \u001B[49m\u001B[43mloadables\u001B[49m\u001B[43m,\u001B[49m\n\u001B[1;32m    574\u001B[0m \u001B[43m            \u001B[49m\u001B[43mfh_kwargs\u001B[49m\u001B[38;5;241;43m=\u001B[39;49m\u001B[43mreader_kwargs_without_filter\u001B[49m\u001B[43m[\u001B[49m\u001B[38;5;28;43;01mNone\u001B[39;49;00m\u001B[43m \u001B[49m\u001B[38;5;28;43;01mif\u001B[39;49;00m\u001B[43m \u001B[49m\u001B[43mreader\u001B[49m\u001B[43m \u001B[49m\u001B[38;5;129;43;01mis\u001B[39;49;00m\u001B[43m \u001B[49m\u001B[38;5;28;43;01mNone\u001B[39;49;00m\u001B[43m \u001B[49m\u001B[38;5;28;43;01melse\u001B[39;49;00m\u001B[43m \u001B[49m\u001B[43mreader\u001B[49m\u001B[43m[\u001B[49m\u001B[43midx\u001B[49m\u001B[43m]\u001B[49m\u001B[43m]\u001B[49m\u001B[43m)\u001B[49m\n\u001B[1;32m    575\u001B[0m     reader_instances[reader_instance\u001B[38;5;241m.\u001B[39mname] \u001B[38;5;241m=\u001B[39m reader_instance\n\u001B[1;32m    576\u001B[0m     remaining_filenames \u001B[38;5;241m-\u001B[39m\u001B[38;5;241m=\u001B[39m \u001B[38;5;28mset\u001B[39m(loadables)\n",
      "File \u001B[0;32m~/code/satpy_latest/satpy/satpy/readers/yaml_reader.py:617\u001B[0m, in \u001B[0;36mFileYAMLReader.create_storage_items\u001B[0;34m(self, files, **kwargs)\u001B[0m\n\u001B[1;32m    615\u001B[0m \u001B[38;5;28;01mdef\u001B[39;00m\u001B[38;5;250m \u001B[39m\u001B[38;5;21mcreate_storage_items\u001B[39m(\u001B[38;5;28mself\u001B[39m, files, \u001B[38;5;241m*\u001B[39m\u001B[38;5;241m*\u001B[39mkwargs):\n\u001B[1;32m    616\u001B[0m \u001B[38;5;250m    \u001B[39m\u001B[38;5;124;03m\"\"\"Create the storage items.\"\"\"\u001B[39;00m\n\u001B[0;32m--> 617\u001B[0m     \u001B[38;5;28;01mreturn\u001B[39;00m \u001B[38;5;28;43mself\u001B[39;49m\u001B[38;5;241;43m.\u001B[39;49m\u001B[43mcreate_filehandlers\u001B[49m\u001B[43m(\u001B[49m\u001B[43mfiles\u001B[49m\u001B[43m,\u001B[49m\u001B[43m \u001B[49m\u001B[38;5;241;43m*\u001B[39;49m\u001B[38;5;241;43m*\u001B[39;49m\u001B[43mkwargs\u001B[49m\u001B[43m)\u001B[49m\n",
      "File \u001B[0;32m~/code/satpy_latest/satpy/satpy/readers/yaml_reader.py:1181\u001B[0m, in \u001B[0;36mGEOSegmentYAMLReader.create_filehandlers\u001B[0;34m(self, filenames, fh_kwargs)\u001B[0m\n\u001B[1;32m   1173\u001B[0m \u001B[38;5;28;01mdef\u001B[39;00m\u001B[38;5;250m \u001B[39m\u001B[38;5;21mcreate_filehandlers\u001B[39m(\u001B[38;5;28mself\u001B[39m, filenames, fh_kwargs\u001B[38;5;241m=\u001B[39m\u001B[38;5;28;01mNone\u001B[39;00m):\n\u001B[1;32m   1174\u001B[0m \u001B[38;5;250m    \u001B[39m\u001B[38;5;124;03m\"\"\"Create file handler objects and determine expected segments for each.\u001B[39;00m\n\u001B[1;32m   1175\u001B[0m \n\u001B[1;32m   1176\u001B[0m \u001B[38;5;124;03m    Additionally, sort the filehandlers by segment number to avoid\u001B[39;00m\n\u001B[0;32m   (...)\u001B[0m\n\u001B[1;32m   1179\u001B[0m \n\u001B[1;32m   1180\u001B[0m \u001B[38;5;124;03m    \"\"\"\u001B[39;00m\n\u001B[0;32m-> 1181\u001B[0m     created_fhs \u001B[38;5;241m=\u001B[39m \u001B[38;5;28;43msuper\u001B[39;49m\u001B[43m(\u001B[49m\u001B[43mGEOSegmentYAMLReader\u001B[49m\u001B[43m,\u001B[49m\u001B[43m \u001B[49m\u001B[38;5;28;43mself\u001B[39;49m\u001B[43m)\u001B[49m\u001B[38;5;241;43m.\u001B[39;49m\u001B[43mcreate_filehandlers\u001B[49m\u001B[43m(\u001B[49m\n\u001B[1;32m   1182\u001B[0m \u001B[43m        \u001B[49m\u001B[43mfilenames\u001B[49m\u001B[43m,\u001B[49m\u001B[43m \u001B[49m\u001B[43mfh_kwargs\u001B[49m\u001B[38;5;241;43m=\u001B[39;49m\u001B[43mfh_kwargs\u001B[49m\u001B[43m)\u001B[49m\n\u001B[1;32m   1184\u001B[0m     \u001B[38;5;66;03m# add \"expected_segments\" information\u001B[39;00m\n\u001B[1;32m   1185\u001B[0m     \u001B[38;5;28;01mfor\u001B[39;00m fhs \u001B[38;5;129;01min\u001B[39;00m created_fhs\u001B[38;5;241m.\u001B[39mvalues():\n",
      "File \u001B[0;32m~/code/satpy_latest/satpy/satpy/readers/yaml_reader.py:629\u001B[0m, in \u001B[0;36mFileYAMLReader.create_filehandlers\u001B[0;34m(self, filenames, fh_kwargs)\u001B[0m\n\u001B[1;32m    627\u001B[0m \u001B[38;5;66;03m# load files that we know about by creating the file handlers\u001B[39;00m\n\u001B[1;32m    628\u001B[0m \u001B[38;5;28;01mfor\u001B[39;00m filetype, filetype_info \u001B[38;5;129;01min\u001B[39;00m \u001B[38;5;28mself\u001B[39m\u001B[38;5;241m.\u001B[39msorted_filetype_items():\n\u001B[0;32m--> 629\u001B[0m     filehandlers \u001B[38;5;241m=\u001B[39m \u001B[38;5;28;43mself\u001B[39;49m\u001B[38;5;241;43m.\u001B[39;49m\u001B[43m_new_filehandlers_for_filetype\u001B[49m\u001B[43m(\u001B[49m\u001B[43mfiletype_info\u001B[49m\u001B[43m,\u001B[49m\n\u001B[1;32m    630\u001B[0m \u001B[43m                                                       \u001B[49m\u001B[43mfilename_set\u001B[49m\u001B[43m,\u001B[49m\n\u001B[1;32m    631\u001B[0m \u001B[43m                                                       \u001B[49m\u001B[43mfh_kwargs\u001B[49m\u001B[38;5;241;43m=\u001B[39;49m\u001B[43mfh_kwargs\u001B[49m\u001B[43m)\u001B[49m\n\u001B[1;32m    633\u001B[0m     \u001B[38;5;28;01mif\u001B[39;00m filehandlers:\n\u001B[1;32m    634\u001B[0m         created_fhs[filetype] \u001B[38;5;241m=\u001B[39m filehandlers\n",
      "File \u001B[0;32m~/code/satpy_latest/satpy/satpy/readers/yaml_reader.py:612\u001B[0m, in \u001B[0;36mFileYAMLReader._new_filehandlers_for_filetype\u001B[0;34m(self, filetype_info, filenames, fh_kwargs)\u001B[0m\n\u001B[1;32m    608\u001B[0m filehandler_iter \u001B[38;5;241m=\u001B[39m \u001B[38;5;28mself\u001B[39m\u001B[38;5;241m.\u001B[39m_new_filehandler_instances(filetype_info,\n\u001B[1;32m    609\u001B[0m                                                    filename_iter,\n\u001B[1;32m    610\u001B[0m                                                    fh_kwargs\u001B[38;5;241m=\u001B[39mfh_kwargs)\n\u001B[1;32m    611\u001B[0m filtered_iter \u001B[38;5;241m=\u001B[39m \u001B[38;5;28mself\u001B[39m\u001B[38;5;241m.\u001B[39mfilter_fh_by_metadata(filehandler_iter)\n\u001B[0;32m--> 612\u001B[0m \u001B[38;5;28;01mreturn\u001B[39;00m \u001B[38;5;28mlist\u001B[39m(filtered_iter)\n",
      "File \u001B[0;32m~/code/satpy_latest/satpy/satpy/readers/yaml_reader.py:594\u001B[0m, in \u001B[0;36mFileYAMLReader.filter_fh_by_metadata\u001B[0;34m(self, filehandlers)\u001B[0m\n\u001B[1;32m    592\u001B[0m \u001B[38;5;28;01mdef\u001B[39;00m\u001B[38;5;250m \u001B[39m\u001B[38;5;21mfilter_fh_by_metadata\u001B[39m(\u001B[38;5;28mself\u001B[39m, filehandlers):\n\u001B[1;32m    593\u001B[0m \u001B[38;5;250m    \u001B[39m\u001B[38;5;124;03m\"\"\"Filter out filehandlers using provide filter parameters.\"\"\"\u001B[39;00m\n\u001B[0;32m--> 594\u001B[0m \u001B[43m    \u001B[49m\u001B[38;5;28;43;01mfor\u001B[39;49;00m\u001B[43m \u001B[49m\u001B[43mfilehandler\u001B[49m\u001B[43m \u001B[49m\u001B[38;5;129;43;01min\u001B[39;49;00m\u001B[43m \u001B[49m\u001B[43mfilehandlers\u001B[49m\u001B[43m:\u001B[49m\n\u001B[1;32m    595\u001B[0m \u001B[43m        \u001B[49m\u001B[43mfilehandler\u001B[49m\u001B[38;5;241;43m.\u001B[39;49m\u001B[43mmetadata\u001B[49m\u001B[43m[\u001B[49m\u001B[38;5;124;43m\"\u001B[39;49m\u001B[38;5;124;43mstart_time\u001B[39;49m\u001B[38;5;124;43m\"\u001B[39;49m\u001B[43m]\u001B[49m\u001B[43m \u001B[49m\u001B[38;5;241;43m=\u001B[39;49m\u001B[43m \u001B[49m\u001B[43mfilehandler\u001B[49m\u001B[38;5;241;43m.\u001B[39;49m\u001B[43mstart_time\u001B[49m\n\u001B[1;32m    596\u001B[0m \u001B[43m        \u001B[49m\u001B[43mfilehandler\u001B[49m\u001B[38;5;241;43m.\u001B[39;49m\u001B[43mmetadata\u001B[49m\u001B[43m[\u001B[49m\u001B[38;5;124;43m\"\u001B[39;49m\u001B[38;5;124;43mend_time\u001B[39;49m\u001B[38;5;124;43m\"\u001B[39;49m\u001B[43m]\u001B[49m\u001B[43m \u001B[49m\u001B[38;5;241;43m=\u001B[39;49m\u001B[43m \u001B[49m\u001B[43mfilehandler\u001B[49m\u001B[38;5;241;43m.\u001B[39;49m\u001B[43mend_time\u001B[49m\n",
      "File \u001B[0;32m~/code/satpy_latest/satpy/satpy/readers/yaml_reader.py:590\u001B[0m, in \u001B[0;36mFileYAMLReader._new_filehandler_instances\u001B[0;34m(self, filetype_info, filename_items, fh_kwargs)\u001B[0m\n\u001B[1;32m    587\u001B[0m     warnings\u001B[38;5;241m.\u001B[39mwarn(\u001B[38;5;28mstr\u001B[39m(err) \u001B[38;5;241m+\u001B[39m \u001B[38;5;124m\"\u001B[39m\u001B[38;5;124m for \u001B[39m\u001B[38;5;132;01m{}\u001B[39;00m\u001B[38;5;124m\"\u001B[39m\u001B[38;5;241m.\u001B[39mformat(filename), stacklevel\u001B[38;5;241m=\u001B[39m\u001B[38;5;241m4\u001B[39m)\n\u001B[1;32m    588\u001B[0m     \u001B[38;5;28;01mcontinue\u001B[39;00m\n\u001B[0;32m--> 590\u001B[0m \u001B[38;5;28;01myield\u001B[39;00m \u001B[43mfiletype_cls\u001B[49m\u001B[43m(\u001B[49m\u001B[43mfilename\u001B[49m\u001B[43m,\u001B[49m\u001B[43m \u001B[49m\u001B[43mfilename_info\u001B[49m\u001B[43m,\u001B[49m\u001B[43m \u001B[49m\u001B[43mfiletype_info\u001B[49m\u001B[43m,\u001B[49m\u001B[43m \u001B[49m\u001B[38;5;241;43m*\u001B[39;49m\u001B[43mreq_fh\u001B[49m\u001B[43m,\u001B[49m\u001B[43m \u001B[49m\u001B[38;5;241;43m*\u001B[39;49m\u001B[38;5;241;43m*\u001B[39;49m\u001B[43mfh_kwargs\u001B[49m\u001B[43m)\u001B[49m\n",
      "File \u001B[0;32m~/code/satpy_latest/satpy/satpy/readers/fci_l1c_nc.py:215\u001B[0m, in \u001B[0;36mFCIL1cNCFileHandler.__init__\u001B[0;34m(self, filename, filename_info, filetype_info, clip_negative_radiances, **kwargs)\u001B[0m\n\u001B[1;32m    212\u001B[0m \u001B[38;5;28;01mdef\u001B[39;00m\u001B[38;5;250m \u001B[39m\u001B[38;5;21m__init__\u001B[39m(\u001B[38;5;28mself\u001B[39m, filename, filename_info, filetype_info,\n\u001B[1;32m    213\u001B[0m              clip_negative_radiances\u001B[38;5;241m=\u001B[39m\u001B[38;5;28;01mNone\u001B[39;00m, \u001B[38;5;241m*\u001B[39m\u001B[38;5;241m*\u001B[39mkwargs):\n\u001B[1;32m    214\u001B[0m \u001B[38;5;250m    \u001B[39m\u001B[38;5;124;03m\"\"\"Initialize file handler.\"\"\"\u001B[39;00m\n\u001B[0;32m--> 215\u001B[0m     \u001B[38;5;28;43msuper\u001B[39;49m\u001B[43m(\u001B[49m\u001B[43m)\u001B[49m\u001B[38;5;241;43m.\u001B[39;49m\u001B[38;5;21;43m__init__\u001B[39;49m\u001B[43m(\u001B[49m\u001B[43mfilename\u001B[49m\u001B[43m,\u001B[49m\u001B[43m \u001B[49m\u001B[43mfilename_info\u001B[49m\u001B[43m,\u001B[49m\n\u001B[1;32m    216\u001B[0m \u001B[43m                     \u001B[49m\u001B[43mfiletype_info\u001B[49m\u001B[43m,\u001B[49m\n\u001B[1;32m    217\u001B[0m \u001B[43m                     \u001B[49m\u001B[43mcache_var_size\u001B[49m\u001B[38;5;241;43m=\u001B[39;49m\u001B[38;5;241;43m0\u001B[39;49m\u001B[43m,\u001B[49m\n\u001B[1;32m    218\u001B[0m \u001B[43m                     \u001B[49m\u001B[43mcache_handle\u001B[49m\u001B[38;5;241;43m=\u001B[39;49m\u001B[38;5;28;43;01mTrue\u001B[39;49;00m\u001B[43m)\u001B[49m\n\u001B[1;32m    219\u001B[0m     logger\u001B[38;5;241m.\u001B[39mdebug(\u001B[38;5;124m\"\u001B[39m\u001B[38;5;124mReading: \u001B[39m\u001B[38;5;132;01m{}\u001B[39;00m\u001B[38;5;124m\"\u001B[39m\u001B[38;5;241m.\u001B[39mformat(\u001B[38;5;28mself\u001B[39m\u001B[38;5;241m.\u001B[39mfilename))\n\u001B[1;32m    220\u001B[0m     logger\u001B[38;5;241m.\u001B[39mdebug(\u001B[38;5;124m\"\u001B[39m\u001B[38;5;124mStart: \u001B[39m\u001B[38;5;132;01m{}\u001B[39;00m\u001B[38;5;124m\"\u001B[39m\u001B[38;5;241m.\u001B[39mformat(\u001B[38;5;28mself\u001B[39m\u001B[38;5;241m.\u001B[39mstart_time))\n",
      "File \u001B[0;32m~/code/satpy_latest/satpy/satpy/readers/netcdf_utils.py:114\u001B[0m, in \u001B[0;36mNetCDF4FileHandler.__init__\u001B[0;34m(self, filename, filename_info, filetype_info, auto_maskandscale, xarray_kwargs, cache_var_size, cache_handle)\u001B[0m\n\u001B[1;32m    112\u001B[0m listed_variables \u001B[38;5;241m=\u001B[39m filetype_info\u001B[38;5;241m.\u001B[39mget(\u001B[38;5;124m\"\u001B[39m\u001B[38;5;124mrequired_netcdf_variables\u001B[39m\u001B[38;5;124m\"\u001B[39m)\n\u001B[1;32m    113\u001B[0m \u001B[38;5;28;01mif\u001B[39;00m listed_variables:\n\u001B[0;32m--> 114\u001B[0m     \u001B[38;5;28;43mself\u001B[39;49m\u001B[38;5;241;43m.\u001B[39;49m\u001B[43m_collect_listed_variables\u001B[49m\u001B[43m(\u001B[49m\u001B[43mfile_handle\u001B[49m\u001B[43m,\u001B[49m\u001B[43m \u001B[49m\u001B[43mlisted_variables\u001B[49m\u001B[43m)\u001B[49m\n\u001B[1;32m    115\u001B[0m \u001B[38;5;28;01melse\u001B[39;00m:\n\u001B[1;32m    116\u001B[0m     \u001B[38;5;28mself\u001B[39m\u001B[38;5;241m.\u001B[39mcollect_metadata(\u001B[38;5;124m\"\u001B[39m\u001B[38;5;124m\"\u001B[39m, file_handle)\n",
      "File \u001B[0;32m~/code/satpy_latest/satpy/satpy/readers/netcdf_utils.py:184\u001B[0m, in \u001B[0;36mNetCDF4FileHandler._collect_listed_variables\u001B[0;34m(self, file_handle, listed_variables)\u001B[0m\n\u001B[1;32m    182\u001B[0m \u001B[38;5;28;01mif\u001B[39;00m p \u001B[38;5;241m!=\u001B[39m \u001B[38;5;124m\"\u001B[39m\u001B[38;5;124mattr\u001B[39m\u001B[38;5;124m\"\u001B[39m:\n\u001B[1;32m    183\u001B[0m     var_obj \u001B[38;5;241m=\u001B[39m grp[parts[\u001B[38;5;241m-\u001B[39m\u001B[38;5;241m1\u001B[39m]]\n\u001B[0;32m--> 184\u001B[0m     \u001B[38;5;28;43mself\u001B[39;49m\u001B[38;5;241;43m.\u001B[39;49m\u001B[43m_collect_variable_info\u001B[49m\u001B[43m(\u001B[49m\u001B[43mitm\u001B[49m\u001B[43m,\u001B[49m\u001B[43m \u001B[49m\u001B[43mvar_obj\u001B[49m\u001B[43m)\u001B[49m\n\u001B[1;32m    185\u001B[0m     \u001B[38;5;28mself\u001B[39m\u001B[38;5;241m.\u001B[39mcollect_dimensions(itm, grp)\n",
      "File \u001B[0;32m~/code/satpy_latest/satpy/satpy/readers/netcdf_utils.py:167\u001B[0m, in \u001B[0;36mNetCDF4FileHandler._collect_variable_info\u001B[0;34m(self, var_name, var_obj)\u001B[0m\n\u001B[1;32m    165\u001B[0m \u001B[38;5;28mself\u001B[39m\u001B[38;5;241m.\u001B[39mfile_content[var_name] \u001B[38;5;241m=\u001B[39m var_obj\n\u001B[1;32m    166\u001B[0m \u001B[38;5;28mself\u001B[39m\u001B[38;5;241m.\u001B[39mfile_content[var_name \u001B[38;5;241m+\u001B[39m \u001B[38;5;124m\"\u001B[39m\u001B[38;5;124m/dtype\u001B[39m\u001B[38;5;124m\"\u001B[39m] \u001B[38;5;241m=\u001B[39m var_obj\u001B[38;5;241m.\u001B[39mdtype\n\u001B[0;32m--> 167\u001B[0m \u001B[38;5;28mself\u001B[39m\u001B[38;5;241m.\u001B[39mfile_content[var_name \u001B[38;5;241m+\u001B[39m \u001B[38;5;124m\"\u001B[39m\u001B[38;5;124m/shape\u001B[39m\u001B[38;5;124m\"\u001B[39m] \u001B[38;5;241m=\u001B[39m \u001B[43mvar_obj\u001B[49m\u001B[38;5;241;43m.\u001B[39;49m\u001B[43mshape\u001B[49m\n\u001B[1;32m    168\u001B[0m \u001B[38;5;28mself\u001B[39m\u001B[38;5;241m.\u001B[39mfile_content[var_name \u001B[38;5;241m+\u001B[39m \u001B[38;5;124m\"\u001B[39m\u001B[38;5;124m/dimensions\u001B[39m\u001B[38;5;124m\"\u001B[39m] \u001B[38;5;241m=\u001B[39m var_obj\u001B[38;5;241m.\u001B[39mdimensions\n\u001B[1;32m    169\u001B[0m \u001B[38;5;28mself\u001B[39m\u001B[38;5;241m.\u001B[39m_collect_attrs(var_name, var_obj)\n",
      "File \u001B[0;32m~/anaconda3/envs/devenv/lib/python3.11/site-packages/h5netcdf/core.py:267\u001B[0m, in \u001B[0;36mBaseVariable.shape\u001B[0;34m(self)\u001B[0m\n\u001B[1;32m    265\u001B[0m \u001B[38;5;250m\u001B[39m\u001B[38;5;124;03m\"\"\"Return current sizes of all variable dimensions.\"\"\"\u001B[39;00m\n\u001B[1;32m    266\u001B[0m \u001B[38;5;66;03m# return actual dimensions sizes, this is in line with netcdf4-python\u001B[39;00m\n\u001B[0;32m--> 267\u001B[0m \u001B[38;5;28;01mreturn\u001B[39;00m \u001B[38;5;28mtuple\u001B[39m([\u001B[38;5;28mself\u001B[39m\u001B[38;5;241m.\u001B[39m_parent\u001B[38;5;241m.\u001B[39m_all_dimensions[d]\u001B[38;5;241m.\u001B[39msize \u001B[38;5;28;01mfor\u001B[39;00m d \u001B[38;5;129;01min\u001B[39;00m \u001B[38;5;28;43mself\u001B[39;49m\u001B[38;5;241;43m.\u001B[39;49m\u001B[43mdimensions\u001B[49m])\n",
      "File \u001B[0;32m~/anaconda3/envs/devenv/lib/python3.11/site-packages/h5netcdf/core.py:260\u001B[0m, in \u001B[0;36mBaseVariable.dimensions\u001B[0;34m(self)\u001B[0m\n\u001B[1;32m    258\u001B[0m \u001B[38;5;250m\u001B[39m\u001B[38;5;124;03m\"\"\"Return variable dimension names.\"\"\"\u001B[39;00m\n\u001B[1;32m    259\u001B[0m \u001B[38;5;28;01mif\u001B[39;00m \u001B[38;5;28mself\u001B[39m\u001B[38;5;241m.\u001B[39m_dimensions \u001B[38;5;129;01mis\u001B[39;00m \u001B[38;5;28;01mNone\u001B[39;00m:\n\u001B[0;32m--> 260\u001B[0m     \u001B[38;5;28mself\u001B[39m\u001B[38;5;241m.\u001B[39m_dimensions \u001B[38;5;241m=\u001B[39m \u001B[38;5;28;43mself\u001B[39;49m\u001B[38;5;241;43m.\u001B[39;49m\u001B[43m_lookup_dimensions\u001B[49m\u001B[43m(\u001B[49m\u001B[43m)\u001B[49m\n\u001B[1;32m    261\u001B[0m \u001B[38;5;28;01mreturn\u001B[39;00m \u001B[38;5;28mself\u001B[39m\u001B[38;5;241m.\u001B[39m_dimensions\n",
      "File \u001B[0;32m~/anaconda3/envs/devenv/lib/python3.11/site-packages/h5netcdf/core.py:157\u001B[0m, in \u001B[0;36mBaseVariable._lookup_dimensions\u001B[0;34m(self)\u001B[0m\n\u001B[1;32m    152\u001B[0m \u001B[38;5;28;01mif\u001B[39;00m \u001B[38;5;124m\"\u001B[39m\u001B[38;5;124mDIMENSION_LIST\u001B[39m\u001B[38;5;124m\"\u001B[39m \u001B[38;5;129;01min\u001B[39;00m attrs:\n\u001B[1;32m    153\u001B[0m     \u001B[38;5;66;03m# check if malformed variable and raise\u001B[39;00m\n\u001B[1;32m    154\u001B[0m     \u001B[38;5;28;01mif\u001B[39;00m _unlabeled_dimension_mix(\u001B[38;5;28mself\u001B[39m\u001B[38;5;241m.\u001B[39m_h5ds) \u001B[38;5;241m==\u001B[39m \u001B[38;5;124m\"\u001B[39m\u001B[38;5;124mlabeled\u001B[39m\u001B[38;5;124m\"\u001B[39m:\n\u001B[1;32m    155\u001B[0m         \u001B[38;5;66;03m# If a dimension has attached more than one scale for some reason, then\u001B[39;00m\n\u001B[1;32m    156\u001B[0m         \u001B[38;5;66;03m# take the last one. This is in line with netcdf-c and netcdf4-python.\u001B[39;00m\n\u001B[0;32m--> 157\u001B[0m         \u001B[38;5;28;01mreturn\u001B[39;00m \u001B[38;5;28mtuple\u001B[39m(\n\u001B[1;32m    158\u001B[0m             \u001B[38;5;28mself\u001B[39m\u001B[38;5;241m.\u001B[39m_root\u001B[38;5;241m.\u001B[39m_h5file[ref[\u001B[38;5;241m-\u001B[39m\u001B[38;5;241m1\u001B[39m]]\u001B[38;5;241m.\u001B[39mname\u001B[38;5;241m.\u001B[39msplit(\u001B[38;5;124m\"\u001B[39m\u001B[38;5;124m/\u001B[39m\u001B[38;5;124m\"\u001B[39m)[\u001B[38;5;241m-\u001B[39m\u001B[38;5;241m1\u001B[39m]\n\u001B[1;32m    159\u001B[0m             \u001B[38;5;28;01mfor\u001B[39;00m ref \u001B[38;5;129;01min\u001B[39;00m \u001B[38;5;28mlist\u001B[39m(\u001B[38;5;28mself\u001B[39m\u001B[38;5;241m.\u001B[39m_h5ds\u001B[38;5;241m.\u001B[39mattrs\u001B[38;5;241m.\u001B[39mget(\u001B[38;5;124m\"\u001B[39m\u001B[38;5;124mDIMENSION_LIST\u001B[39m\u001B[38;5;124m\"\u001B[39m, []))\n\u001B[1;32m    160\u001B[0m         )\n\u001B[1;32m    162\u001B[0m \u001B[38;5;66;03m# need to use the h5ds name here to distinguish from collision dimensions\u001B[39;00m\n\u001B[1;32m    163\u001B[0m child_name \u001B[38;5;241m=\u001B[39m \u001B[38;5;28mself\u001B[39m\u001B[38;5;241m.\u001B[39m_h5ds\u001B[38;5;241m.\u001B[39mname\u001B[38;5;241m.\u001B[39msplit(\u001B[38;5;124m\"\u001B[39m\u001B[38;5;124m/\u001B[39m\u001B[38;5;124m\"\u001B[39m)[\u001B[38;5;241m-\u001B[39m\u001B[38;5;241m1\u001B[39m]\n",
      "File \u001B[0;32m~/anaconda3/envs/devenv/lib/python3.11/site-packages/h5netcdf/core.py:158\u001B[0m, in \u001B[0;36m<genexpr>\u001B[0;34m(.0)\u001B[0m\n\u001B[1;32m    152\u001B[0m \u001B[38;5;28;01mif\u001B[39;00m \u001B[38;5;124m\"\u001B[39m\u001B[38;5;124mDIMENSION_LIST\u001B[39m\u001B[38;5;124m\"\u001B[39m \u001B[38;5;129;01min\u001B[39;00m attrs:\n\u001B[1;32m    153\u001B[0m     \u001B[38;5;66;03m# check if malformed variable and raise\u001B[39;00m\n\u001B[1;32m    154\u001B[0m     \u001B[38;5;28;01mif\u001B[39;00m _unlabeled_dimension_mix(\u001B[38;5;28mself\u001B[39m\u001B[38;5;241m.\u001B[39m_h5ds) \u001B[38;5;241m==\u001B[39m \u001B[38;5;124m\"\u001B[39m\u001B[38;5;124mlabeled\u001B[39m\u001B[38;5;124m\"\u001B[39m:\n\u001B[1;32m    155\u001B[0m         \u001B[38;5;66;03m# If a dimension has attached more than one scale for some reason, then\u001B[39;00m\n\u001B[1;32m    156\u001B[0m         \u001B[38;5;66;03m# take the last one. This is in line with netcdf-c and netcdf4-python.\u001B[39;00m\n\u001B[1;32m    157\u001B[0m         \u001B[38;5;28;01mreturn\u001B[39;00m \u001B[38;5;28mtuple\u001B[39m(\n\u001B[0;32m--> 158\u001B[0m             \u001B[38;5;28;43mself\u001B[39;49m\u001B[38;5;241;43m.\u001B[39;49m\u001B[43m_root\u001B[49m\u001B[38;5;241;43m.\u001B[39;49m\u001B[43m_h5file\u001B[49m\u001B[43m[\u001B[49m\u001B[43mref\u001B[49m\u001B[43m[\u001B[49m\u001B[38;5;241;43m-\u001B[39;49m\u001B[38;5;241;43m1\u001B[39;49m\u001B[43m]\u001B[49m\u001B[43m]\u001B[49m\u001B[38;5;241;43m.\u001B[39;49m\u001B[43mname\u001B[49m\u001B[38;5;241m.\u001B[39msplit(\u001B[38;5;124m\"\u001B[39m\u001B[38;5;124m/\u001B[39m\u001B[38;5;124m\"\u001B[39m)[\u001B[38;5;241m-\u001B[39m\u001B[38;5;241m1\u001B[39m]\n\u001B[1;32m    159\u001B[0m             \u001B[38;5;28;01mfor\u001B[39;00m ref \u001B[38;5;129;01min\u001B[39;00m \u001B[38;5;28mlist\u001B[39m(\u001B[38;5;28mself\u001B[39m\u001B[38;5;241m.\u001B[39m_h5ds\u001B[38;5;241m.\u001B[39mattrs\u001B[38;5;241m.\u001B[39mget(\u001B[38;5;124m\"\u001B[39m\u001B[38;5;124mDIMENSION_LIST\u001B[39m\u001B[38;5;124m\"\u001B[39m, []))\n\u001B[1;32m    160\u001B[0m         )\n\u001B[1;32m    162\u001B[0m \u001B[38;5;66;03m# need to use the h5ds name here to distinguish from collision dimensions\u001B[39;00m\n\u001B[1;32m    163\u001B[0m child_name \u001B[38;5;241m=\u001B[39m \u001B[38;5;28mself\u001B[39m\u001B[38;5;241m.\u001B[39m_h5ds\u001B[38;5;241m.\u001B[39mname\u001B[38;5;241m.\u001B[39msplit(\u001B[38;5;124m\"\u001B[39m\u001B[38;5;124m/\u001B[39m\u001B[38;5;124m\"\u001B[39m)[\u001B[38;5;241m-\u001B[39m\u001B[38;5;241m1\u001B[39m]\n",
      "File \u001B[0;32mh5py/_objects.pyx:54\u001B[0m, in \u001B[0;36mh5py._objects.with_phil.wrapper\u001B[0;34m()\u001B[0m\n",
      "File \u001B[0;32mh5py/_objects.pyx:55\u001B[0m, in \u001B[0;36mh5py._objects.with_phil.wrapper\u001B[0;34m()\u001B[0m\n",
      "File \u001B[0;32m~/anaconda3/envs/devenv/lib/python3.11/site-packages/h5py/_hl/base.py:293\u001B[0m, in \u001B[0;36mHLObject.name\u001B[0;34m(self)\u001B[0m\n\u001B[1;32m    289\u001B[0m \u001B[38;5;129m@property\u001B[39m\n\u001B[1;32m    290\u001B[0m \u001B[38;5;129m@with_phil\u001B[39m\n\u001B[1;32m    291\u001B[0m \u001B[38;5;28;01mdef\u001B[39;00m\u001B[38;5;250m \u001B[39m\u001B[38;5;21mname\u001B[39m(\u001B[38;5;28mself\u001B[39m):\n\u001B[1;32m    292\u001B[0m \u001B[38;5;250m    \u001B[39m\u001B[38;5;124;03m\"\"\" Return the full name of this object.  None if anonymous. \"\"\"\u001B[39;00m\n\u001B[0;32m--> 293\u001B[0m     \u001B[38;5;28;01mreturn\u001B[39;00m \u001B[38;5;28mself\u001B[39m\u001B[38;5;241m.\u001B[39m_d(\u001B[43mh5i\u001B[49m\u001B[38;5;241;43m.\u001B[39;49m\u001B[43mget_name\u001B[49m\u001B[43m(\u001B[49m\u001B[38;5;28;43mself\u001B[39;49m\u001B[38;5;241;43m.\u001B[39;49m\u001B[43mid\u001B[49m\u001B[43m)\u001B[49m)\n",
      "\u001B[0;31mKeyboardInterrupt\u001B[0m: "
     ]
    }
   ],
   "execution_count": 9
  }
 ],
 "metadata": {
  "kernelspec": {
   "display_name": "Python 3",
   "language": "python",
   "name": "python3"
  },
  "language_info": {
   "codemirror_mode": {
    "name": "ipython",
    "version": 2
   },
   "file_extension": ".py",
   "mimetype": "text/x-python",
   "name": "python",
   "nbconvert_exporter": "python",
   "pygments_lexer": "ipython2",
   "version": "2.7.6"
  }
 },
 "nbformat": 4,
 "nbformat_minor": 5
}

{
 "cells": [
  {
   "metadata": {},
   "cell_type": "markdown",
   "source": [
    "<font color=\"#138D75\">**NERO Winter School training**</font> <br>\n",
    "**Copyright:** (c) 2025 EUMETSAT <br>\n",
    "**License:** GPL-3.0-or-later <br>\n",
    "**Authors:** Andrea Meraner (EUMETSAT)\n",
    "# Access and Process Active Fires/Thermal Anomalies LSA-SAF MSG FRP-PIXEL data to shapefiles\n",
    "\n",
    "## Intro\n",
    "\n",
    "The LSA-SAF (Land Surface Analysis - Satellite Application Facility) is part of the EUMETSAT SAFs forming a distributed application ground segment. It processes a wide range of satellite data to generate products in the realm of wildfires, land surface properties, surface radiation, vegetation etc.\n",
    "\n",
    "In this notebook, we will access and process data from the Meteosat Second Generation (MSG) SEVIRI geostationary instrument, namely the FRP-PIXEL product, containing active fire locations and measured Fire Radiative Power at a spatial resolution of 3km at nadir and a temporal resolution of 15 minutes.\n",
    "\n",
    "The notebook will fetch the data from a server containing preprocessed shapefiles for each SEVIRI acquisition.\n",
    "## Learning Objectives\n",
    "\n",
    "- How to access and extract active fire point data from MSG FRP-PIXEL data.\n",
    "- How to store point data in a shapefile\n",
    "\n",
    "## Links and Resouces\n",
    "- LSA-SAF website: https://lsa-saf.eumetsat.int/en/\n",
    "- FRP-PIXEL product documentation: https://nextcloud.lsasvcs.ipma.pt/s/TjpsBziZFNN6GPN\n",
    "\n",
    "<hr>"
   ],
   "id": "1113024bf12e109a"
  },
  {
   "metadata": {},
   "cell_type": "markdown",
   "source": [
    "### Setup\n",
    "Import the required packages"
   ],
   "id": "cc4c15a4106598b2"
  },
  {
   "cell_type": "code",
   "id": "initial_id",
   "metadata": {
    "collapsed": true,
    "ExecuteTime": {
     "end_time": "2025-02-19T17:06:06.677204Z",
     "start_time": "2025-02-19T17:06:05.423223Z"
    }
   },
   "source": [
    "import os\n",
    "import sys\n",
    "import pyproj\n",
    "pyproj.datadir.set_data_dir(os.path.join(sys.prefix, 'share', 'proj'))\n",
    "from datetime import datetime\n",
    "\n",
    "import geopandas as gpd"
   ],
   "outputs": [],
   "execution_count": 1
  },
  {
   "metadata": {},
   "cell_type": "markdown",
   "source": [
    "Configure your query by defining the time and area. The time should be in the format `\"2024-09-16T00:00:00\"` and will indicate the start time of the SEVIRI acquisition. The latitude-longitude bounding box `lonlat_bbox` is generated from the `W`est, `S`outh, `E`ast, `N`orth variables.\n",
    "**Note: since SEVIRI provides an acquisition every 15 minutes (aka \"repeat cycle\"), the start time should be a round 15-min clock time, like 00:15, 00:30, 00:45, etc.**"
   ],
   "id": "93706d33438e946c"
  },
  {
   "metadata": {
    "ExecuteTime": {
     "end_time": "2025-02-14T17:09:00.432948Z",
     "start_time": "2025-02-14T17:09:00.430313Z"
    }
   },
   "cell_type": "code",
   "source": [
    "start_time = \"2024-09-16T06:00:00\"  # should be a full 15-min time, like :00, :15, :30...\n",
    "\n",
    "# geographical bounding box\n",
    "W = 26.5\n",
    "S = 41.7\n",
    "E = 27.3\n",
    "N = 42.3\n",
    "lonlat_bbox = [W, S, E, N]\n",
    "\n",
    "run_name = \"testrun\"\n",
    "output_dir = \"./test/\""
   ],
   "id": "ad5412c223e29e5b",
   "outputs": [],
   "execution_count": 2
  },
  {
   "metadata": {},
   "cell_type": "markdown",
   "source": [
    "### Access and process data\n",
    "Let's build the path to the according file on the server and read it with GeoPandas. The file contains detection over the entire field-of-view of MSG, also called \"full-disc\". This spans Europe, Africa, the Middle-East, and parts of Asia and South America (check out this [Youtube livestream](https://www.youtube.com/watch?v=30X5SUDkANM&ab_channel=EUMETSAT) to see the latest animations from SEVIRI and get a feel of the field-of-view )."
   ],
   "id": "b68c815b0420b2e3"
  },
  {
   "metadata": {
    "ExecuteTime": {
     "end_time": "2025-02-14T17:09:02.269213Z",
     "start_time": "2025-02-14T17:09:00.853980Z"
    }
   },
   "cell_type": "code",
   "source": [
    "lsasaf_mf2_address = \"https://mf2.ipma.pt/downloads/data/lsasaf/frp/\"\n",
    "file_pattern = 'LSASAF_MSG_FRP-PIXEL-ListProduct_MSG-Disk_{}.shp'\n",
    "start_time_dt = datetime.strptime(start_time, \"%Y-%m-%dT%H:%M:%S\")\n",
    "\n",
    "download_path = (f\"{lsasaf_mf2_address}/{start_time_dt.strftime('%Y')}/\"\n",
    "                 f\"{start_time_dt.strftime('%m')}/{start_time_dt.strftime('%d')}/\")\n",
    "shp_path = f\"{download_path}/{file_pattern.format(start_time_dt.strftime('%Y%m%d%H%M'))}\"\n",
    "print(f\"Reading {shp_path}\")\n",
    "\n",
    "# Read the shapefile using geopandas\n",
    "gdf = gpd.read_file(shp_path)\n",
    "gdf = gdf.to_crs(epsg=4326)\n",
    "gdf.rename(columns={'value': 'frp'}, inplace=True)\n",
    "# Add a new column 'day_time' to the gdf with the same value for all items\n",
    "gdf.loc[:, 'day_time'] = start_time_dt.strftime('%Y-%m-%d %H:%M')\n",
    "gdf  # let's look at the data"
   ],
   "id": "d8cfbf7b36ae0ece",
   "outputs": [
    {
     "name": "stdout",
     "output_type": "stream",
     "text": [
      "Reading https://mf2.ipma.pt/downloads/data/lsasaf/frp//2024/09/16//LSASAF_MSG_FRP-PIXEL-ListProduct_MSG-Disk_202409160600.shp\n"
     ]
    },
    {
     "data": {
      "text/plain": [
       "       frp               geometry          day_time\n",
       "0     73.5    POINT (36.64 50.08)  2024-09-16 06:00\n",
       "1    108.4     POINT (39.7 48.72)  2024-09-16 06:00\n",
       "2     62.1    POINT (39.57 48.66)  2024-09-16 06:00\n",
       "3    335.3    POINT (39.64 48.66)  2024-09-16 06:00\n",
       "4    167.7    POINT (39.71 48.67)  2024-09-16 06:00\n",
       "..     ...                    ...               ...\n",
       "217   58.0  POINT (-46.86 -20.91)  2024-09-16 06:00\n",
       "218   39.9  POINT (-45.33 -22.11)  2024-09-16 06:00\n",
       "219  174.6   POINT (-45.28 -22.1)  2024-09-16 06:00\n",
       "220  105.1   POINT (-45.22 -22.1)  2024-09-16 06:00\n",
       "221   53.9  POINT (-45.29 -22.14)  2024-09-16 06:00\n",
       "\n",
       "[222 rows x 3 columns]"
      ],
      "text/html": [
       "<div>\n",
       "<style scoped>\n",
       "    .dataframe tbody tr th:only-of-type {\n",
       "        vertical-align: middle;\n",
       "    }\n",
       "\n",
       "    .dataframe tbody tr th {\n",
       "        vertical-align: top;\n",
       "    }\n",
       "\n",
       "    .dataframe thead th {\n",
       "        text-align: right;\n",
       "    }\n",
       "</style>\n",
       "<table border=\"1\" class=\"dataframe\">\n",
       "  <thead>\n",
       "    <tr style=\"text-align: right;\">\n",
       "      <th></th>\n",
       "      <th>frp</th>\n",
       "      <th>geometry</th>\n",
       "      <th>day_time</th>\n",
       "    </tr>\n",
       "  </thead>\n",
       "  <tbody>\n",
       "    <tr>\n",
       "      <th>0</th>\n",
       "      <td>73.5</td>\n",
       "      <td>POINT (36.64 50.08)</td>\n",
       "      <td>2024-09-16 06:00</td>\n",
       "    </tr>\n",
       "    <tr>\n",
       "      <th>1</th>\n",
       "      <td>108.4</td>\n",
       "      <td>POINT (39.7 48.72)</td>\n",
       "      <td>2024-09-16 06:00</td>\n",
       "    </tr>\n",
       "    <tr>\n",
       "      <th>2</th>\n",
       "      <td>62.1</td>\n",
       "      <td>POINT (39.57 48.66)</td>\n",
       "      <td>2024-09-16 06:00</td>\n",
       "    </tr>\n",
       "    <tr>\n",
       "      <th>3</th>\n",
       "      <td>335.3</td>\n",
       "      <td>POINT (39.64 48.66)</td>\n",
       "      <td>2024-09-16 06:00</td>\n",
       "    </tr>\n",
       "    <tr>\n",
       "      <th>4</th>\n",
       "      <td>167.7</td>\n",
       "      <td>POINT (39.71 48.67)</td>\n",
       "      <td>2024-09-16 06:00</td>\n",
       "    </tr>\n",
       "    <tr>\n",
       "      <th>...</th>\n",
       "      <td>...</td>\n",
       "      <td>...</td>\n",
       "      <td>...</td>\n",
       "    </tr>\n",
       "    <tr>\n",
       "      <th>217</th>\n",
       "      <td>58.0</td>\n",
       "      <td>POINT (-46.86 -20.91)</td>\n",
       "      <td>2024-09-16 06:00</td>\n",
       "    </tr>\n",
       "    <tr>\n",
       "      <th>218</th>\n",
       "      <td>39.9</td>\n",
       "      <td>POINT (-45.33 -22.11)</td>\n",
       "      <td>2024-09-16 06:00</td>\n",
       "    </tr>\n",
       "    <tr>\n",
       "      <th>219</th>\n",
       "      <td>174.6</td>\n",
       "      <td>POINT (-45.28 -22.1)</td>\n",
       "      <td>2024-09-16 06:00</td>\n",
       "    </tr>\n",
       "    <tr>\n",
       "      <th>220</th>\n",
       "      <td>105.1</td>\n",
       "      <td>POINT (-45.22 -22.1)</td>\n",
       "      <td>2024-09-16 06:00</td>\n",
       "    </tr>\n",
       "    <tr>\n",
       "      <th>221</th>\n",
       "      <td>53.9</td>\n",
       "      <td>POINT (-45.29 -22.14)</td>\n",
       "      <td>2024-09-16 06:00</td>\n",
       "    </tr>\n",
       "  </tbody>\n",
       "</table>\n",
       "<p>222 rows × 3 columns</p>\n",
       "</div>"
      ]
     },
     "execution_count": 3,
     "metadata": {},
     "output_type": "execute_result"
    }
   ],
   "execution_count": 3
  },
  {
   "metadata": {},
   "cell_type": "markdown",
   "source": "Now let's filter the full-disc data to include only lon-lat bounding box. If the result is empty, widen your search area or try with a different time.",
   "id": "89e197506fdecf79"
  },
  {
   "metadata": {
    "ExecuteTime": {
     "end_time": "2025-02-14T17:09:02.317612Z",
     "start_time": "2025-02-14T17:09:02.308651Z"
    }
   },
   "cell_type": "code",
   "source": [
    "lon_min, lat_min, lon_max, lat_max = lonlat_bbox\n",
    "filtered_gdf = gdf.cx[lon_min:lon_max, lat_min:lat_max].copy()\n",
    "filtered_gdf"
   ],
   "id": "ecd3f28f6e1d52d6",
   "outputs": [
    {
     "data": {
      "text/plain": [
       "      frp             geometry          day_time\n",
       "5    27.5  POINT (-8.08 41.04)  2024-09-16 06:00\n",
       "6   138.2  POINT (-8.47 40.84)  2024-09-16 06:00\n",
       "7   120.0  POINT (-8.43 40.84)  2024-09-16 06:00\n",
       "8   353.7  POINT (-8.46 40.79)  2024-09-16 06:00\n",
       "9   188.0  POINT (-8.42 40.79)  2024-09-16 06:00\n",
       "10   33.0  POINT (-8.35 40.79)  2024-09-16 06:00\n",
       "11  288.8  POINT (-8.49 40.76)  2024-09-16 06:00\n",
       "12  499.6  POINT (-8.46 40.76)  2024-09-16 06:00\n",
       "13  386.1  POINT (-8.42 40.76)  2024-09-16 06:00\n",
       "14  100.9  POINT (-8.38 40.76)  2024-09-16 06:00\n",
       "15  110.3  POINT (-8.34 40.75)  2024-09-16 06:00\n",
       "16  397.1  POINT (-8.52 40.72)  2024-09-16 06:00\n",
       "17  713.2  POINT (-8.49 40.72)  2024-09-16 06:00\n",
       "18  871.7  POINT (-8.44 40.71)  2024-09-16 06:00\n",
       "19  719.6  POINT (-8.41 40.71)  2024-09-16 06:00\n",
       "20  381.8  POINT (-8.36 40.71)  2024-09-16 06:00\n",
       "21  140.6   POINT (-7.62 40.7)  2024-09-16 06:00\n",
       "22  145.9   POINT (-7.58 40.7)  2024-09-16 06:00\n",
       "23  484.8  POINT (-8.52 40.67)  2024-09-16 06:00\n",
       "24  327.6  POINT (-8.48 40.67)  2024-09-16 06:00\n",
       "25  414.8  POINT (-8.44 40.67)  2024-09-16 06:00\n",
       "26  443.9  POINT (-8.41 40.67)  2024-09-16 06:00\n",
       "27  118.3  POINT (-8.36 40.67)  2024-09-16 06:00\n",
       "28  157.3  POINT (-7.62 40.65)  2024-09-16 06:00\n",
       "29  131.0  POINT (-7.58 40.65)  2024-09-16 06:00\n",
       "30   83.3   POINT (-8.4 40.63)  2024-09-16 06:00\n",
       "31   73.6  POINT (-7.54 40.08)  2024-09-16 06:00\n",
       "32  131.0  POINT (-7.57 40.04)  2024-09-16 06:00\n",
       "33  179.1  POINT (-7.54 40.04)  2024-09-16 06:00"
      ],
      "text/html": [
       "<div>\n",
       "<style scoped>\n",
       "    .dataframe tbody tr th:only-of-type {\n",
       "        vertical-align: middle;\n",
       "    }\n",
       "\n",
       "    .dataframe tbody tr th {\n",
       "        vertical-align: top;\n",
       "    }\n",
       "\n",
       "    .dataframe thead th {\n",
       "        text-align: right;\n",
       "    }\n",
       "</style>\n",
       "<table border=\"1\" class=\"dataframe\">\n",
       "  <thead>\n",
       "    <tr style=\"text-align: right;\">\n",
       "      <th></th>\n",
       "      <th>frp</th>\n",
       "      <th>geometry</th>\n",
       "      <th>day_time</th>\n",
       "    </tr>\n",
       "  </thead>\n",
       "  <tbody>\n",
       "    <tr>\n",
       "      <th>5</th>\n",
       "      <td>27.5</td>\n",
       "      <td>POINT (-8.08 41.04)</td>\n",
       "      <td>2024-09-16 06:00</td>\n",
       "    </tr>\n",
       "    <tr>\n",
       "      <th>6</th>\n",
       "      <td>138.2</td>\n",
       "      <td>POINT (-8.47 40.84)</td>\n",
       "      <td>2024-09-16 06:00</td>\n",
       "    </tr>\n",
       "    <tr>\n",
       "      <th>7</th>\n",
       "      <td>120.0</td>\n",
       "      <td>POINT (-8.43 40.84)</td>\n",
       "      <td>2024-09-16 06:00</td>\n",
       "    </tr>\n",
       "    <tr>\n",
       "      <th>8</th>\n",
       "      <td>353.7</td>\n",
       "      <td>POINT (-8.46 40.79)</td>\n",
       "      <td>2024-09-16 06:00</td>\n",
       "    </tr>\n",
       "    <tr>\n",
       "      <th>9</th>\n",
       "      <td>188.0</td>\n",
       "      <td>POINT (-8.42 40.79)</td>\n",
       "      <td>2024-09-16 06:00</td>\n",
       "    </tr>\n",
       "    <tr>\n",
       "      <th>10</th>\n",
       "      <td>33.0</td>\n",
       "      <td>POINT (-8.35 40.79)</td>\n",
       "      <td>2024-09-16 06:00</td>\n",
       "    </tr>\n",
       "    <tr>\n",
       "      <th>11</th>\n",
       "      <td>288.8</td>\n",
       "      <td>POINT (-8.49 40.76)</td>\n",
       "      <td>2024-09-16 06:00</td>\n",
       "    </tr>\n",
       "    <tr>\n",
       "      <th>12</th>\n",
       "      <td>499.6</td>\n",
       "      <td>POINT (-8.46 40.76)</td>\n",
       "      <td>2024-09-16 06:00</td>\n",
       "    </tr>\n",
       "    <tr>\n",
       "      <th>13</th>\n",
       "      <td>386.1</td>\n",
       "      <td>POINT (-8.42 40.76)</td>\n",
       "      <td>2024-09-16 06:00</td>\n",
       "    </tr>\n",
       "    <tr>\n",
       "      <th>14</th>\n",
       "      <td>100.9</td>\n",
       "      <td>POINT (-8.38 40.76)</td>\n",
       "      <td>2024-09-16 06:00</td>\n",
       "    </tr>\n",
       "    <tr>\n",
       "      <th>15</th>\n",
       "      <td>110.3</td>\n",
       "      <td>POINT (-8.34 40.75)</td>\n",
       "      <td>2024-09-16 06:00</td>\n",
       "    </tr>\n",
       "    <tr>\n",
       "      <th>16</th>\n",
       "      <td>397.1</td>\n",
       "      <td>POINT (-8.52 40.72)</td>\n",
       "      <td>2024-09-16 06:00</td>\n",
       "    </tr>\n",
       "    <tr>\n",
       "      <th>17</th>\n",
       "      <td>713.2</td>\n",
       "      <td>POINT (-8.49 40.72)</td>\n",
       "      <td>2024-09-16 06:00</td>\n",
       "    </tr>\n",
       "    <tr>\n",
       "      <th>18</th>\n",
       "      <td>871.7</td>\n",
       "      <td>POINT (-8.44 40.71)</td>\n",
       "      <td>2024-09-16 06:00</td>\n",
       "    </tr>\n",
       "    <tr>\n",
       "      <th>19</th>\n",
       "      <td>719.6</td>\n",
       "      <td>POINT (-8.41 40.71)</td>\n",
       "      <td>2024-09-16 06:00</td>\n",
       "    </tr>\n",
       "    <tr>\n",
       "      <th>20</th>\n",
       "      <td>381.8</td>\n",
       "      <td>POINT (-8.36 40.71)</td>\n",
       "      <td>2024-09-16 06:00</td>\n",
       "    </tr>\n",
       "    <tr>\n",
       "      <th>21</th>\n",
       "      <td>140.6</td>\n",
       "      <td>POINT (-7.62 40.7)</td>\n",
       "      <td>2024-09-16 06:00</td>\n",
       "    </tr>\n",
       "    <tr>\n",
       "      <th>22</th>\n",
       "      <td>145.9</td>\n",
       "      <td>POINT (-7.58 40.7)</td>\n",
       "      <td>2024-09-16 06:00</td>\n",
       "    </tr>\n",
       "    <tr>\n",
       "      <th>23</th>\n",
       "      <td>484.8</td>\n",
       "      <td>POINT (-8.52 40.67)</td>\n",
       "      <td>2024-09-16 06:00</td>\n",
       "    </tr>\n",
       "    <tr>\n",
       "      <th>24</th>\n",
       "      <td>327.6</td>\n",
       "      <td>POINT (-8.48 40.67)</td>\n",
       "      <td>2024-09-16 06:00</td>\n",
       "    </tr>\n",
       "    <tr>\n",
       "      <th>25</th>\n",
       "      <td>414.8</td>\n",
       "      <td>POINT (-8.44 40.67)</td>\n",
       "      <td>2024-09-16 06:00</td>\n",
       "    </tr>\n",
       "    <tr>\n",
       "      <th>26</th>\n",
       "      <td>443.9</td>\n",
       "      <td>POINT (-8.41 40.67)</td>\n",
       "      <td>2024-09-16 06:00</td>\n",
       "    </tr>\n",
       "    <tr>\n",
       "      <th>27</th>\n",
       "      <td>118.3</td>\n",
       "      <td>POINT (-8.36 40.67)</td>\n",
       "      <td>2024-09-16 06:00</td>\n",
       "    </tr>\n",
       "    <tr>\n",
       "      <th>28</th>\n",
       "      <td>157.3</td>\n",
       "      <td>POINT (-7.62 40.65)</td>\n",
       "      <td>2024-09-16 06:00</td>\n",
       "    </tr>\n",
       "    <tr>\n",
       "      <th>29</th>\n",
       "      <td>131.0</td>\n",
       "      <td>POINT (-7.58 40.65)</td>\n",
       "      <td>2024-09-16 06:00</td>\n",
       "    </tr>\n",
       "    <tr>\n",
       "      <th>30</th>\n",
       "      <td>83.3</td>\n",
       "      <td>POINT (-8.4 40.63)</td>\n",
       "      <td>2024-09-16 06:00</td>\n",
       "    </tr>\n",
       "    <tr>\n",
       "      <th>31</th>\n",
       "      <td>73.6</td>\n",
       "      <td>POINT (-7.54 40.08)</td>\n",
       "      <td>2024-09-16 06:00</td>\n",
       "    </tr>\n",
       "    <tr>\n",
       "      <th>32</th>\n",
       "      <td>131.0</td>\n",
       "      <td>POINT (-7.57 40.04)</td>\n",
       "      <td>2024-09-16 06:00</td>\n",
       "    </tr>\n",
       "    <tr>\n",
       "      <th>33</th>\n",
       "      <td>179.1</td>\n",
       "      <td>POINT (-7.54 40.04)</td>\n",
       "      <td>2024-09-16 06:00</td>\n",
       "    </tr>\n",
       "  </tbody>\n",
       "</table>\n",
       "</div>"
      ]
     },
     "execution_count": 4,
     "metadata": {},
     "output_type": "execute_result"
    }
   ],
   "execution_count": 4
  },
  {
   "metadata": {},
   "cell_type": "markdown",
   "source": [
    "### Save data to shapefile\n",
    "Now let's save the filtered data to a shapefile:"
   ],
   "id": "63c32ccd3414148d"
  },
  {
   "metadata": {
    "ExecuteTime": {
     "end_time": "2025-02-14T17:09:02.504475Z",
     "start_time": "2025-02-14T17:09:02.478385Z"
    }
   },
   "cell_type": "code",
   "source": [
    "# Define the output shapefile path\n",
    "filtered_shp_path = os.path.join(output_dir, run_name, 'Satellite_ActiveFires', 'MSG',\n",
    "                                 f\"{start_time}_msg_frppixel_lsasaf.shp\")\n",
    "os.makedirs(os.path.dirname(filtered_shp_path), exist_ok=True)\n",
    "# Write the filtered GeoDataFrame to a new shapefile\n",
    "gdf.to_file(filtered_shp_path, driver='ESRI Shapefile')\n",
    "print(f\"Filtered shapefile written to: {filtered_shp_path}\")"
   ],
   "id": "b33970b8a3a7428d",
   "outputs": [
    {
     "name": "stdout",
     "output_type": "stream",
     "text": [
      "Filtered shapefile written to: ./test/testrun/2024-09-16T06:00:00_lsasaf_msg_frppixel.shp\n"
     ]
    }
   ],
   "execution_count": 5
  },
  {
   "metadata": {},
   "cell_type": "markdown",
   "source": [
    "## Automated extraction for a time range (optional)\n",
    "\n",
    "In the cell below, define a start and end time in the format `2024-09-15T00:00:00` to run the automated extraction of data for the defined lat-lon bounding box for all acquisition in the time range, by calling the `main_lsasaf` function. The function essentially contains the same code as above, but with iterative loops to process each acquisition sequentially. One file per day is generated.\n",
    "\n",
    "Note: additionally to the daily shapefiles, a plot of the Fire Radiative Energy computed for all points in the area will be generated as saved as png. If you're curious to see how the values are calculated and plotted, you can check the function `plot_fre_from_gdfs` in `lsasaf_frppixel_script.py`."
   ],
   "id": "684c9c8a711e9d33"
  },
  {
   "metadata": {
    "ExecuteTime": {
     "end_time": "2025-02-14T17:09:32.796663Z",
     "start_time": "2025-02-14T17:09:02.750990Z"
    }
   },
   "cell_type": "code",
   "source": [
    "from msg_frppixel_script import main_lsasaf\n",
    "\n",
    "start_time = \"2024-09-15T23:00:00\"  # should be a full 15-min time, like :00, :15, :30...\n",
    "end_time = \"2024-09-16T06:59:59\"\n",
    "\n",
    "main_lsasaf(start_time, end_time, lonlat_bbox, output_dir, run_name)"
   ],
   "id": "e18c87edaa228c52",
   "outputs": [
    {
     "name": "stdout",
     "output_type": "stream",
     "text": [
      "No points found in day None\n",
      "Processing new day: 2024-09-15\n",
      "Processing slot 2024-09-15 23:15:00, found 21 points.\n",
      "Processing slot 2024-09-15 23:30:00, found 15 points.\n",
      "Processing slot 2024-09-15 23:45:00, found 12 points.\n",
      "Processing slot 2024-09-16 00:00:00, found 16 points.\n",
      "Processing 64 points for day 2024-09-15. Writing shapefile and plot to ./test/testrun\n",
      "Filtered shapefile written to: ./test/testrun/2024-09-15_lsasaf_msg_frppixel.shp\n",
      "Saved FRE time series plot to: ./test/testrun/2024-09-15_fre_timeseries.png\n"
     ]
    },
    {
     "data": {
      "text/plain": [
       "<Figure size 1000x500 with 1 Axes>"
      ],
      "image/png": "[encoded data removed]"
     },
     "metadata": {},
     "output_type": "display_data"
    },
    {
     "name": "stdout",
     "output_type": "stream",
     "text": [
      "Processing new day: 2024-09-16\n",
      "Processing slot 2024-09-16 00:15:00, found 16 points.\n",
      "Processing slot 2024-09-16 00:30:00, found 17 points.\n",
      "Processing slot 2024-09-16 00:45:00, found 14 points.\n",
      "Processing slot 2024-09-16 01:00:00, found 13 points.\n",
      "Processing slot 2024-09-16 01:15:00, found 17 points.\n",
      "Processing slot 2024-09-16 01:30:00, found 15 points.\n",
      "Processing slot 2024-09-16 01:45:00, found 12 points.\n",
      "Processing slot 2024-09-16 02:00:00, found 13 points.\n",
      "Processing slot 2024-09-16 02:15:00, found 13 points.\n",
      "Processing slot 2024-09-16 02:30:00, found 16 points.\n",
      "Processing slot 2024-09-16 02:45:00, found 13 points.\n",
      "Processing slot 2024-09-16 03:00:00, found 17 points.\n",
      "Processing slot 2024-09-16 03:15:00, found 15 points.\n",
      "Processing slot 2024-09-16 03:30:00, found 14 points.\n",
      "Processing slot 2024-09-16 03:45:00, found 15 points.\n",
      "Processing slot 2024-09-16 04:00:00, found 22 points.\n",
      "Processing slot 2024-09-16 04:15:00, found 19 points.\n",
      "Processing slot 2024-09-16 04:30:00, found 26 points.\n",
      "Processing slot 2024-09-16 04:45:00, found 20 points.\n",
      "Processing slot 2024-09-16 05:00:00, found 21 points.\n",
      "Processing slot 2024-09-16 05:15:00, found 18 points.\n",
      "Processing slot 2024-09-16 05:30:00, found 23 points.\n",
      "Processing slot 2024-09-16 05:45:00, found 26 points.\n",
      "Processing slot 2024-09-16 06:00:00, found 25 points.\n",
      "Processing slot 2024-09-16 06:15:00, found 29 points.\n",
      "Processing slot 2024-09-16 06:30:00, found 30 points.\n",
      "Processing slot 2024-09-16 06:45:00, found 26 points.\n",
      "Processing slot 2024-09-16 07:00:00, found 30 points.\n",
      "Processing 535 points for day 2024-09-16. Writing shapefile and plot to ./test/testrun\n",
      "Filtered shapefile written to: ./test/testrun/2024-09-16_lsasaf_msg_frppixel.shp\n",
      "Saved FRE time series plot to: ./test/testrun/2024-09-16_fre_timeseries.png\n"
     ]
    },
    {
     "data": {
      "text/plain": [
       "<Figure size 1000x500 with 1 Axes>"
      ],
      "image/png": "[encoded data removed]"
     },
     "metadata": {},
     "output_type": "display_data"
    },
    {
     "name": "stdout",
     "output_type": "stream",
     "text": [
      "Finished processing all times\n"
     ]
    }
   ],
   "execution_count": 6
  }
 ],
 "metadata": {
  "kernelspec": {
   "display_name": "Python 3",
   "language": "python",
   "name": "python3"
  },
  "language_info": {
   "codemirror_mode": {
    "name": "ipython",
    "version": 2
   },
   "file_extension": ".py",
   "mimetype": "text/x-python",
   "name": "python",
   "nbconvert_exporter": "python",
   "pygments_lexer": "ipython2",
   "version": "2.7.6"
  }
 },
 "nbformat": 4,
 "nbformat_minor": 5
}

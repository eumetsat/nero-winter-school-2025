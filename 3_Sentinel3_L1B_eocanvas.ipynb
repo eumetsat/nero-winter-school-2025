{
 "cells": [
  {
   "cell_type": "markdown",
   "metadata": {},
   "source": [
    "<img src='https://gitlab.eumetsat.int/eumetlab/oceans/ocean-training/tools/frameworks/-/raw/main/img/Standard_banner.png' align='right' width='100%'/>"
   ]
  },
  {
   "cell_type": "markdown",
   "metadata": {},
   "source": [
    "<font color=\"#138D75\">**NERO Winter School training**</font> <br>\n",
    "**Copyright:** (c) 2025 EUMETSAT <br>\n",
    "**License:** GPL-3.0-or-later <br>\n",
    "**Authors:** Dominika Leskow-Czyżewska (EUMETSAT), based on <a href='https://github.com/wekeo/wekeo4data/blob/main/wekeo-eocanvas/03_EOCanvas_DataTailor.ipynb'>EOCanvas WEkEO training</a> by Anna-Lena Erdmann (EUMETSAT)"
   ]
  },
  {
   "cell_type": "markdown",
   "metadata": {},
   "source": [
    "<div class=\"alert alert-block alert-success\">\n",
    "<h3> WEkEO EOCanvas - Processing in the Cloud for Copernicus Data</h3></div>"
   ]
  },
  {
   "cell_type": "markdown",
   "metadata": {},
   "source": [
    "<div class=\"alert alert-block alert-warning\">\n",
    "    \n",
    "<b>PREREQUISITES </b>\n",
    "    \n",
    "This notebook has the following prerequisites:\n",
    "  - **<a href=\"https://my.wekeo.eu/user-registration\" target=\"_blank\">A WEkEO account</a>**\n",
    "\n",
    "  \n",
    "\n",
    "</div>\n",
    "<hr>"
   ]
  },
  {
   "cell_type": "markdown",
   "metadata": {},
   "source": [
    "# Using the Data Tailor EOCanvas Function\n",
    "\n",
    "### Learning outcomes\n",
    "\n",
    "At the end of this notebook you will know;\n",
    "\n",
    "* how to use the <a href='https://user.eumetsat.int/resources/user-guides/data-tailor-standalone-guide' target='_blank'>EUMETSAT Data Tailor</a> Chains with the EOCanvas\n",
    "\n",
    "\n",
    "### Outline\n",
    "\n",
    "The EOCanvas is a WEkEO service to process Coperncius data in the cloud. This notebooks shows a simple example of how the <a href='https://user.eumetsat.int/resources/user-guides/data-tailor-standalone-guide' target='_blank'>EUMETSAT Data Tailor</a> processing chains can be executed using the EOCavas. \n",
    "\n",
    "<div class=\"alert alert-info\" role=\"alert\">\n",
    "\n",
    "### Contents <a id='totop'></a>\n",
    "\n",
    "</div>\n",
    "    \n",
    " 1. [Setting Up](#section0)\n",
    " 2. [Inputs to the EOCanvas Data Tailor Process](#section1)\n",
    " 3. [Executing the Process](#section2)\n",
    " 4. [Examine the results](#section3)\n",
    "\n",
    "<hr>"
   ]
  },
  {
   "cell_type": "markdown",
   "metadata": {},
   "source": [
    "<div class=\"alert alert-info\" role=\"alert\">\n",
    "\n",
    "## 1. <a id='section0'></a>Setting Up\n",
    "[Back to top](#totop)\n",
    "    \n",
    "</div>"
   ]
  },
  {
   "cell_type": "markdown",
   "metadata": {},
   "source": [
    "This example notebook shows you how to use the functions of the <a href='https://user.eumetsat.int/resources/user-guides/data-tailor-standalone-guide' target='_blank'>EUMETSAT Data Tailor</a> within the EOCanvas package. If you are a user of the Data Tailor, you can simply reuse your processes chains in the EOCanvas.  "
   ]
  },
  {
   "cell_type": "markdown",
   "metadata": {},
   "source": [
    "Loadning necessary libraries"
   ]
  },
  {
   "cell_type": "code",
   "execution_count": 1,
   "metadata": {},
   "outputs": [
    {
     "name": "stdout",
     "output_type": "stream",
     "text": [
      "Collecting eocanvas\n",
      "  Using cached eocanvas-0.2.4-py3-none-any.whl.metadata (1.6 kB)\n",
      "Requirement already satisfied: attrs<25.0.0,>=24.2.0 in /opt/conda/lib/python3.11/site-packages (from eocanvas) (24.2.0)\n",
      "Collecting cryptography<44.0.0,>=43.0.1 (from eocanvas)\n",
      "  Using cached cryptography-43.0.3-cp39-abi3-manylinux_2_28_x86_64.whl.metadata (5.4 kB)\n",
      "Collecting lxml<6.0.0,>=5.2.2 (from eocanvas)\n",
      "  Using cached lxml-5.3.0-cp311-cp311-manylinux_2_28_x86_64.whl.metadata (3.8 kB)\n",
      "Requirement already satisfied: pyyaml<7.0.0,>=6.0.1 in /opt/conda/lib/python3.11/site-packages (from eocanvas) (6.0.2)\n",
      "Requirement already satisfied: requests<3.0.0,>=2.31.0 in /opt/conda/lib/python3.11/site-packages (from eocanvas) (2.32.3)\n",
      "Requirement already satisfied: cffi>=1.12 in /opt/conda/lib/python3.11/site-packages (from cryptography<44.0.0,>=43.0.1->eocanvas) (1.17.0)\n",
      "Requirement already satisfied: charset-normalizer<4,>=2 in /opt/conda/lib/python3.11/site-packages (from requests<3.0.0,>=2.31.0->eocanvas) (3.3.2)\n",
      "Requirement already satisfied: idna<4,>=2.5 in /opt/conda/lib/python3.11/site-packages (from requests<3.0.0,>=2.31.0->eocanvas) (3.8)\n",
      "Requirement already satisfied: urllib3<3,>=1.21.1 in /opt/conda/lib/python3.11/site-packages (from requests<3.0.0,>=2.31.0->eocanvas) (2.2.2)\n",
      "Requirement already satisfied: certifi>=2017.4.17 in /opt/conda/lib/python3.11/site-packages (from requests<3.0.0,>=2.31.0->eocanvas) (2024.12.14)\n",
      "Requirement already satisfied: pycparser in /opt/conda/lib/python3.11/site-packages (from cffi>=1.12->cryptography<44.0.0,>=43.0.1->eocanvas) (2.22)\n",
      "Using cached eocanvas-0.2.4-py3-none-any.whl (102 kB)\n",
      "Using cached cryptography-43.0.3-cp39-abi3-manylinux_2_28_x86_64.whl (4.0 MB)\n",
      "Using cached lxml-5.3.0-cp311-cp311-manylinux_2_28_x86_64.whl (5.0 MB)\n",
      "Installing collected packages: lxml, cryptography, eocanvas\n",
      "  Attempting uninstall: cryptography\n",
      "    Found existing installation: cryptography 43.0.0\n",
      "    Uninstalling cryptography-43.0.0:\n",
      "      Successfully uninstalled cryptography-43.0.0\n",
      "Successfully installed cryptography-43.0.3 eocanvas-0.2.4 lxml-5.3.0\n"
     ]
    }
   ],
   "source": [
    "!pip install eocanvas"
   ]
  },
  {
   "cell_type": "code",
   "execution_count": 1,
   "metadata": {},
   "outputs": [],
   "source": [
    "from eocanvas import API, Credentials\n",
    "from eocanvas.api import Input, Config, ConfigOption\n",
    "from eocanvas.datatailor.chain import Chain\n",
    "from eocanvas.processes import DataTailorProcess"
   ]
  },
  {
   "cell_type": "code",
   "execution_count": 2,
   "metadata": {},
   "outputs": [],
   "source": [
    "import credentials"
   ]
  },
  {
   "cell_type": "markdown",
   "metadata": {},
   "source": [
    "You must replace `<your_user_name>` and `<your_password>` with the information from your WEkEO account (if you don't have one yet, register <a href=\"https://www.wekeo.eu/\" target=\"_blank\">here</a>.\n",
    "\n",
    "Save your credentials. They will be automatically loaded when required."
   ]
  },
  {
   "cell_type": "code",
   "execution_count": 7,
   "metadata": {},
   "outputs": [
    {
     "name": "stdout",
     "output_type": "stream",
     "text": [
      "Credentials are written to file /home/jovyan/.hdarc\n"
     ]
    }
   ],
   "source": [
    "c = Credentials(username=credentials.WEKEO_USERNAME, password=credentials.WEKEO_PASSWORD)\n",
    "c.save()"
   ]
  },
  {
   "cell_type": "markdown",
   "metadata": {},
   "source": [
    "<div class=\"alert alert-info\" role=\"alert\">\n",
    "\n",
    "## 2. <a id='section1'></a>Inputs to the EOCanvas Data Tailor Process\n",
    "[Back to top](#totop)\n",
    "    \n",
    "</div>\n",
    "\n"
   ]
  },
  {
   "cell_type": "markdown",
   "metadata": {},
   "source": [
    "The Data Tailor function takes two necessary inputs: \n",
    "\n",
    "- data: consists of a url from the wEkEO HDA and a key, that acts as a placeholder\n",
    "- eptc chain: processing workflow of the data tailor inside a .yml file"
   ]
  },
  {
   "cell_type": "markdown",
   "metadata": {},
   "source": [
    "### 2.1 Data \n",
    "\n",
    "The data is given to the serverless function as an **url**. The url is the reference location of the data in the WEkEO HDA. \n",
    "\n",
    "To get the url, you need to make a **request for the data using the WEkEO HDA**."
   ]
  },
  {
   "cell_type": "code",
   "execution_count": 5,
   "metadata": {},
   "outputs": [],
   "source": [
    "W = 23.806\n",
    "E = 23.994827\n",
    "N = 38.267837\n",
    "S = 38.017263\n",
    "\n",
    "start_date = \"2024-08-11\"\n",
    "end_date = \"2024-08-13\""
   ]
  },
  {
   "cell_type": "code",
   "execution_count": 8,
   "metadata": {},
   "outputs": [],
   "source": [
    "from hda import Client\n",
    "\n",
    "c = Client()\n",
    "\n",
    "query = {\n",
    "    \"dataset_id\": \"EO:EUM:DAT:SENTINEL-3:SL_1_RBT___\",\n",
    "    \"dtstart\": start_date + \"T00:00:00.000Z\",\n",
    "    \"dtend\": end_date + \"T23:59:00.000Z\",\n",
    "    \"bbox\": [\n",
    "        W,\n",
    "        S,\n",
    "        E,\n",
    "        N\n",
    "    ],\n",
    "    \"timeliness\": \"NT\",\n",
    "    \"orbitdir\": \"DESCENDING\",\n",
    "}\n",
    "\n",
    "r = c.search(query)\n",
    "url_list = r.get_download_urls()\n",
    "\n",
    "#inputs = Input(key=\"img1\", url=url)"
   ]
  },
  {
   "cell_type": "code",
   "execution_count": 9,
   "metadata": {},
   "outputs": [
    {
     "data": {
      "text/plain": [
       "['S3A_SL_1_RBT____20240813T082011_20240813T082311_20240814T133155_0179_115_349_2340_MAR_O_NT_004.SEN3',\n",
       " 'S3B_SL_1_RBT____20240812T080738_20240812T081038_20240813T134154_0179_096_192_2340_MAR_O_NT_004.SEN3',\n",
       " 'S3A_SL_1_RBT____20240811T091234_20240811T091534_20240812T145031_0180_115_321_2340_MAR_O_NT_004.SEN3',\n",
       " 'S3B_SL_1_RBT____20240811T083349_20240811T083649_20240812T144523_0179_096_178_2340_MAR_O_NT_004.SEN3']"
      ]
     },
     "execution_count": 9,
     "metadata": {},
     "output_type": "execute_result"
    }
   ],
   "source": [
    "id_list = [result['id'] for result in r.results]\n",
    "id_list"
   ]
  },
  {
   "cell_type": "markdown",
   "metadata": {},
   "source": [
    "### 2.2 Processing Workflow \"Chain\"\n",
    "\n",
    "The Data Tailor process works with so called \"Chains\". Chains are processing workflows which are defined in a `.yaml` file. For more information on how the chains are build up and which operators inside chains are supported please refer to the official <a href='https://user.eumetsat.int/resources/user-guides/data-tailor-standalone-guide' target='_blank'>EUMETSAT Data Tailor Documentation</a>. \n",
    "\n",
    "In this example a chain is provided to **resample** and **reproject** the Sentinel-3 OLCI L2 WFR product which was obtained in the cell above. "
   ]
  },
  {
   "cell_type": "code",
   "execution_count": 10,
   "metadata": {},
   "outputs": [],
   "source": [
    "chain = Chain.from_file(\"input_graphs/slstr_solar_subset.yaml\")"
   ]
  },
  {
   "cell_type": "markdown",
   "metadata": {},
   "source": [
    "You can explore the input parameters of the Chain. They contain the selection of the relevant `bands`, `projection` and the target `resolution`. "
   ]
  },
  {
   "cell_type": "code",
   "execution_count": 11,
   "metadata": {},
   "outputs": [
    {
     "data": {
      "text/plain": [
       "Chain(id=None, product='SLL1RBT', format='geotiff', name=None, description=None, aggregation=None, projection='geographic', roi=None, filter=Filter(id=None, bands=['s1_radiance_an', 's2_radiance_an', 's3_radiance_an', 's6_radiance_an'], name=None, product=None), quicklook=None, resample_method=None, resample_resolution=None, compression=None, xrit_segments=None)"
      ]
     },
     "execution_count": 11,
     "metadata": {},
     "output_type": "execute_result"
    }
   ],
   "source": [
    "chain"
   ]
  },
  {
   "cell_type": "markdown",
   "metadata": {},
   "source": [
    "<div class=\"alert alert-info\" role=\"alert\">\n",
    "\n",
    "## 3. <a id='section2'></a>Execution of the Process\n",
    "[Back to top](#totop)\n",
    "    \n",
    "</div>"
   ]
  },
  {
   "cell_type": "code",
   "execution_count": 12,
   "metadata": {},
   "outputs": [],
   "source": [
    "from concurrent.futures import ThreadPoolExecutor\n",
    "\n",
    "MAX_QUOTA = 3"
   ]
  },
  {
   "cell_type": "code",
   "execution_count": 13,
   "metadata": {},
   "outputs": [],
   "source": [
    "from time import sleep"
   ]
  },
  {
   "cell_type": "code",
   "execution_count": 14,
   "metadata": {},
   "outputs": [],
   "source": [
    "import os\n",
    "\n",
    "run_name = \"testrun\"\n",
    "output_dir = './testdir/'\n",
    "# Create a download directory for our downloaded products\n",
    "download_dir = os.path.join(output_dir, run_name, 'Satellite_ActiveFires', 'S3_FRP')\n",
    "\n",
    "\n",
    "def exec_data_tailor_process(url):\n",
    "    print(f\"Starting Data Tailor for product at {url}\")\n",
    "    inputs = Input(key=\"img1\", url=url)\n",
    "    process = DataTailorProcess(epct_chain=chain, epct_input=inputs)\n",
    "    process.run(download_dir=download_dir)\n",
    "    return f\"Finishing Data Tailor for product at {url}\"\n",
    "    sleep(1)  #Wait for one sec to finish"
   ]
  },
  {
   "cell_type": "code",
   "execution_count": 15,
   "metadata": {},
   "outputs": [
    {
     "name": "stdout",
     "output_type": "stream",
     "text": [
      "Starting Data Tailor for product at https://gateway.prod.wekeo2.eu/hda-broker/api/v1/dataaccess/download/67adf3e8c0fbf72c11647f71\n",
      "Starting Data Tailor for product at https://gateway.prod.wekeo2.eu/hda-broker/api/v1/dataaccess/download/67adf3f79639f6fb0283f1e6\n",
      "Starting Data Tailor for product at https://gateway.prod.wekeo2.eu/hda-broker/api/v1/dataaccess/download/67adf41c9639f6fb0283f1ea\n",
      "Job: c39e5706-23c2-5f09-9830-62f7012879dd - Status: accepted at 2025-02-13T13:35:48.278795\n",
      "Job: b4a8c3b2-0f07-5fab-8305-ae36911e8831 - Status: accepted at 2025-02-13T13:35:48.526761\n",
      "Job: 46eb1dd1-31c4-5a52-90d7-497ec7c12839 - Status: accepted at 2025-02-13T13:35:48.631518\n",
      "Job: c39e5706-23c2-5f09-9830-62f7012879dd - Status: running at 2025-02-13T13:35:58.375166\n",
      "Job: b4a8c3b2-0f07-5fab-8305-ae36911e8831 - Status: running at 2025-02-13T13:35:58.586754\n",
      "Job: 46eb1dd1-31c4-5a52-90d7-497ec7c12839 - Status: running at 2025-02-13T13:35:58.678869\n",
      "Job: c39e5706-23c2-5f09-9830-62f7012879dd - Status: running at 2025-02-13T13:36:09.437633\n",
      "Job: b4a8c3b2-0f07-5fab-8305-ae36911e8831 - Status: running at 2025-02-13T13:36:09.650486\n",
      "Job: 46eb1dd1-31c4-5a52-90d7-497ec7c12839 - Status: running at 2025-02-13T13:36:09.731653\n",
      "Job: c39e5706-23c2-5f09-9830-62f7012879dd - Status: running at 2025-02-13T13:36:21.613711\n",
      "Job: b4a8c3b2-0f07-5fab-8305-ae36911e8831 - Status: running at 2025-02-13T13:36:21.803503\n",
      "Job: 46eb1dd1-31c4-5a52-90d7-497ec7c12839 - Status: running at 2025-02-13T13:36:21.883869\n",
      "Job: c39e5706-23c2-5f09-9830-62f7012879dd - Status: running at 2025-02-13T13:36:35.002159\n",
      "Job: b4a8c3b2-0f07-5fab-8305-ae36911e8831 - Status: running at 2025-02-13T13:36:35.169152\n",
      "Job: 46eb1dd1-31c4-5a52-90d7-497ec7c12839 - Status: running at 2025-02-13T13:36:35.242682\n",
      "Job: c39e5706-23c2-5f09-9830-62f7012879dd - Status: running at 2025-02-13T13:36:49.743279\n",
      "Job: b4a8c3b2-0f07-5fab-8305-ae36911e8831 - Status: running at 2025-02-13T13:36:49.859565\n",
      "Job: 46eb1dd1-31c4-5a52-90d7-497ec7c12839 - Status: running at 2025-02-13T13:36:49.939168\n",
      "Job: c39e5706-23c2-5f09-9830-62f7012879dd - Status: running at 2025-02-13T13:37:05.911534\n",
      "Job: 46eb1dd1-31c4-5a52-90d7-497ec7c12839 - Status: running at 2025-02-13T13:37:06.086925\n",
      "Job: b4a8c3b2-0f07-5fab-8305-ae36911e8831 - Status: running at 2025-02-13T13:37:06.095578\n",
      "Job: c39e5706-23c2-5f09-9830-62f7012879dd - Status: running at 2025-02-13T13:37:23.702719\n",
      "Job: b4a8c3b2-0f07-5fab-8305-ae36911e8831 - Status: running at 2025-02-13T13:37:23.866470\n",
      "Job: 46eb1dd1-31c4-5a52-90d7-497ec7c12839 - Status: running at 2025-02-13T13:37:23.871524\n",
      "Job: c39e5706-23c2-5f09-9830-62f7012879dd - Status: running at 2025-02-13T13:37:43.256379\n",
      "Job: b4a8c3b2-0f07-5fab-8305-ae36911e8831 - Status: running at 2025-02-13T13:37:43.402505\n",
      "Job: 46eb1dd1-31c4-5a52-90d7-497ec7c12839 - Status: running at 2025-02-13T13:37:43.402655\n",
      "Job: c39e5706-23c2-5f09-9830-62f7012879dd - Status: running at 2025-02-13T13:38:04.777842\n",
      "Job: b4a8c3b2-0f07-5fab-8305-ae36911e8831 - Status: running at 2025-02-13T13:38:04.888249\n",
      "Job: 46eb1dd1-31c4-5a52-90d7-497ec7c12839 - Status: running at 2025-02-13T13:38:04.902106\n",
      "Job: c39e5706-23c2-5f09-9830-62f7012879dd - Status: running at 2025-02-13T13:38:28.450979\n",
      "Job: 46eb1dd1-31c4-5a52-90d7-497ec7c12839 - Status: running at 2025-02-13T13:38:28.532165\n",
      "Job: b4a8c3b2-0f07-5fab-8305-ae36911e8831 - Status: running at 2025-02-13T13:38:28.533463\n",
      "Job: 46eb1dd1-31c4-5a52-90d7-497ec7c12839 - Status: running at 2025-02-13T13:38:54.517550\n",
      "Job: b4a8c3b2-0f07-5fab-8305-ae36911e8831 - Status: running at 2025-02-13T13:38:54.520806\n",
      "Downloading result/S3_SLSTR_SOLAR/SLL1RBT_20240811T091240Z_20240811T091540Z_epct_f5fc304d_FP.tif\n",
      "Starting Data Tailor for product at https://gateway.prod.wekeo2.eu/hda-broker/api/v1/dataaccess/download/67adf422c0fbf72c11647f7d\n",
      "Job: 35237602-6d34-57d0-b3df-7af461d738dd - Status: accepted at 2025-02-13T13:38:56.897185\n",
      "Job: 35237602-6d34-57d0-b3df-7af461d738dd - Status: running at 2025-02-13T13:39:06.959588\n",
      "Job: 35237602-6d34-57d0-b3df-7af461d738dd - Status: running at 2025-02-13T13:39:18.022202\n",
      "Downloading result/S3_SLSTR_SOLAR/SLL1RBT_20240812T080744Z_20240812T081044Z_epct_07edafe9_FP.tif\n",
      "Downloading result/S3_SLSTR_SOLAR/SLL1RBT_20240813T082018Z_20240813T082318Z_epct_8f5f7ea7_FP.tif\n",
      "Finishing Data Tailor for product at https://gateway.prod.wekeo2.eu/hda-broker/api/v1/dataaccess/download/67adf3e8c0fbf72c11647f71\n",
      "Finishing Data Tailor for product at https://gateway.prod.wekeo2.eu/hda-broker/api/v1/dataaccess/download/67adf3f79639f6fb0283f1e6\n",
      "Finishing Data Tailor for product at https://gateway.prod.wekeo2.eu/hda-broker/api/v1/dataaccess/download/67adf41c9639f6fb0283f1ea\n",
      "Job: 35237602-6d34-57d0-b3df-7af461d738dd - Status: running at 2025-02-13T13:39:30.200070\n",
      "Job: 35237602-6d34-57d0-b3df-7af461d738dd - Status: running at 2025-02-13T13:39:43.598512\n",
      "Job: 35237602-6d34-57d0-b3df-7af461d738dd - Status: running at 2025-02-13T13:39:58.324548\n",
      "Job: 35237602-6d34-57d0-b3df-7af461d738dd - Status: running at 2025-02-13T13:40:14.493880\n",
      "Job: 35237602-6d34-57d0-b3df-7af461d738dd - Status: running at 2025-02-13T13:40:32.285542\n",
      "Job: 35237602-6d34-57d0-b3df-7af461d738dd - Status: running at 2025-02-13T13:40:51.846393\n",
      "Job: 35237602-6d34-57d0-b3df-7af461d738dd - Status: running at 2025-02-13T13:41:13.350833\n",
      "Job: 35237602-6d34-57d0-b3df-7af461d738dd - Status: running at 2025-02-13T13:41:37.063311\n",
      "Job: 35237602-6d34-57d0-b3df-7af461d738dd - Status: running at 2025-02-13T13:42:03.149671\n",
      "Downloading result/S3_SLSTR_SOLAR/SLL1RBT_20240811T083355Z_20240811T083656Z_epct_bffe6b63_FP.tif\n",
      "Finishing Data Tailor for product at https://gateway.prod.wekeo2.eu/hda-broker/api/v1/dataaccess/download/67adf422c0fbf72c11647f7d\n"
     ]
    }
   ],
   "source": [
    "with ThreadPoolExecutor(max_workers=MAX_QUOTA) as executor:\n",
    "    futures = [executor.submit(exec_data_tailor_process, url) for url in url_list]\n",
    "\n",
    "    # Get the results as they complete\n",
    "    for future in futures:\n",
    "        print(future.result())"
   ]
  },
  {
   "cell_type": "code",
   "execution_count": 16,
   "metadata": {},
   "outputs": [],
   "source": [
    "api = API()"
   ]
  },
  {
   "cell_type": "code",
   "execution_count": 17,
   "metadata": {},
   "outputs": [
    {
     "data": {
      "text/plain": [
       "[Job(api=<eocanvas.api.API object at 0x7f09432f0850>, job_id='35237602-6d34-57d0-b3df-7af461d738dd', status='successful', started='2025-02-13 13:38:56', created='2025-02-13 13:38:56', updated='2025-02-13 13:42:09', finished='2025-02-13 13:42:08'),\n",
       " Job(api=<eocanvas.api.API object at 0x7f09432f0850>, job_id='46eb1dd1-31c4-5a52-90d7-497ec7c12839', status='successful', started='2025-02-13 13:35:48', created='2025-02-13 13:35:48', updated='2025-02-13 13:39:15', finished='2025-02-13 13:39:14'),\n",
       " Job(api=<eocanvas.api.API object at 0x7f09432f0850>, job_id='b4a8c3b2-0f07-5fab-8305-ae36911e8831', status='successful', started='2025-02-13 13:35:48', created='2025-02-13 13:35:48', updated='2025-02-13 13:38:57', finished='2025-02-13 13:38:56'),\n",
       " Job(api=<eocanvas.api.API object at 0x7f09432f0850>, job_id='c39e5706-23c2-5f09-9830-62f7012879dd', status='successful', started='2025-02-13 13:35:48', created='2025-02-13 13:35:48', updated='2025-02-13 13:38:53', finished='2025-02-13 13:38:52'),\n",
       " Job(api=<eocanvas.api.API object at 0x7f09432f0850>, job_id='2cc08632-925b-58e7-9833-0d63ae1c5851', status='failed', started='2025-02-04 13:49:35', created='2025-02-04 13:49:35', updated='2025-02-04 13:50:27', finished='2025-02-04 13:50:26'),\n",
       " Job(api=<eocanvas.api.API object at 0x7f09432f0850>, job_id='0ec31596-ee0e-5def-8866-e4ea8a826703', status='successful', started='2025-02-04 13:46:25', created='2025-02-04 13:46:25', updated='2025-02-04 13:49:28', finished='2025-02-04 13:49:27'),\n",
       " Job(api=<eocanvas.api.API object at 0x7f09432f0850>, job_id='1453732e-f36c-50e5-8ff1-c3902d77eb74', status='successful', started='2025-02-04 13:46:25', created='2025-02-04 13:46:25', updated='2025-02-04 13:49:15', finished='2025-02-04 13:49:13'),\n",
       " Job(api=<eocanvas.api.API object at 0x7f09432f0850>, job_id='aea8a5b4-90a1-511e-8e0f-efaacaf1bb9e', status='successful', started='2025-02-04 13:46:25', created='2025-02-04 13:46:25', updated='2025-02-04 13:49:12', finished='2025-02-04 13:49:11'),\n",
       " Job(api=<eocanvas.api.API object at 0x7f09432f0850>, job_id='9542dd86-e362-5c38-aa8a-4df297678946', status='failed', started='2025-02-04 13:34:00', created='2025-02-04 13:34:00', updated='2025-02-04 13:36:19', finished='2025-02-04 13:36:18'),\n",
       " Job(api=<eocanvas.api.API object at 0x7f09432f0850>, job_id='a9cbb9ab-480e-5aeb-9249-31749482870b', status='failed', started='2025-02-04 13:34:00', created='2025-02-04 13:34:00', updated='2025-02-04 13:36:13', finished='2025-02-04 13:36:13')]"
      ]
     },
     "execution_count": 17,
     "metadata": {},
     "output_type": "execute_result"
    }
   ],
   "source": [
    "api.get_jobs()"
   ]
  },
  {
   "cell_type": "code",
   "execution_count": 18,
   "metadata": {},
   "outputs": [
    {
     "data": {
      "text/plain": [
       "'46eb1dd1-31c4-5a52-90d7-497ec7c12839'"
      ]
     },
     "execution_count": 18,
     "metadata": {},
     "output_type": "execute_result"
    }
   ],
   "source": [
    "j = api.get_jobs()[1]\n",
    "j.job_id"
   ]
  },
  {
   "cell_type": "code",
   "execution_count": 19,
   "metadata": {},
   "outputs": [],
   "source": [
    "#job = '2cc08632-925b-58e7-9833-0d63ae1c5851'\n",
    "job = 'aea8a5b4-90a1-511e-8e0f-efaacaf1bb9e'\n",
    "log = api.get_job_logs(job=job)"
   ]
  },
  {
   "cell_type": "code",
   "execution_count": 20,
   "metadata": {},
   "outputs": [],
   "source": [
    "from pathlib import Path"
   ]
  },
  {
   "cell_type": "code",
   "execution_count": 21,
   "metadata": {},
   "outputs": [
    {
     "data": {
      "text/plain": [
       "'SLL1RBT_20240812T080744Z_20240812T081044Z_epct_66869edb_FP.tif'"
      ]
     },
     "execution_count": 21,
     "metadata": {},
     "output_type": "execute_result"
    }
   ],
   "source": [
    "# Search for 'output' in the log messages\n",
    "for line_number, entry in enumerate(log, start=1):\n",
    "    if 'output-product' in entry.message:  # case-insensitive search\n",
    "        filename = Path(entry.message.split(' ')[-1]).name\n",
    "\n",
    "filename"
   ]
  },
  {
   "cell_type": "markdown",
   "metadata": {},
   "source": [
    "Create the Data Tailor process using the two inputs"
   ]
  },
  {
   "cell_type": "markdown",
   "metadata": {},
   "source": [
    "<div class=\"alert alert-info\" role=\"alert\">\n",
    "\n",
    "## 4. <a id='section3'></a>Examine the Results\n",
    "[Back to top](#totop)\n",
    "    \n",
    "</div>"
   ]
  },
  {
   "cell_type": "code",
   "execution_count": 22,
   "metadata": {},
   "outputs": [],
   "source": [
    "def search_output_filename_in_eocanvas_log(log):\n",
    "    filename = None\n",
    "    for line_number, entry in enumerate(log, start=1):\n",
    "        if 'output-product' in entry.message:  # case-insensitive search\n",
    "            filename = Path(entry.message.split(' ')[-1]).name\n",
    "            break\n",
    "    return filename\n",
    "\n",
    "\n",
    "def get_eocanvas_log(api, job_index):\n",
    "    job_id = api.get_jobs()[job_index].job_id\n",
    "    log = api.get_job_logs(job=job_id)\n",
    "    return log"
   ]
  },
  {
   "cell_type": "code",
   "execution_count": 23,
   "metadata": {},
   "outputs": [
    {
     "data": {
      "text/plain": [
       "[PosixPath('result/S3_SLSTR_SOLAR/SLL1RBT_20240811T083355Z_20240811T083656Z_epct_bffe6b63_FP.tif'),\n",
       " PosixPath('result/S3_SLSTR_SOLAR/SLL1RBT_20240812T080744Z_20240812T081044Z_epct_07edafe9_FP.tif'),\n",
       " PosixPath('result/S3_SLSTR_SOLAR/SLL1RBT_20240813T082018Z_20240813T082318Z_epct_8f5f7ea7_FP.tif'),\n",
       " PosixPath('result/S3_SLSTR_SOLAR/SLL1RBT_20240811T091240Z_20240811T091540Z_epct_f5fc304d_FP.tif')]"
      ]
     },
     "execution_count": 23,
     "metadata": {},
     "output_type": "execute_result"
    }
   ],
   "source": [
    "result_paths = []\n",
    "api = API()\n",
    "for job_index in range(len(url_list)):\n",
    "    log = get_eocanvas_log(api, job_index)\n",
    "    file = search_output_filename_in_eocanvas_log(log)\n",
    "    if file is not None:\n",
    "        result_paths.append(Path(download_dir) / file)\n",
    "\n",
    "result_paths"
   ]
  },
  {
   "cell_type": "code",
   "execution_count": 30,
   "metadata": {},
   "outputs": [
    {
     "data": {
      "text/plain": [
       "PosixPath('/home/jovyan/nero-winter-school-2025/result/S3_SLSTR_SOLAR')"
      ]
     },
     "execution_count": 30,
     "metadata": {},
     "output_type": "execute_result"
    }
   ],
   "source": [
    "result_paths[0].parent.absolute()"
   ]
  },
  {
   "cell_type": "code",
   "execution_count": 24,
   "metadata": {},
   "outputs": [],
   "source": [
    "import rasterio\n",
    "from rasterio.mask import mask\n",
    "from shapely.geometry import box\n",
    "import os"
   ]
  },
  {
   "cell_type": "code",
   "execution_count": 26,
   "metadata": {},
   "outputs": [
    {
     "name": "stdout",
     "output_type": "stream",
     "text": [
      "Source GeoTIFF overwritten: result/S3_SLSTR_SOLAR/SLL1RBT_20240811T083355Z_20240811T083656Z_epct_bffe6b63_FP.tif\n",
      "Source GeoTIFF overwritten: result/S3_SLSTR_SOLAR/SLL1RBT_20240812T080744Z_20240812T081044Z_epct_07edafe9_FP.tif\n",
      "Source GeoTIFF overwritten: result/S3_SLSTR_SOLAR/SLL1RBT_20240813T082018Z_20240813T082318Z_epct_8f5f7ea7_FP.tif\n",
      "Source GeoTIFF overwritten: result/S3_SLSTR_SOLAR/SLL1RBT_20240811T091240Z_20240811T091540Z_epct_f5fc304d_FP.tif\n"
     ]
    }
   ],
   "source": [
    "# Define bounding box (xmin, ymin, xmax, ymax)\n",
    "bounding_box = [W, S, E, N]\n",
    "\n",
    "for input_tiff in result_paths:\n",
    "    # Input GeoTIFF path\n",
    "    #input_tiff = result_paths[1]\n",
    "    temp_tiff = Path(download_dir) / \"temp_subset.tif\"\n",
    "\n",
    "    # Create a geometry for the bounding box\n",
    "    bbox_geom = [box(*bounding_box)]\n",
    "\n",
    "    with rasterio.open(input_tiff) as src:\n",
    "        # Crop the raster using the bounding box\n",
    "        out_image, out_transform = mask(src, bbox_geom, crop=True)\n",
    "\n",
    "        # Update metadata\n",
    "        out_meta = src.meta.copy()\n",
    "        out_meta.update({\n",
    "            \"driver\": \"GTiff\",\n",
    "            \"height\": out_image.shape[1],\n",
    "            \"width\": out_image.shape[2],\n",
    "            \"transform\": out_transform\n",
    "        })\n",
    "\n",
    "        # Write the subset to a temporary file\n",
    "        with rasterio.open(temp_tiff, \"w\", **out_meta) as dest:\n",
    "            dest.write(out_image)\n",
    "            # Preserve band descriptions\n",
    "            dest.descriptions = src.descriptions\n",
    "\n",
    "    # Replace the original file\n",
    "    os.replace(temp_tiff, input_tiff)\n",
    "\n",
    "    print(f\"Source GeoTIFF overwritten: {input_tiff}\")"
   ]
  }
 ],
 "metadata": {
  "author": "Anna-Lena Erdmann",
  "deployment": {
   "wekeo": {
    "git": {
     "link": "https://github.com/wekeo/wekeo4data/blob/main/wekeo-eocanvas/01_EOCanvas_DataTailor.ipynb",
     "service_contact": "ops@eumetsat.int",
     "service_provider": "EUMETSAT"
    },
    "url": {
     "link": "https://jupyterhub.prod.wekeo2.eu/hub/user-redirect/lab/tree/public/wekeo4data/wekeo-eocanvas/01_EOCanvas_DataTailor.ipynb",
     "service_contact": "ops@eumetsat.int",
     "service_provider": "EUMETSAT"
    }
   }
  },
  "description": "This Jupyter Notebook shows how to use the processing chains of the EUMETSAT Data Tailor with the EOCanvas for processing Coperncius data in the cloud.",
  "image": "img/thumbs/03_eocanvas_datatailor.png",
  "kernelspec": {
   "display_name": "nero_winter_school",
   "language": "python",
   "name": "nero_winter_school"
  },
  "language_info": {
   "codemirror_mode": {
    "name": "ipython",
    "version": 3
   },
   "file_extension": ".py",
   "mimetype": "text/x-python",
   "name": "python",
   "nbconvert_exporter": "python",
   "pygments_lexer": "ipython3",
   "version": "3.11.0"
  },
  "tags": {
   "service": [
    "EUMETSAT"
   ],
   "subtheme": [
    "eocanvas"
   ],
   "theme": "Tools"
  },
  "title": "Using the EUMETSAT Data Tailor with EOCanvas",
  "vscode": {
   "interpreter": {
    "hash": "69a843eb2806097c81d46a99bb39f1f0d8214ba0939f50116f16a105a7e284d3"
   }
  }
 },
 "nbformat": 4,
 "nbformat_minor": 4
}

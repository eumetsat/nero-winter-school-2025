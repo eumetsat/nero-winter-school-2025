{
 "cells": [
  {
   "cell_type": "markdown",
   "metadata": {
    "Collapsed": "false"
   },
   "source": [
    "<img src='https://gitlab.eumetsat.int/eumetlab/oceans/ocean-training/tools/frameworks/-/raw/main/img/Standard_banner.png' align='right' width='100%'/>"
   ]
  },
  {
   "cell_type": "markdown",
   "metadata": {},
   "source": [
    "<font color=\"#138D75\">**NERO Winter School training**</font> <br>\n",
    "**Copyright:** (c) 2025 EUMETSAT <br>\n",
    "**License:** GPL-3.0-or-later <br>\n",
    "**Authors:** Dominika Leskow-Czyżewska (EUMETSAT), based on <a href='https://gitlab.eumetsat.int/eumetlab/data-services/eumdac_data_store/-/blob/master/2_1_Customising_products.ipynb?ref_type=heads'>EUMETSAT Data Services training</a>"
   ]
  },
  {
   "cell_type": "markdown",
   "metadata": {
    "Collapsed": "false"
   },
   "source": [
    "<hr>"
   ]
  },
  {
   "cell_type": "markdown",
   "metadata": {
    "Collapsed": "false"
   },
   "source": [
    "## Sentinel-3 data with the EUMETSAT Data Tailor and EUMDAC"
   ]
  },
  {
   "cell_type": "markdown",
   "metadata": {},
   "source": [
    "### Data used\n",
    "\n",
    "| Product Description  | Data Store collection ID| Product Navigator |\n",
    "|:--------------------:|:-----------------------:|:-----------------:|\n",
    "| Sentinel-3 OLCI level 1B full resolution  | EO:EUM:DAT:0409 | [link](https://data.eumetsat.int/product/EO:EUM:DAT:0409?query=olci&s=extended) |\n",
    "| Sentinel-3 SLSTR Level 1B Radiances and Brightness Temperatures | EO:EUM:DAT:0411 | [link](https://data.eumetsat.int/product/EO:EUM:DAT:0411?query=slstr&s=extended) |\n"
   ]
  },
  {
   "cell_type": "markdown",
   "metadata": {},
   "source": [
    "### What will this module teach you?\n",
    "\n",
    "This module will show you how to:<br>\n",
    "1. Select a product from the <b>Data Store</b> via EUMDAC library\n",
    "2. Pass the product to the <b>Data Tailor</b> via EUMDAC library to remotely customise products prior to download\n",
    "3. Retrieve your customised products"
   ]
  },
  {
   "cell_type": "markdown",
   "metadata": {},
   "source": [
    "### Use EUMDAC library\n",
    "\n",
    "In this section we will demonstrate how you can use the Data Tailor web service to customise products you select from the Data Store. This customisation is done <b><u>prior</u></b> to downloading the products, so it is useful for users who wish to refine their data stream. We can do this by using EUMDAC, an EUMETSAT Python library to handle requests and responses of the APIs.\n",
    "\n",
    "You will find an installation guide, and further information about the usage of EUMDAC, here: https://user.eumetsat.int/resources/user-guides/eumetsat-data-access-client-eumdac-guide\n",
    "\n",
    "### Authentication\n",
    "\n",
    "After installing the eumdac we are calling the Token. It takes care of requesting a new value after expiration."
   ]
  },
  {
   "cell_type": "code",
   "execution_count": 1,
   "metadata": {},
   "outputs": [],
   "source": [
    "# Import the library EUMDAC\n",
    "import eumdac\n",
    "import time\n",
    "import requests\n",
    "import yaml\n",
    "import os"
   ]
  },
  {
   "cell_type": "code",
   "execution_count": 2,
   "metadata": {},
   "outputs": [],
   "source": [
    "run_name = \"varnavas_example\"\n",
    "output_dir = './example_data/'"
   ]
  },
  {
   "cell_type": "code",
   "execution_count": 3,
   "metadata": {},
   "outputs": [],
   "source": [
    "import credentials"
   ]
  },
  {
   "cell_type": "code",
   "execution_count": 4,
   "metadata": {},
   "outputs": [],
   "source": [
    "# Insert your personal key and secret into the single quotes\n",
    "\n",
    "consumer_key=credentials.EUMDAC_CONSUMER_KEY\n",
    "consumer_secret=credentials.EUMDAC_CONSUMER_SECRET\n",
    "\n",
    "credentials = (consumer_key, consumer_secret)\n",
    "\n",
    "token = eumdac.AccessToken(credentials)"
   ]
  },
  {
   "cell_type": "markdown",
   "metadata": {},
   "source": [
    "<div class=\"alert alert-block alert-success\">\n",
    "<b>NOTE:</b><br />\n",
    "You can find your personal API credentials here: <a href=\"https://api.eumetsat.int/api-key/\">https://api.eumetsat.int/api-key/</a>\n",
    "</div>"
   ]
  },
  {
   "cell_type": "code",
   "execution_count": 5,
   "metadata": {},
   "outputs": [
    {
     "name": "stdout",
     "output_type": "stream",
     "text": [
      "This token 'b26f1175-c0f3-3bcc-b8e4-36ecce27840a' expires 2025-02-19 23:03:29.175159\n"
     ]
    }
   ],
   "source": [
    "try:\n",
    "    print(f\"This token '{token}' expires {token.expiration}\")\n",
    "except requests.exceptions.HTTPError as exc:\n",
    "    print(f\"Error when trying the request to the server: '{exc}'\")"
   ]
  },
  {
   "cell_type": "markdown",
   "metadata": {},
   "source": [
    "### Selecting products from the Data Store\n",
    "\n",
    "For this demonstration, we are going to select a Sentinel-3 L1B OLCI product (collection ID: EO:EUM:DAT:0409). Later on, feel free to comment and uncomment one of the sections (select the lines and click Ctrl+/)."
   ]
  },
  {
   "cell_type": "code",
   "execution_count": 6,
   "metadata": {},
   "outputs": [],
   "source": [
    "folder_name = 'S3_OLCI'\n",
    "collectionID = 'EO:EUM:DAT:0409' #OLCI\n",
    "chain_path = 'input_graphs/olci_subset.yaml'\n",
    "\n",
    "# folder_name = 'S3_SLSTR_SOLAR'\n",
    "# collectionID = 'EO:EUM:DAT:0411' #SLSTR\n",
    "# chain_path = 'input_graphs/slstr_solar_subset.yaml'\n",
    "\n",
    "# folder_name = 'S3_SLSTR_THERMAL'\n",
    "# collectionID = 'EO:EUM:DAT:0411' #SLSTR\n",
    "# chain_path = 'input_graphs/slstr_thermal_subset.yaml'"
   ]
  },
  {
   "cell_type": "code",
   "execution_count": 7,
   "metadata": {},
   "outputs": [],
   "source": [
    "# Create a download directory for our downloaded products\n",
    "download_dir = os.path.join(output_dir, run_name, 'Satellite_Imagery', folder_name)\n",
    "os.makedirs(download_dir, exist_ok=True)"
   ]
  },
  {
   "cell_type": "code",
   "execution_count": 8,
   "metadata": {},
   "outputs": [
    {
     "name": "stdout",
     "output_type": "stream",
     "text": [
      "Found Datasets: 3 datasets for the given time range and geographical area\n",
      "S3A_OL_1_EFR____20240813T082011_20240813T082311_20240814T104955_0179_115_349_2340_MAR_O_NT_004.SEN3\n",
      "S3B_OL_1_EFR____20240812T080738_20240812T081038_20240813T112859_0179_096_192_2340_MAR_O_NT_004.SEN3\n",
      "S3B_OL_1_EFR____20240811T083349_20240811T083649_20240812T120918_0179_096_178_2340_MAR_O_NT_004.SEN3\n"
     ]
    }
   ],
   "source": [
    "datastore = eumdac.DataStore(token)\n",
    "\n",
    "# Selecting the collection and product.\n",
    "selected_collection = datastore.get_collection(collectionID)\n",
    "\n",
    "# Set sensing start and end time\n",
    "start_time = \"2024-08-11T00:00:00\"\n",
    "end_time = \"2024-08-13T23:59:59\"\n",
    "\n",
    "#  lat-lon geographical bounds of search area\n",
    "W = 23.3\n",
    "S = 37.8\n",
    "E = 24.5\n",
    "N = 38.5\n",
    "bounding_box = f'{W}, {S}, {E}, {N}'  # West, South, East, North\n",
    "\n",
    "selected_products = selected_collection.search(\n",
    "    bbox=bounding_box,\n",
    "    dtstart=start_time,\n",
    "    dtend=end_time)\n",
    "\n",
    "print(f'Found Datasets: {selected_products.total_results} datasets for the given time range and geographical area')\n",
    "for product in selected_products:\n",
    "    print(str(product))"
   ]
  },
  {
   "cell_type": "markdown",
   "metadata": {},
   "source": [
    "<div class=\"alert alert-block alert-success\">\n",
    "<b>NOTE:</b><br />\n",
    "Find more information about EUMDAC errors, their causes and possible solutions, in our knowledge base: <a href=\"https://user.eumetsat.int/resources/user-guides/eumetsat-data-access-client-eumdac-guide#ID-Exception-handling\">https://user.eumetsat.int/resources/user-guides/eumetsat-data-access-client-eumdac-guide#ID-Exception-handling</a>\n",
    "</div>"
   ]
  },
  {
   "cell_type": "markdown",
   "metadata": {},
   "source": [
    "## Customising products with the Data Tailor\n",
    "\n",
    "To customise a product with the Data Tailor, we need to provide following information;\n",
    "* A product object\n",
    "* A chain configuration\n",
    "\n",
    "We already have the product object, 'latest'. Now, we will define our chain configuration."
   ]
  },
  {
   "cell_type": "code",
   "execution_count": 9,
   "metadata": {},
   "outputs": [
    {
     "data": {
      "text/plain": [
       "{'total': 1,\n",
       " 'data': {'dominikalc': {'disk_quota_active': True,\n",
       "   'user_quota': 20000.0,\n",
       "   'space_usage_percentage': 0.0,\n",
       "   'space_usage': 0.094362,\n",
       "   'workspace_dir_size': 0.0,\n",
       "   'log_dir_size': 0.0,\n",
       "   'output_dir_size': 0.0,\n",
       "   'nr_customisations': 0,\n",
       "   'unit_of_size': 'MB'}}}"
      ]
     },
     "metadata": {},
     "output_type": "display_data"
    }
   ],
   "source": [
    "datatailor = eumdac.DataTailor(token)\n",
    "\n",
    "# To check if Data Tailor works as expected, we are requesting our quota information\n",
    "try:\n",
    "    display(datatailor.quota)\n",
    "except eumdac.datatailor.DataTailorError as error:\n",
    "    print(f\"Error related to the Data Tailor: '{error.msg}'\")\n",
    "except requests.exceptions.RequestException as error:\n",
    "    print(f\"Unexpected error: {error}\")"
   ]
  },
  {
   "cell_type": "markdown",
   "metadata": {},
   "source": [
    "We have pre-prepared a few tailoring chains which might be useful. We load one of them with our desired customisation operations."
   ]
  },
  {
   "cell_type": "code",
   "execution_count": 10,
   "metadata": {},
   "outputs": [],
   "source": [
    "# Creating custom tailoring chain.\n",
    "import yaml\n",
    "\n",
    "# Read the YAML file\n",
    "with open(chain_path, 'r') as file:\n",
    "    yaml_data = yaml.safe_load(file)\n",
    "\n",
    "# Create the Chain object by unpacking all YAML content\n",
    "chain = eumdac.tailor_models.Chain(**yaml_data)"
   ]
  },
  {
   "cell_type": "markdown",
   "metadata": {},
   "source": [
    "## Submitting a customisation and downloading the products\n",
    "\n",
    "Now we can submit our customisation. It is possible to submit up to 3 customisations up the same time, therefore we specify `MAX_QUOTA`."
   ]
  },
  {
   "cell_type": "code",
   "execution_count": 11,
   "metadata": {},
   "outputs": [],
   "source": [
    "import fnmatch\n",
    "import shutil\n",
    "from concurrent.futures import ThreadPoolExecutor\n",
    "\n",
    "MAX_QUOTA = 3"
   ]
  },
  {
   "cell_type": "markdown",
   "metadata": {},
   "source": [
    "We define a function for a single customisation. We define a time duration for the interval with which to query the status of the customisation. Once the customisation has finished, we download the result."
   ]
  },
  {
   "cell_type": "code",
   "execution_count": 12,
   "metadata": {},
   "outputs": [],
   "source": [
    "def exec_data_tailor_process(product):\n",
    "    print(f\"Starting Data Tailor for product at {product}\")\n",
    "    # Actual customisation submission\n",
    "    customisation = datatailor.new_customisation(product, chain=chain)\n",
    "\n",
    "    # Printing customisation status\n",
    "    sleep_time = 10 # seconds\n",
    "    while True:\n",
    "        status = customisation.status\n",
    "        if \"DONE\" in status:\n",
    "            print(f\"Customisation {customisation._id} is successfully completed.\")\n",
    "            print(f\"Downloading the output of the customisation {customisation._id}\")\n",
    "            cust_files = fnmatch.filter(customisation.outputs, '*')[0]\n",
    "            with customisation.stream_output(cust_files) as stream, open(os.path.join(download_dir, stream.name), mode='wb') as fdst:\n",
    "                shutil.copyfileobj(stream, fdst)\n",
    "                file_path = os.path.join(download_dir, stream.name)\n",
    "            print(f\"Download finished for customisation {customisation._id}.\")\n",
    "            break\n",
    "        elif status in [\"ERROR\", \"FAILED\", \"DELETED\", \"KILLED\", \"INACTIVE\"]:\n",
    "            print(f\"Customisation {customisation._id} was unsuccessful. Customisation log is printed.\\n\")\n",
    "            print(customisation.logfile)\n",
    "            break\n",
    "        elif \"QUEUED\" in status:\n",
    "            print(f\"Customisation {customisation._id} is queued.\")\n",
    "        elif \"RUNNING\" in status:\n",
    "            print(f\"Customisation {customisation._id} is running.\")\n",
    "        time.sleep(sleep_time)\n",
    "\n",
    "    print(f\"Finishing Data Tailor for product at {product}\")\n",
    "    return file_path\n",
    "    "
   ]
  },
  {
   "cell_type": "markdown",
   "metadata": {},
   "source": [
    "We submit customisations for all the found products. "
   ]
  },
  {
   "cell_type": "code",
   "execution_count": 13,
   "metadata": {},
   "outputs": [
    {
     "name": "stdout",
     "output_type": "stream",
     "text": [
      "Starting Data Tailor for product at S3A_OL_1_EFR____20240813T082011_20240813T082311_20240814T104955_0179_115_349_2340_MAR_O_NT_004.SEN3\n",
      "Starting Data Tailor for product at S3B_OL_1_EFR____20240812T080738_20240812T081038_20240813T112859_0179_096_192_2340_MAR_O_NT_004.SEN3\n",
      "Starting Data Tailor for product at S3B_OL_1_EFR____20240811T083349_20240811T083649_20240812T120918_0179_096_178_2340_MAR_O_NT_004.SEN3\n",
      "Customisation 89061cda is running.\n",
      "Customisation 4c6b4cf7 is running.\n",
      "Customisation abcd9ed3 is running.\n",
      "Customisation 4c6b4cf7 is running.\n",
      "Customisation abcd9ed3 is running.\n",
      "Customisation 89061cda is running.\n",
      "Customisation abcd9ed3 is running.\n",
      "Customisation 4c6b4cf7 is running.\n",
      "Customisation 89061cda is running.\n",
      "Customisation 4c6b4cf7 is running.\n",
      "Customisation abcd9ed3 is running.\n",
      "Customisation 89061cda is running.\n",
      "Customisation 4c6b4cf7 is running.\n",
      "Customisation abcd9ed3 is running.\n",
      "Customisation 89061cda is running.\n",
      "Customisation 4c6b4cf7 is running.\n",
      "Customisation abcd9ed3 is running.\n",
      "Customisation 89061cda is running.\n",
      "Customisation 4c6b4cf7 is running.\n",
      "Customisation abcd9ed3 is running.\n",
      "Customisation 89061cda is running.\n",
      "Customisation 4c6b4cf7 is running.\n",
      "Customisation abcd9ed3 is running.\n",
      "Customisation 89061cda is running.\n",
      "Customisation abcd9ed3 is running.\n",
      "Customisation 89061cda is running.\n",
      "Customisation 4c6b4cf7 is running.\n",
      "Customisation 89061cda is running.\n",
      "Customisation abcd9ed3 is running.\n",
      "Customisation 4c6b4cf7 is running.\n",
      "Customisation 89061cda is running.\n",
      "Customisation abcd9ed3 is running.\n",
      "Customisation 4c6b4cf7 is running.\n",
      "Customisation 89061cda is running.\n",
      "Customisation abcd9ed3 is running.\n",
      "Customisation 4c6b4cf7 is running.\n",
      "Customisation 89061cda is running.\n",
      "Customisation abcd9ed3 is running.\n",
      "Customisation 4c6b4cf7 is running.\n",
      "Customisation abcd9ed3 is running.\n",
      "Customisation 89061cda is successfully completed.\n",
      "Downloading the output of the customisation 89061cda\n",
      "Customisation 4c6b4cf7 is successfully completed.\n",
      "Downloading the output of the customisation 4c6b4cf7\n",
      "Download finished for customisation 89061cda.\n",
      "Finishing Data Tailor for product at S3B_OL_1_EFR____20240811T083349_20240811T083649_20240812T120918_0179_096_178_2340_MAR_O_NT_004.SEN3\n",
      "Download finished for customisation 4c6b4cf7.\n",
      "Finishing Data Tailor for product at S3A_OL_1_EFR____20240813T082011_20240813T082311_20240814T104955_0179_115_349_2340_MAR_O_NT_004.SEN3\n",
      "./example_data/varnavas_example/Satellite_Imagery/S3_OLCI/OLL1EFR_20240813T082029Z_20240813T082329Z_epct_4c6b4cf7_FP.tif\n",
      "Customisation abcd9ed3 is successfully completed.\n",
      "Downloading the output of the customisation abcd9ed3\n",
      "Download finished for customisation abcd9ed3.\n",
      "Finishing Data Tailor for product at S3B_OL_1_EFR____20240812T080738_20240812T081038_20240813T112859_0179_096_192_2340_MAR_O_NT_004.SEN3\n",
      "./example_data/varnavas_example/Satellite_Imagery/S3_OLCI/OLL1EFR_20240812T080756Z_20240812T081056Z_epct_abcd9ed3_FP.tif\n",
      "./example_data/varnavas_example/Satellite_Imagery/S3_OLCI/OLL1EFR_20240811T083407Z_20240811T083707Z_epct_89061cda_FP.tif\n"
     ]
    }
   ],
   "source": [
    "with ThreadPoolExecutor(max_workers=MAX_QUOTA) as executor:\n",
    "    futures = [executor.submit(exec_data_tailor_process, product) for product in selected_products]\n",
    "\n",
    "    # Get the results as they complete\n",
    "    for future in futures:\n",
    "        print(future.result())"
   ]
  },
  {
   "cell_type": "code",
   "execution_count": 14,
   "metadata": {},
   "outputs": [
    {
     "data": {
      "text/plain": [
       "['./example_data/varnavas_example/Satellite_Imagery/S3_OLCI/OLL1EFR_20240813T082029Z_20240813T082329Z_epct_4c6b4cf7_FP.tif',\n",
       " './example_data/varnavas_example/Satellite_Imagery/S3_OLCI/OLL1EFR_20240812T080756Z_20240812T081056Z_epct_abcd9ed3_FP.tif',\n",
       " './example_data/varnavas_example/Satellite_Imagery/S3_OLCI/OLL1EFR_20240811T083407Z_20240811T083707Z_epct_89061cda_FP.tif']"
      ]
     },
     "execution_count": 14,
     "metadata": {},
     "output_type": "execute_result"
    }
   ],
   "source": [
    "result_paths = []\n",
    "for future in futures:\n",
    "    result_paths.append(future.result())\n",
    "\n",
    "result_paths"
   ]
  },
  {
   "cell_type": "markdown",
   "metadata": {},
   "source": [
    "### Clearing customisations from the Data Tailor\n",
    "\n",
    "The Data Tailor Web Service has a 20 Gb limit, so it's **important** to clear old customisations. First, we check our quota:"
   ]
  },
  {
   "cell_type": "code",
   "execution_count": 15,
   "metadata": {},
   "outputs": [
    {
     "data": {
      "text/plain": [
       "{'total': 1,\n",
       " 'data': {'dominikalc': {'disk_quota_active': True,\n",
       "   'user_quota': 20000.0,\n",
       "   'space_usage_percentage': 2.53,\n",
       "   'space_usage': 505.913626,\n",
       "   'workspace_dir_size': 0.0,\n",
       "   'log_dir_size': 0.01226,\n",
       "   'output_dir_size': 505.807004,\n",
       "   'nr_customisations': 3,\n",
       "   'unit_of_size': 'MB'}}}"
      ]
     },
     "metadata": {},
     "output_type": "display_data"
    }
   ],
   "source": [
    "try:\n",
    "    display(datatailor.quota)\n",
    "except eumdac.datatailor.DataTailorError as error:\n",
    "    print(f\"Error related to the Data Tailor: '{error.msg}'\")\n",
    "except requests.exceptions.RequestException as error:\n",
    "    print(f\"Unexpected error: {error}\")"
   ]
  },
  {
   "cell_type": "markdown",
   "metadata": {},
   "source": [
    "To delete all the customisations we have just created, simply call the delete function:"
   ]
  },
  {
   "cell_type": "code",
   "execution_count": 16,
   "metadata": {},
   "outputs": [
    {
     "name": "stdout",
     "output_type": "stream",
     "text": [
      "Delete completed customisation 4c6b4cf7 from 2025-02-19 17:55:41 UTC.\n",
      "Delete completed customisation abcd9ed3 from 2025-02-19 17:55:41 UTC.\n",
      "Delete completed customisation 89061cda from 2025-02-19 17:55:41 UTC.\n"
     ]
    }
   ],
   "source": [
    "# Clearing all customisations from the Data Tailor\n",
    "\n",
    "for customisation in datatailor.customisations:\n",
    "    if customisation.status in ['QUEUED', 'INACTIVE', 'RUNNING']:\n",
    "        customisation.kill()\n",
    "        print(f'Delete {customisation.status} customisation {customisation} from {customisation.creation_time} UTC.')\n",
    "        try:\n",
    "            customisation.delete()\n",
    "        except eumdac.datatailor.CustomisationError as error:\n",
    "            print(\"Customisation Error:\", error)\n",
    "        except Exception as error:\n",
    "            print(\"Unexpected error:\", error)\n",
    "    else:\n",
    "        print(f'Delete completed customisation {customisation} from {customisation.creation_time} UTC.')\n",
    "        try:\n",
    "            customisation.delete()\n",
    "        except eumdac.datatailor.CustomisationError as error:\n",
    "            print(\"Customisation Error:\", error)\n",
    "        except requests.exceptions.RequestException as error:\n",
    "            print(\"Unexpected error:\", error)"
   ]
  },
  {
   "cell_type": "markdown",
   "metadata": {},
   "source": [
    "### Cropping the data\n",
    "\n",
    "At the moment, the Data Tailor doesn't have a capability to crop the Sentinel-3 Level 1B data. Therefore, we are going to do it here."
   ]
  },
  {
   "cell_type": "code",
   "execution_count": 17,
   "metadata": {},
   "outputs": [],
   "source": [
    "import rasterio\n",
    "from rasterio.mask import mask\n",
    "from shapely.geometry import box\n",
    "import os\n",
    "from pathlib import Path"
   ]
  },
  {
   "cell_type": "code",
   "execution_count": 18,
   "metadata": {},
   "outputs": [
    {
     "name": "stdout",
     "output_type": "stream",
     "text": [
      "Source GeoTIFF overwritten: ./example_data/varnavas_example/Satellite_Imagery/S3_OLCI/OLL1EFR_20240813T082029Z_20240813T082329Z_epct_4c6b4cf7_FP.tif\n",
      "Source GeoTIFF overwritten: ./example_data/varnavas_example/Satellite_Imagery/S3_OLCI/OLL1EFR_20240812T080756Z_20240812T081056Z_epct_abcd9ed3_FP.tif\n",
      "Source GeoTIFF overwritten: ./example_data/varnavas_example/Satellite_Imagery/S3_OLCI/OLL1EFR_20240811T083407Z_20240811T083707Z_epct_89061cda_FP.tif\n"
     ]
    }
   ],
   "source": [
    "# Define bounding box (xmin, ymin, xmax, ymax)\n",
    "bounding_box = [W, S, E, N]\n",
    "\n",
    "for input_tiff in result_paths:\n",
    "    # Input GeoTIFF path\n",
    "    #input_tiff = result_paths[1]\n",
    "    temp_tiff = Path(download_dir) / \"temp_subset.tif\"\n",
    "\n",
    "    # Create a geometry for the bounding box\n",
    "    bbox_geom = [box(*bounding_box)]\n",
    "\n",
    "    with rasterio.open(input_tiff) as src:\n",
    "        # Crop the raster using the bounding box\n",
    "        out_image, out_transform = mask(src, bbox_geom, crop=True)\n",
    "\n",
    "        # Update metadata\n",
    "        out_meta = src.meta.copy()\n",
    "        out_meta.update({\n",
    "            \"driver\": \"GTiff\",\n",
    "            \"height\": out_image.shape[1],\n",
    "            \"width\": out_image.shape[2],\n",
    "            \"transform\": out_transform\n",
    "        })\n",
    "\n",
    "        # Write the subset to a temporary file\n",
    "        with rasterio.open(temp_tiff, \"w\", **out_meta) as dest:\n",
    "            dest.write(out_image)\n",
    "            # Preserve band descriptions\n",
    "            dest.descriptions = src.descriptions\n",
    "\n",
    "    # Replace the original file\n",
    "    os.replace(temp_tiff, input_tiff)\n",
    "\n",
    "    print(f\"Source GeoTIFF overwritten: {input_tiff}\")"
   ]
  },
  {
   "cell_type": "markdown",
   "metadata": {},
   "source": [
    "This ends our example on how to perform remote customisations on Data Store products using the Data Tailor. Feel free to adapt this script to search for your own products of interest, and customise with your chains as required. Guidance on chain customisation can be found on our <a href=\"https://user.eumetsat.int/resources/user-guides/data-store-detailed-guide#ID-Understanding-configuring-and-using-chains\">Understanding, Configuring and Using Chains</a> page. If you need further help, you can contact us using the buttons at the bottom of the page."
   ]
  },
  {
   "cell_type": "markdown",
   "metadata": {},
   "source": [
    "<hr>"
   ]
  },
  {
   "cell_type": "markdown",
   "metadata": {},
   "source": [
    "<p style=\"text-align:left;\">This project is licensed under the <a href=\"./LICENSE.TXT\">GPL-3.0-or-later</a> license <span style=\"float:right;\"><a href=\"https://gitlab.eumetsat.int/eumetlab/atmosphere/trainings/nero-winter-school-2025\">View on GitLab</a> | <a href=\"https://classroom.eumetsat.int/\">EUMETSAT Training</a> | <a href=mailto:ops@eumetsat.int>Contact</a></span></p>"
   ]
  }
 ],
 "metadata": {
  "kernelspec": {
   "display_name": "nero_winter_school",
   "language": "python",
   "name": "nero_winter_school"
  },
  "language_info": {
   "codemirror_mode": {
    "name": "ipython",
    "version": 3
   },
   "file_extension": ".py",
   "mimetype": "text/x-python",
   "name": "python",
   "nbconvert_exporter": "python",
   "pygments_lexer": "ipython3",
   "version": "3.11.0"
  }
 },
 "nbformat": 4,
 "nbformat_minor": 4
}

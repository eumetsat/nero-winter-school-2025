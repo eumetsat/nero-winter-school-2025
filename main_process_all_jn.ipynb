{
 "cells": [
  {
   "metadata": {},
   "cell_type": "markdown",
   "source": [
    "<font color=\"#138D75\">**NERO Winter School training**</font> <br>\n",
    "**Copyright:** (c) 2025 EUMETSAT <br>\n",
    "**License:** GPL-3.0-or-later <br>\n",
    "**Authors:** Andrea Meraner and Dominika Leskow-Czyżewska (EUMETSAT)\n",
    "# Main script to process all satellite data sources\n",
    "\n",
    "This script aggregates all satellite data processing scripts into one to allow the quicker and automated generation of all outputs."
   ],
   "id": "c294453a4d681251"
  },
  {
   "metadata": {},
   "cell_type": "code",
   "outputs": [],
   "execution_count": null,
   "source": [
    "start_time = \"2024-09-15T00:00:00\"  # should be either :00 or :30 to allow the correct retrieval of both MSG and MTG data\n",
    "end_time = \"2024-09-16T23:59:59\"\n",
    "\n",
    "# Define the latitudes and longitudes of the bounding box\n",
    "W = 26.5\n",
    "S = 41.7\n",
    "E = 27.3\n",
    "N = 42.3\n",
    "lonlat_bbox = [W, S, E, N]\n",
    "lonlat_bbox_str = f\"{W}, {S}, {E}, {N}\"\n",
    "\n",
    "run_name = \"testrun\"\n",
    "\n",
    "output_dir = '/tcenas/scratch/andream/firedata/'"
   ],
   "id": "73e5e4d2540485fc"
  },
  {
   "metadata": {},
   "cell_type": "markdown",
   "source": "## Imagery",
   "id": "fae5f99358f1e734"
  },
  {
   "metadata": {},
   "cell_type": "markdown",
   "source": "FCI imagery",
   "id": "fd91ef6bb51034c7"
  },
  {
   "metadata": {},
   "cell_type": "code",
   "outputs": [],
   "execution_count": null,
   "source": [
    "input_dir = 'satellite_data/fci_data/202409_Portugal/'\n",
    "remote_files = True\n",
    "datasets = ['nir_22', 'ir_38', 'fire_temperature']\n",
    "\n",
    "from fci_satpy_script import main_fci\n",
    "\n",
    "main_fci(input_dir, datasets, start_time, end_time, lonlat_bbox, output_dir, run_name, remote_files)"
   ],
   "id": "64cbbe5aefaf9dd0"
  },
  {
   "metadata": {},
   "cell_type": "markdown",
   "source": "Landsat 8/9 and Sentinel-2",
   "id": "3ef713123ac4f70c"
  },
  {
   "metadata": {},
   "cell_type": "code",
   "outputs": [],
   "execution_count": null,
   "source": [
    "from landsat_sentinel2_img_earthdata_script import main_earthdata\n",
    "\n",
    "composites_dict = {\n",
    "    'SWIR-composite': {\n",
    "        'Sentinel2': ['B12', 'B8A', 'B04'],\n",
    "        'Landsat89': ['B07', 'B05', 'B04']\n",
    "    }\n",
    "}\n",
    "main_earthdata(start_time, end_time, lonlat_bbox, output_dir, run_name, composites_dict)"
   ],
   "id": "5c0ccc3f106d3a8e"
  },
  {
   "metadata": {},
   "cell_type": "markdown",
   "source": "Sentinel-2 (full-res but daily)",
   "id": "e55577ad831a44bb"
  },
  {
   "metadata": {},
   "cell_type": "code",
   "outputs": [],
   "execution_count": null,
   "source": [
    "from sentinel2_openeo_script import main_sentinel2\n",
    "\n",
    "bands = [\"B08\", \"B04\", \"B03\", \"B02\", \"B12\"]\n",
    "main_sentinel2(start_time, end_time, W, S, E, N, bands, output_dir, run_name)"
   ],
   "id": "20cc47e0ce9f7521"
  },
  {
   "metadata": {},
   "cell_type": "markdown",
   "source": "Sentinel-3",
   "id": "52d2c9e0b28284f1"
  },
  {
   "metadata": {},
   "cell_type": "code",
   "outputs": [],
   "execution_count": null,
   "source": [
    "from sentinel3_imagery_script import main_sentinel3\n",
    "\n",
    "#main_sentinel3('SLSTR_SOLAR', start_time, end_time, W,S,E,N, output_dir, run_name)\n",
    "#main_sentinel3('SLSTR_THERMAL', start_time, end_time, W,S,E,N, output_dir, run_name)\n",
    "main_sentinel3('OLCI', start_time, end_time, W, S, E, N, output_dir, run_name)"
   ],
   "id": "744f7e26566ea02d"
  },
  {
   "metadata": {},
   "cell_type": "markdown",
   "source": "## Active Fires",
   "id": "3b5b13b4b70b86a3"
  },
  {
   "metadata": {},
   "cell_type": "markdown",
   "source": "MSG FRP-PIXEL",
   "id": "c2dd93ec5d8e1282"
  },
  {
   "metadata": {},
   "cell_type": "code",
   "outputs": [],
   "execution_count": null,
   "source": [
    "from msg_frppixel_script import main_lsasaf\n",
    "\n",
    "main_lsasaf(start_time, end_time, lonlat_bbox, output_dir, run_name)"
   ],
   "id": "fa3f00ef92c928a9"
  },
  {
   "metadata": {},
   "cell_type": "markdown",
   "source": "MODIS-VIIRS from FIRMS",
   "id": "6e03ba3a68eacad1"
  },
  {
   "metadata": {},
   "cell_type": "code",
   "outputs": [],
   "execution_count": null,
   "source": [
    "from firms_script import main_firms\n",
    "\n",
    "main_firms(start_time, end_time, lonlat_bbox, output_dir, run_name)"
   ],
   "id": "846e5ee8311965d5"
  },
  {
   "metadata": {},
   "cell_type": "markdown",
   "source": "Sentinel-3",
   "id": "5e72da491a319edd"
  },
  {
   "metadata": {},
   "cell_type": "code",
   "outputs": [],
   "execution_count": null,
   "source": [
    "\n",
    "from sentinel3_fire_script import main_sentinel3_frp\n",
    "\n",
    "main_sentinel3_frp(start_time, end_time, lonlat_bbox_str, output_dir, run_name)"
   ],
   "id": "6edd949c42b7ab12"
  },
  {
   "metadata": {},
   "cell_type": "markdown",
   "source": [
    "### Zip the outputs\n",
    "At last, zip the output for easier download"
   ],
   "id": "9a50e417c87d5f31"
  },
  {
   "metadata": {},
   "cell_type": "code",
   "outputs": [],
   "execution_count": null,
   "source": [
    "from tools import zip_output_folder\n",
    "\n",
    "zip_output_folder(output_dir, run_name)"
   ],
   "id": "42ea72c80989629d"
  }
 ],
 "metadata": {},
 "nbformat": 5,
 "nbformat_minor": 9
}

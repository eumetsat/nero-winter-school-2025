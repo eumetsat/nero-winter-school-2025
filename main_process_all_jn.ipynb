{
 "cells": [
  {
   "metadata": {},
   "cell_type": "markdown",
   "source": [
    "<font color=\"#138D75\">**NERO Winter School training**</font> <br>\n",
    "**Copyright:** (c) 2025 EUMETSAT <br>\n",
    "**License:** GPL-3.0-or-later <br>\n",
    "**Authors:** Andrea Meraner and Dominika Leskow-Czyżewska (EUMETSAT)\n",
    "# Main script to process all satellite data sources\n",
    "\n",
    "This script aggregates all satellite data processing scripts into one to allow the quicker and automated generation of all outputs."
   ],
   "id": "c294453a4d681251"
  },
  {
   "metadata": {},
   "cell_type": "code",
   "source": [
    "import os\n",
    "\n",
    "# start should be either :00 or :30 minutes to allow the correct retrieval of both MSG and MTG data\n",
    "start_time = \"2024-09-14T00:00:00\"\n",
    "end_time = \"2024-09-20T23:59:59\"\n",
    "\n",
    "# Define the latitudes and longitudes of the bounding box\n",
    "W = -8.8\n",
    "S = 40.6\n",
    "E = -7.4\n",
    "N = 40.9\n",
    "\n",
    "lonlat_bbox = [W, S, E, N]\n",
    "lonlat_bbox_str = f\"{W}, {S}, {E}, {N}\"\n",
    "\n",
    "run_name = \"aveiro_penalva\"\n",
    "\n",
    "output_dir = './ref_data/'"
   ],
   "id": "73e5e4d2540485fc",
   "outputs": [],
   "execution_count": null
  },
  {
   "metadata": {},
   "cell_type": "markdown",
   "source": "## Imagery",
   "id": "fae5f99358f1e734"
  },
  {
   "metadata": {},
   "cell_type": "markdown",
   "source": "Landsat 8/9 and Sentinel-2",
   "id": "3ef713123ac4f70c"
  },
  {
   "metadata": {},
   "cell_type": "code",
   "source": [
    "from landsat_sentinel2_img_earthdata_script import main_earthdata\n",
    "\n",
    "composites_dict = {\n",
    "    'SWIR-composite': {\n",
    "        'Sentinel2': ['B12', 'B8A', 'B04'],\n",
    "        'Landsat89': ['B07', 'B05', 'B04']\n",
    "    }\n",
    "}\n",
    "main_earthdata(start_time, end_time, lonlat_bbox, output_dir, run_name, composites_dict)"
   ],
   "id": "5c0ccc3f106d3a8e",
   "outputs": [],
   "execution_count": null
  },
  {
   "metadata": {},
   "cell_type": "markdown",
   "source": "Sentinel-2 (full-res but daily)",
   "id": "e55577ad831a44bb"
  },
  {
   "metadata": {},
   "cell_type": "code",
   "source": [
    "from sentinel2_openeo_script import main_sentinel2\n",
    "\n",
    "bands = [\"B08\", \"B04\", \"B03\", \"B02\", \"B12\"]\n",
    "main_sentinel2(start_time, end_time, W, S, E, N, bands, output_dir, run_name)"
   ],
   "id": "20cc47e0ce9f7521",
   "outputs": [],
   "execution_count": null
  },
  {
   "metadata": {},
   "cell_type": "markdown",
   "source": "Sentinel-3",
   "id": "52d2c9e0b28284f1"
  },
  {
   "metadata": {},
   "cell_type": "code",
   "source": [
    "from sentinel3_imagery_script import main_sentinel3\n",
    "\n",
    "#main_sentinel3('SLSTR_SOLAR', start_time, end_time, W,S,E,N, output_dir, run_name)\n",
    "#main_sentinel3('SLSTR_THERMAL', start_time, end_time, W,S,E,N, output_dir, run_name)\n",
    "main_sentinel3('OLCI', start_time, end_time, W, S, E, N, output_dir, run_name)"
   ],
   "id": "744f7e26566ea02d",
   "outputs": [],
   "execution_count": null
  },
  {
   "metadata": {},
   "cell_type": "markdown",
   "source": "FCI imagery",
   "id": "fd91ef6bb51034c7"
  },
  {
   "metadata": {},
   "cell_type": "code",
   "source": [
    "input_dir = '/tcenas/scratch/andream/fci_data_for_nero/aug_attica/'\n",
    "remote_files = False\n",
    "datasets = ['nir_22', 'ir_38', 'fire_temperature', 'true_color']\n",
    "\n",
    "from fci_satpy_script import main_fci\n",
    "\n",
    "main_fci(input_dir, datasets, start_time, end_time, lonlat_bbox, output_dir, run_name, remote_files)"
   ],
   "id": "64cbbe5aefaf9dd0",
   "outputs": [],
   "execution_count": null
  },
  {
   "metadata": {},
   "cell_type": "markdown",
   "source": "## Active Fires",
   "id": "3b5b13b4b70b86a3"
  },
  {
   "metadata": {},
   "cell_type": "markdown",
   "source": "MSG FRP-PIXEL",
   "id": "c2dd93ec5d8e1282"
  },
  {
   "metadata": {},
   "cell_type": "code",
   "source": [
    "from msg_frppixel_script import main_lsasaf\n",
    "\n",
    "main_lsasaf(start_time, end_time, lonlat_bbox, output_dir, run_name)"
   ],
   "id": "fa3f00ef92c928a9",
   "outputs": [],
   "execution_count": null
  },
  {
   "metadata": {},
   "cell_type": "markdown",
   "source": "MODIS-VIIRS from FIRMS",
   "id": "6e03ba3a68eacad1"
  },
  {
   "metadata": {},
   "cell_type": "code",
   "source": [
    "from firms_script import main_firms\n",
    "\n",
    "main_firms(start_time, end_time, lonlat_bbox, output_dir, run_name)"
   ],
   "id": "846e5ee8311965d5",
   "outputs": [],
   "execution_count": null
  },
  {
   "metadata": {},
   "cell_type": "markdown",
   "source": "Sentinel-3",
   "id": "5e72da491a319edd"
  },
  {
   "metadata": {},
   "cell_type": "code",
   "source": [
    "\n",
    "from sentinel3_fire_script import main_sentinel3_frp\n",
    "\n",
    "main_sentinel3_frp(start_time, end_time, lonlat_bbox_str, output_dir, run_name)"
   ],
   "id": "6edd949c42b7ab12",
   "outputs": [],
   "execution_count": null
  },
  {
   "metadata": {},
   "cell_type": "markdown",
   "source": [
    "### Zip the outputs\n",
    "At last, zip the output for easier download"
   ],
   "id": "9a50e417c87d5f31"
  },
  {
   "metadata": {},
   "cell_type": "code",
   "source": [
    "from tools import zip_output_folder\n",
    "\n",
    "folder_to_zip = os.path.join(output_dir, run_name)\n",
    "output_zip_filename = os.path.join(output_dir, f\"{run_name}.zip\")  # or input a manual name\n",
    "\n",
    "zip_output_folder(folder_to_zip, output_zip_filename)"
   ],
   "id": "42ea72c80989629d",
   "outputs": [],
   "execution_count": null
  }
 ],
 "metadata": {
  "kernelspec": {
   "name": "python3",
   "language": "python",
   "display_name": "Python 3 (ipykernel)"
  }
 },
 "nbformat": 4,
 "nbformat_minor": 5
}

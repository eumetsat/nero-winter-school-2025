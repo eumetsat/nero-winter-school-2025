{
 "cells": [
  {
   "metadata": {},
   "cell_type": "markdown",
   "source": [
    "<font color=\"#138D75\">**NERO Winter School training**</font> <br>\n",
    "**Copyright:** (c) 2025 EUMETSAT <br>\n",
    "**License:** GPL-3.0-or-later <br>\n",
    "**Authors:** Andrea Meraner (EUMETSAT)\n",
    "# Download data from the course bucket\n",
    "This script allows you to download data from the training s3-bucket to the Jupyterhub instance.\n",
    "\n",
    "Follow the trainers instructions regarding which prefixes to download at which point of the course."
   ],
   "id": "dd1f609c9d24ba41"
  },
  {
   "metadata": {
    "ExecuteTime": {
     "end_time": "2025-02-15T15:25:06.663752Z",
     "start_time": "2025-02-15T15:25:05.553199Z"
    }
   },
   "cell_type": "code",
   "source": [
    "from read_bucket_script import download_from_bucket\n",
    "\n",
    "prefixes_to_download = \"testfolder/\"  # Folder prefixes (e.g., \"folder/subfolder/\" or a list thereof)\n",
    "file_pattern_to_download = \"test*\"\n",
    "target_dir = \"./s3_data/\"\n",
    "download_from_bucket(prefixes_to_download, target_dir, file_pattern_to_download)\n",
    "\n"
   ],
   "id": "757231ade0a90716",
   "outputs": [
    {
     "name": "stdout",
     "output_type": "stream",
     "text": [
      "Searching in testfolder/\n",
      "Downloading testfolder/test_bucket.txt to ./s3_data/test_bucket.txt\n",
      "All files matching pattern downloaded successfully!\n"
     ]
    }
   ],
   "execution_count": 1
  }
 ],
 "metadata": {
  "kernelspec": {
   "name": "python3",
   "language": "python",
   "display_name": "Python 3 (ipykernel)"
  }
 },
 "nbformat": 5,
 "nbformat_minor": 9
}
